{
  "nbformat": 4,
  "nbformat_minor": 0,
  "metadata": {
    "colab": {
      "provenance": [],
      "collapsed_sections": [
        "6sqtzs7_p2CE"
      ],
      "authorship_tag": "ABX9TyM1x2/XB0ajbcYbtUv39aeR",
      "include_colab_link": true
    },
    "kernelspec": {
      "name": "python3",
      "display_name": "Python 3"
    },
    "language_info": {
      "name": "python"
    }
  },
  "cells": [
    {
      "cell_type": "markdown",
      "metadata": {
        "id": "view-in-github",
        "colab_type": "text"
      },
      "source": [
        "<a href=\"https://colab.research.google.com/github/rajanshresth/Learning-Repository/blob/main/python.ipynb\" target=\"_parent\"><img src=\"https://colab.research.google.com/assets/colab-badge.svg\" alt=\"Open In Colab\"/></a>"
      ]
    },
    {
      "cell_type": "markdown",
      "source": [
        "# **Introduction To Python**"
      ],
      "metadata": {
        "id": "P26eYMNZBFAU"
      }
    },
    {
      "cell_type": "markdown",
      "source": [
        "\n",
        "\n",
        "---\n",
        "\n"
      ],
      "metadata": {
        "id": "XDVrAuity_Cz"
      }
    },
    {
      "cell_type": "markdown",
      "source": [
        "This is the fist code in python"
      ],
      "metadata": {
        "id": "0Jo3W5LeAafa"
      }
    },
    {
      "cell_type": "code",
      "execution_count": null,
      "metadata": {
        "colab": {
          "base_uri": "https://localhost:8080/"
        },
        "id": "CW76buunAQyt",
        "outputId": "a944653f-cf19-4f6b-f347-494886bdfc27"
      },
      "outputs": [
        {
          "output_type": "stream",
          "name": "stdout",
          "text": [
            "\"Hello, world!\"\n"
          ]
        }
      ],
      "source": [
        "print('\"Hello, world!\"')"
      ]
    },
    {
      "cell_type": "code",
      "source": [
        "\"Hello\" + \"world\""
      ],
      "metadata": {
        "colab": {
          "base_uri": "https://localhost:8080/",
          "height": 35
        },
        "id": "6eI3MVYTA2PM",
        "outputId": "5ec9aff7-919e-4c69-dbd1-1409d911c6b9"
      },
      "execution_count": null,
      "outputs": [
        {
          "output_type": "execute_result",
          "data": {
            "text/plain": [
              "'Helloworld'"
            ],
            "application/vnd.google.colaboratory.intrinsic+json": {
              "type": "string"
            }
          },
          "metadata": {},
          "execution_count": 10
        }
      ]
    },
    {
      "cell_type": "markdown",
      "source": [
        "type"
      ],
      "metadata": {
        "id": "LhQXWs87AOdo"
      }
    },
    {
      "cell_type": "code",
      "source": [
        "type(\"Hello World\")"
      ],
      "metadata": {
        "colab": {
          "base_uri": "https://localhost:8080/"
        },
        "id": "cHjIQpAzAc6F",
        "outputId": "ff71a105-1753-40d1-c66c-1145e81de633"
      },
      "execution_count": null,
      "outputs": [
        {
          "output_type": "execute_result",
          "data": {
            "text/plain": [
              "str"
            ]
          },
          "metadata": {},
          "execution_count": 8
        }
      ]
    },
    {
      "cell_type": "code",
      "source": [
        "\"Namaste\"+\"hi\"\n",
        "print(\"hi\")"
      ],
      "metadata": {
        "colab": {
          "base_uri": "https://localhost:8080/"
        },
        "id": "zf2cDtEjBSl0",
        "outputId": "0d266f42-741e-4e47-e74d-2cac60ad384f"
      },
      "execution_count": null,
      "outputs": [
        {
          "output_type": "stream",
          "name": "stdout",
          "text": [
            "hi\n"
          ]
        }
      ]
    },
    {
      "cell_type": "code",
      "source": [
        "1+2"
      ],
      "metadata": {
        "colab": {
          "base_uri": "https://localhost:8080/"
        },
        "id": "7tpMm9SJBkZD",
        "outputId": "b7d9643c-6761-470b-d0ef-113ddb18e03f"
      },
      "execution_count": null,
      "outputs": [
        {
          "output_type": "execute_result",
          "data": {
            "text/plain": [
              "3"
            ]
          },
          "metadata": {},
          "execution_count": 14
        }
      ]
    },
    {
      "cell_type": "markdown",
      "source": [
        "\n",
        "\n",
        "---\n",
        "\n"
      ],
      "metadata": {
        "id": "j88AdvJEy9bl"
      }
    },
    {
      "cell_type": "markdown",
      "source": [
        "# **Math Opearation**\n",
        "\n",
        "---\n",
        "\n",
        "*   `+ --> addition`\n",
        "*   `- --> substraction`\n",
        "*   `* --> multiplication`\n",
        "*   `/ --> division`\n",
        "*   `// --> Floor division` it performs division and returns the integer part of the quotient\n",
        "*   `% --> modulo`It returns the remainder of a division operation between two numbers\n",
        "*   `pow(base, exponent) or base ** exponent  --> power`\n",
        "\n",
        "---"
      ],
      "metadata": {
        "id": "wxt4uzddB7S1"
      }
    },
    {
      "cell_type": "code",
      "source": [
        "type(3)"
      ],
      "metadata": {
        "colab": {
          "base_uri": "https://localhost:8080/"
        },
        "id": "HJRXJsDuCNsR",
        "outputId": "3ba5b1fc-7bc8-499b-9623-9a274ccd6bc7"
      },
      "execution_count": null,
      "outputs": [
        {
          "output_type": "execute_result",
          "data": {
            "text/plain": [
              "int"
            ]
          },
          "metadata": {},
          "execution_count": 15
        }
      ]
    },
    {
      "cell_type": "code",
      "source": [
        "type(3.1)"
      ],
      "metadata": {
        "colab": {
          "base_uri": "https://localhost:8080/"
        },
        "id": "TnIa949RCTQj",
        "outputId": "9d1ab064-d92c-4289-bf13-ba34e84016a3"
      },
      "execution_count": null,
      "outputs": [
        {
          "output_type": "execute_result",
          "data": {
            "text/plain": [
              "float"
            ]
          },
          "metadata": {},
          "execution_count": 16
        }
      ]
    },
    {
      "cell_type": "code",
      "source": [
        "type(3+13)"
      ],
      "metadata": {
        "colab": {
          "base_uri": "https://localhost:8080/"
        },
        "id": "CHnKneDsCWk9",
        "outputId": "0dd15e73-cc43-425e-c7cc-7285c45ebf64"
      },
      "execution_count": null,
      "outputs": [
        {
          "output_type": "execute_result",
          "data": {
            "text/plain": [
              "int"
            ]
          },
          "metadata": {},
          "execution_count": 18
        }
      ]
    },
    {
      "cell_type": "code",
      "source": [
        "type(3.1+4.3)"
      ],
      "metadata": {
        "colab": {
          "base_uri": "https://localhost:8080/"
        },
        "id": "UVcHX36LCeqJ",
        "outputId": "2653f57c-5b6a-4396-c946-2e59869131c3"
      },
      "execution_count": null,
      "outputs": [
        {
          "output_type": "execute_result",
          "data": {
            "text/plain": [
              "float"
            ]
          },
          "metadata": {},
          "execution_count": 21
        }
      ]
    },
    {
      "cell_type": "code",
      "source": [
        "type(3.1+4)"
      ],
      "metadata": {
        "colab": {
          "base_uri": "https://localhost:8080/"
        },
        "id": "b_1FlDiHCipj",
        "outputId": "b4aefa6a-564e-4ba6-cf0d-86ea0e7f9453"
      },
      "execution_count": null,
      "outputs": [
        {
          "output_type": "execute_result",
          "data": {
            "text/plain": [
              "float"
            ]
          },
          "metadata": {},
          "execution_count": 20
        }
      ]
    },
    {
      "cell_type": "code",
      "source": [
        "4-1"
      ],
      "metadata": {
        "colab": {
          "base_uri": "https://localhost:8080/"
        },
        "id": "_V3QsFORCozA",
        "outputId": "2d118c39-1f7b-415d-ca51-60e674be13ec"
      },
      "execution_count": null,
      "outputs": [
        {
          "output_type": "execute_result",
          "data": {
            "text/plain": [
              "3"
            ]
          },
          "metadata": {},
          "execution_count": 22
        }
      ]
    },
    {
      "cell_type": "code",
      "source": [
        "3.2-1.9"
      ],
      "metadata": {
        "colab": {
          "base_uri": "https://localhost:8080/"
        },
        "id": "78daOZP4Crox",
        "outputId": "a1b048d7-24df-4842-a273-1eb66f8ab27b"
      },
      "execution_count": null,
      "outputs": [
        {
          "output_type": "execute_result",
          "data": {
            "text/plain": [
              "1.3000000000000003"
            ]
          },
          "metadata": {},
          "execution_count": 23
        }
      ]
    },
    {
      "cell_type": "code",
      "source": [
        "3*4"
      ],
      "metadata": {
        "colab": {
          "base_uri": "https://localhost:8080/"
        },
        "id": "gNQQI36tCvt4",
        "outputId": "d2f75057-92ce-4625-cb60-2529fe8d0221"
      },
      "execution_count": null,
      "outputs": [
        {
          "output_type": "execute_result",
          "data": {
            "text/plain": [
              "12"
            ]
          },
          "metadata": {},
          "execution_count": 24
        }
      ]
    },
    {
      "cell_type": "code",
      "source": [
        "3.1*4.2"
      ],
      "metadata": {
        "colab": {
          "base_uri": "https://localhost:8080/"
        },
        "id": "T3_5GNQ2C7kf",
        "outputId": "9025df3c-96eb-4bcf-ea74-8863a2ff0e26"
      },
      "execution_count": null,
      "outputs": [
        {
          "output_type": "execute_result",
          "data": {
            "text/plain": [
              "13.020000000000001"
            ]
          },
          "metadata": {},
          "execution_count": 26
        }
      ]
    },
    {
      "cell_type": "code",
      "source": [
        "126/3"
      ],
      "metadata": {
        "colab": {
          "base_uri": "https://localhost:8080/"
        },
        "id": "9ZoKjv5wC0VH",
        "outputId": "74fd60bf-9faa-4704-cbbc-921a64a5f3dc"
      },
      "execution_count": null,
      "outputs": [
        {
          "output_type": "execute_result",
          "data": {
            "text/plain": [
              "42.0"
            ]
          },
          "metadata": {},
          "execution_count": 25
        }
      ]
    },
    {
      "cell_type": "code",
      "source": [
        "3 // 2"
      ],
      "metadata": {
        "colab": {
          "base_uri": "https://localhost:8080/"
        },
        "id": "lvBQGht-ECi4",
        "outputId": "a2a786f3-65c7-4cab-990c-48791b889a9b"
      },
      "execution_count": null,
      "outputs": [
        {
          "output_type": "execute_result",
          "data": {
            "text/plain": [
              "1"
            ]
          },
          "metadata": {},
          "execution_count": 27
        }
      ]
    },
    {
      "cell_type": "code",
      "source": [
        "5 // 2"
      ],
      "metadata": {
        "colab": {
          "base_uri": "https://localhost:8080/"
        },
        "id": "6xI8uHy0EFcO",
        "outputId": "6d68fc0c-e3e2-43a2-97ad-7e8a5c84a453"
      },
      "execution_count": null,
      "outputs": [
        {
          "output_type": "execute_result",
          "data": {
            "text/plain": [
              "2"
            ]
          },
          "metadata": {},
          "execution_count": 28
        }
      ]
    },
    {
      "cell_type": "code",
      "source": [
        "5 % 2"
      ],
      "metadata": {
        "colab": {
          "base_uri": "https://localhost:8080/"
        },
        "id": "z9keQfbsEcVs",
        "outputId": "b8f54c39-b00d-4abe-cef0-ce74db52ea74"
      },
      "execution_count": null,
      "outputs": [
        {
          "output_type": "execute_result",
          "data": {
            "text/plain": [
              "1"
            ]
          },
          "metadata": {},
          "execution_count": 29
        }
      ]
    },
    {
      "cell_type": "code",
      "source": [
        "pow(5,3)"
      ],
      "metadata": {
        "colab": {
          "base_uri": "https://localhost:8080/"
        },
        "id": "KGGMUYBfE5G9",
        "outputId": "6b83ced9-e2fb-4700-8cfc-afdf87f36c6a"
      },
      "execution_count": null,
      "outputs": [
        {
          "output_type": "execute_result",
          "data": {
            "text/plain": [
              "125"
            ]
          },
          "metadata": {},
          "execution_count": 30
        }
      ]
    },
    {
      "cell_type": "code",
      "source": [
        "5 ** 3"
      ],
      "metadata": {
        "colab": {
          "base_uri": "https://localhost:8080/"
        },
        "id": "RskueIUbE7XI",
        "outputId": "f102a14a-c761-47d8-cee8-9e3afe522acb"
      },
      "execution_count": null,
      "outputs": [
        {
          "output_type": "execute_result",
          "data": {
            "text/plain": [
              "125"
            ]
          },
          "metadata": {},
          "execution_count": 31
        }
      ]
    },
    {
      "cell_type": "markdown",
      "source": [
        "\n",
        "\n",
        "---\n",
        "\n"
      ],
      "metadata": {
        "id": "bRcYcMLpy7D3"
      }
    },
    {
      "cell_type": "markdown",
      "source": [
        "# **Variable**\n",
        "\n",
        "\n",
        "---\n",
        "\n",
        "\n",
        "\n",
        "*Data types of variables:*\n",
        "\n",
        "1.   `int`: Integers (e.g., 10, -5, 0)\n",
        "2.   `float`: Floating-point numbers (e.g., 3.14, -0.5, 2.0)\n",
        "3.   `str`: Strings (e.g., \"hello\", 'world')\n",
        "4.   `bool`: Booleans (True or False)\n",
        "5.   `list`: Ordered, mutable sequences of items (e.g.,, ['a', 'b', 'c'])\n",
        "6.   `tuple`: Ordered, immutable sequences of items (e.g., (1, 2, 3), ('x', 'y', 'z'))\n",
        "7.   `dict`: Unordered collections of key-value pairs (e.g., {'name': 'Alice', 'age': 30})\n",
        "\n",
        "\n",
        "\n",
        "---\n",
        "\n",
        "\n",
        "*Scope of variables:*\n",
        "1.   `Global variables`\n",
        "are defined outside of any function and can be accessed from anywhere in the program.\n",
        "2.   `Local variables`\n",
        "are defined within a function and can only be accessed within that function.\n",
        "\n",
        "---\n",
        "\n",
        "\n",
        "***example:***\n",
        "\n",
        "\n",
        "```python\n",
        "  # Global variable\n",
        "  global_var = 100\n",
        "\n",
        "  def my_function():\n",
        "      # Local variable\n",
        "      local_var = 50\n",
        "      print(\"Inside function:\")\n",
        "      print(\"Global variable:\", global_var)\n",
        "      print(\"Local variable:\", local_var)\n",
        "\n",
        "  my_function()\n",
        "\n",
        "  print(\"Outside function:\")\n",
        "  print(\"Global variable:\", global_var)\n",
        "  # print(\"Local variable:\", local_var) # This would cause an error\n",
        "```\n",
        "\n",
        "---\n",
        "\n",
        "\n"
      ],
      "metadata": {
        "id": "sRL5jZsOJJQW"
      }
    },
    {
      "cell_type": "code",
      "source": [
        "y = 5\n",
        "print(5)"
      ],
      "metadata": {
        "colab": {
          "base_uri": "https://localhost:8080/"
        },
        "id": "mCmC9H-hI-aw",
        "outputId": "ed081be9-6d0b-4541-bf52-e47aeeee8511"
      },
      "execution_count": null,
      "outputs": [
        {
          "output_type": "stream",
          "name": "stdout",
          "text": [
            "5\n"
          ]
        }
      ]
    },
    {
      "cell_type": "code",
      "source": [
        "name = \"Alice\"\n",
        "age = 30\n",
        "height = 1.65\n",
        "is_student = False\n"
      ],
      "metadata": {
        "id": "Bi31FL8lfvwT"
      },
      "execution_count": null,
      "outputs": []
    },
    {
      "cell_type": "code",
      "source": [
        "name"
      ],
      "metadata": {
        "colab": {
          "base_uri": "https://localhost:8080/",
          "height": 35
        },
        "id": "POUB7IIKf6Hp",
        "outputId": "b92d9c03-15a8-426b-b8e0-de1c7f95cc25"
      },
      "execution_count": null,
      "outputs": [
        {
          "output_type": "execute_result",
          "data": {
            "text/plain": [
              "'Alice'"
            ],
            "application/vnd.google.colaboratory.intrinsic+json": {
              "type": "string"
            }
          },
          "metadata": {},
          "execution_count": 6
        }
      ]
    },
    {
      "cell_type": "code",
      "source": [
        "age"
      ],
      "metadata": {
        "colab": {
          "base_uri": "https://localhost:8080/"
        },
        "id": "2C-Cy0pfgA3j",
        "outputId": "a0f7afcb-f837-4032-c545-1c646c30d2a1"
      },
      "execution_count": null,
      "outputs": [
        {
          "output_type": "execute_result",
          "data": {
            "text/plain": [
              "30"
            ]
          },
          "metadata": {},
          "execution_count": 7
        }
      ]
    },
    {
      "cell_type": "code",
      "source": [
        "height"
      ],
      "metadata": {
        "colab": {
          "base_uri": "https://localhost:8080/"
        },
        "id": "JSJzQrZFgCCQ",
        "outputId": "9a269e21-feeb-426e-ffea-212e7affd1dd"
      },
      "execution_count": null,
      "outputs": [
        {
          "output_type": "execute_result",
          "data": {
            "text/plain": [
              "1.65"
            ]
          },
          "metadata": {},
          "execution_count": 8
        }
      ]
    },
    {
      "cell_type": "code",
      "source": [
        "is_student"
      ],
      "metadata": {
        "colab": {
          "base_uri": "https://localhost:8080/"
        },
        "id": "Y9Z1k-KFgDTN",
        "outputId": "0b7f783d-55f8-434d-f9c7-823b7a295d3d"
      },
      "execution_count": null,
      "outputs": [
        {
          "output_type": "execute_result",
          "data": {
            "text/plain": [
              "False"
            ]
          },
          "metadata": {},
          "execution_count": 10
        }
      ]
    },
    {
      "cell_type": "code",
      "source": [
        "not True"
      ],
      "metadata": {
        "colab": {
          "base_uri": "https://localhost:8080/"
        },
        "id": "uJex1oljgxB-",
        "outputId": "2741a04b-5398-4c03-afa8-7a2ec3585f20"
      },
      "execution_count": null,
      "outputs": [
        {
          "output_type": "execute_result",
          "data": {
            "text/plain": [
              "False"
            ]
          },
          "metadata": {},
          "execution_count": 11
        }
      ]
    },
    {
      "cell_type": "code",
      "source": [
        "not False"
      ],
      "metadata": {
        "colab": {
          "base_uri": "https://localhost:8080/"
        },
        "id": "1r7qz1WIgyaA",
        "outputId": "9129b894-cbdf-4000-eba0-d36c943464d8"
      },
      "execution_count": null,
      "outputs": [
        {
          "output_type": "execute_result",
          "data": {
            "text/plain": [
              "True"
            ]
          },
          "metadata": {},
          "execution_count": 12
        }
      ]
    },
    {
      "cell_type": "markdown",
      "source": [
        "\n",
        "\n",
        "> List in python `my_list = [1, \"hello\", 3.4, True]`\n"
      ],
      "metadata": {
        "id": "yicXkNJ1lDhM"
      }
    },
    {
      "cell_type": "code",
      "source": [
        "grocery_list = [\"apples\", \"bananas\", \"milk\", \"bread\"]\n",
        "\n",
        "grocery_list"
      ],
      "metadata": {
        "colab": {
          "base_uri": "https://localhost:8080/"
        },
        "id": "T0TrOqFWlC_y",
        "outputId": "74625f34-cde4-4f89-b290-9f5bae6a96c0"
      },
      "execution_count": null,
      "outputs": [
        {
          "output_type": "execute_result",
          "data": {
            "text/plain": [
              "['apples', 'bananas', 'milk', 'bread']"
            ]
          },
          "metadata": {},
          "execution_count": 28
        }
      ]
    },
    {
      "cell_type": "code",
      "source": [
        "grocery_list.append(\"eggs\")\n",
        "\n",
        "grocery_list"
      ],
      "metadata": {
        "colab": {
          "base_uri": "https://localhost:8080/"
        },
        "id": "HXteVpkCmUwq",
        "outputId": "44e5fbad-2ff6-4850-f241-f9b58bd59e80"
      },
      "execution_count": null,
      "outputs": [
        {
          "output_type": "execute_result",
          "data": {
            "text/plain": [
              "['apples', 'bananas', 'milk', 'bread', 'eggs', 'eggs', 'eggs']"
            ]
          },
          "metadata": {},
          "execution_count": 31
        }
      ]
    },
    {
      "cell_type": "code",
      "source": [
        "type(grocery_list)"
      ],
      "metadata": {
        "colab": {
          "base_uri": "https://localhost:8080/"
        },
        "id": "HeBt5_LCmfqv",
        "outputId": "38db82b0-85d0-4221-e4f5-8ee8624f4ac8"
      },
      "execution_count": null,
      "outputs": [
        {
          "output_type": "execute_result",
          "data": {
            "text/plain": [
              "list"
            ]
          },
          "metadata": {},
          "execution_count": 32
        }
      ]
    },
    {
      "cell_type": "code",
      "source": [
        "grocery_list[0]"
      ],
      "metadata": {
        "colab": {
          "base_uri": "https://localhost:8080/",
          "height": 35
        },
        "id": "nzkZL0__mkb8",
        "outputId": "5f57c898-425f-4b3d-9ab2-2575f51c7787"
      },
      "execution_count": null,
      "outputs": [
        {
          "output_type": "execute_result",
          "data": {
            "text/plain": [
              "'apples'"
            ],
            "application/vnd.google.colaboratory.intrinsic+json": {
              "type": "string"
            }
          },
          "metadata": {},
          "execution_count": 40
        }
      ]
    },
    {
      "cell_type": "markdown",
      "source": [
        "\n",
        "\n",
        "---\n",
        "\n",
        "\n",
        "*`python doesn't have build-in array but list can be used as array.`*\n",
        "\n",
        "\n",
        "---\n",
        "\n"
      ],
      "metadata": {
        "id": "QGJXh0V-m-Nk"
      }
    },
    {
      "cell_type": "markdown",
      "source": [
        "# **Conditions and If statements**\n",
        "\n",
        "\n",
        "---\n",
        "\n",
        "\n",
        "Python supports the usual *`logical conditions`* from mathematics:\n",
        "\n",
        "*   Equals: `a == b`\n",
        "*   Not Equals: `a != b`\n",
        "*   Less than: `a < b`\n",
        "*   Less than or equal to: `a <= b`\n",
        "*   Greater than: `a > b`\n",
        "*   Greater than or equal to: `a >= b`\n",
        "\n",
        "\n",
        "---\n",
        "\n",
        "An *`\"if statement\"`* is written by using the `if` keyword.\n",
        "\n",
        "\n",
        "---\n"
      ],
      "metadata": {
        "id": "xT-eVgZIhdrk"
      }
    },
    {
      "cell_type": "code",
      "source": [
        "5 >= 3.1"
      ],
      "metadata": {
        "colab": {
          "base_uri": "https://localhost:8080/"
        },
        "id": "qEY7ewWZhdHv",
        "outputId": "dd818935-c073-4edd-ad45-6e6710d1a17b"
      },
      "execution_count": null,
      "outputs": [
        {
          "output_type": "execute_result",
          "data": {
            "text/plain": [
              "True"
            ]
          },
          "metadata": {},
          "execution_count": 13
        }
      ]
    },
    {
      "cell_type": "code",
      "source": [
        "4.7 <= 1.3"
      ],
      "metadata": {
        "colab": {
          "base_uri": "https://localhost:8080/"
        },
        "id": "rzsxvVyFjR-V",
        "outputId": "1050ad7d-e6c7-4d4b-b8bc-55e4d6774b08"
      },
      "execution_count": null,
      "outputs": [
        {
          "output_type": "execute_result",
          "data": {
            "text/plain": [
              "False"
            ]
          },
          "metadata": {},
          "execution_count": 15
        }
      ]
    },
    {
      "cell_type": "code",
      "source": [
        "5.3 <= 5.3"
      ],
      "metadata": {
        "colab": {
          "base_uri": "https://localhost:8080/"
        },
        "id": "9UtJeFYMjX14",
        "outputId": "d54e48c4-dbc6-4ab2-91a2-37d3dbc0667f"
      },
      "execution_count": null,
      "outputs": [
        {
          "output_type": "execute_result",
          "data": {
            "text/plain": [
              "True"
            ]
          },
          "metadata": {},
          "execution_count": 17
        }
      ]
    },
    {
      "cell_type": "code",
      "source": [
        "5.2 != 4.2"
      ],
      "metadata": {
        "colab": {
          "base_uri": "https://localhost:8080/"
        },
        "id": "-T5exdVkjfFf",
        "outputId": "82295758-6ca5-42c6-fd2e-8a37c29d84a4"
      },
      "execution_count": null,
      "outputs": [
        {
          "output_type": "execute_result",
          "data": {
            "text/plain": [
              "True"
            ]
          },
          "metadata": {},
          "execution_count": 18
        }
      ]
    },
    {
      "cell_type": "code",
      "source": [
        "\"love\" != \"hate\""
      ],
      "metadata": {
        "colab": {
          "base_uri": "https://localhost:8080/"
        },
        "id": "JR3haXFmjjLy",
        "outputId": "b76fec27-3c09-440c-a153-ffb37de2daae"
      },
      "execution_count": null,
      "outputs": [
        {
          "output_type": "execute_result",
          "data": {
            "text/plain": [
              "True"
            ]
          },
          "metadata": {},
          "execution_count": 19
        }
      ]
    },
    {
      "cell_type": "code",
      "source": [
        "\"you\" != \"you\""
      ],
      "metadata": {
        "colab": {
          "base_uri": "https://localhost:8080/"
        },
        "id": "Wc4ekTPPjpTw",
        "outputId": "254c427b-5ba3-4c83-8d07-cd4cc80c8bc6"
      },
      "execution_count": null,
      "outputs": [
        {
          "output_type": "execute_result",
          "data": {
            "text/plain": [
              "False"
            ]
          },
          "metadata": {},
          "execution_count": 20
        }
      ]
    },
    {
      "cell_type": "code",
      "source": [
        "a = 10\n",
        "b = 10\n",
        "\n",
        "a == b # equal to"
      ],
      "metadata": {
        "colab": {
          "base_uri": "https://localhost:8080/"
        },
        "id": "1_-cJlq_jzvW",
        "outputId": "9d263835-9a29-4e4d-fc73-7ac68ebf2af4"
      },
      "execution_count": null,
      "outputs": [
        {
          "output_type": "execute_result",
          "data": {
            "text/plain": [
              "True"
            ]
          },
          "metadata": {},
          "execution_count": 22
        }
      ]
    },
    {
      "cell_type": "code",
      "source": [
        "x = 5\n",
        "y = 10\n",
        "\n",
        "if(x < y):\n",
        "  print(\"x is less than y\")"
      ],
      "metadata": {
        "colab": {
          "base_uri": "https://localhost:8080/"
        },
        "id": "5Ki3vwsfkAio",
        "outputId": "3008fc2e-7dfa-4229-dbca-c877a8c63131"
      },
      "execution_count": null,
      "outputs": [
        {
          "output_type": "stream",
          "name": "stdout",
          "text": [
            "x is less than y\n"
          ]
        }
      ]
    },
    {
      "cell_type": "code",
      "source": [
        "if False:\n",
        "  print(\"1\")\n",
        "  print(\"2\")\n",
        "\n",
        "print(\"3\")"
      ],
      "metadata": {
        "colab": {
          "base_uri": "https://localhost:8080/"
        },
        "id": "ScxbzjF1kafQ",
        "outputId": "4ee71655-57c8-4260-d090-1dc84d108e0b"
      },
      "execution_count": null,
      "outputs": [
        {
          "output_type": "stream",
          "name": "stdout",
          "text": [
            "3\n"
          ]
        }
      ]
    },
    {
      "cell_type": "markdown",
      "source": [
        "\n",
        "\n",
        "---\n",
        "\n"
      ],
      "metadata": {
        "id": "Yt9_GKofy1M6"
      }
    },
    {
      "cell_type": "markdown",
      "source": [
        "# **Loops**\n",
        "\n",
        "---\n",
        "\n",
        "1. `For Loop:`A for loop is used to iterate over a sequence (such as a list, tuple, string, or range) or other iterable objects.\n",
        "\n",
        "  ```python\n",
        "  # Syntax of for loop\n",
        "  for item in sequence:\n",
        "      # Code to be executed for each item\n",
        "  ```\n",
        "\n",
        "---\n",
        "\n",
        "2. `While Loop:` A while loop is used to repeatedly execute a block of code as long as a condition is true.\n",
        "\n",
        "  ```python\n",
        "  # Syntax of while loop\n",
        "  while condition:\n",
        "      # Code to be executed while the condition is true\n",
        "  ```\n",
        "\n",
        "---\n",
        "\n",
        "3. `Else Clause in Loops:` Python allows an else clause to be used with both `for` and `while loops`. The `else` block is executed after the loop completes normally (i.e., without encountering a break statement). If the loop is terminated prematurely by a `break` statement, the `else` block will not be executed.\n",
        "\n",
        "  ```python\n",
        "  for i in range(5):\n",
        "      print(i)\n",
        "  else:\n",
        "      print(\"Loop completed successfully\")\n",
        "  ```\n",
        "\n",
        "---"
      ],
      "metadata": {
        "id": "Hlb-gfX7naaQ"
      }
    },
    {
      "cell_type": "code",
      "source": [
        "for item in grocery_list:\n",
        "  print(item)"
      ],
      "metadata": {
        "colab": {
          "base_uri": "https://localhost:8080/"
        },
        "id": "iGG-h26_pOqb",
        "outputId": "793695a8-3c6c-4f82-94a3-3f0c2d19c346"
      },
      "execution_count": null,
      "outputs": [
        {
          "output_type": "stream",
          "name": "stdout",
          "text": [
            "apples\n",
            "bananas\n",
            "milk\n",
            "bread\n",
            "eggs\n",
            "eggs\n",
            "eggs\n"
          ]
        }
      ]
    },
    {
      "cell_type": "code",
      "source": [
        "for i in range(5):\n",
        "  print(grocery_list[i])"
      ],
      "metadata": {
        "colab": {
          "base_uri": "https://localhost:8080/"
        },
        "id": "iFpk7GiTpj5P",
        "outputId": "bb9e725b-c07f-40cb-e385-737fc011135a"
      },
      "execution_count": null,
      "outputs": [
        {
          "output_type": "stream",
          "name": "stdout",
          "text": [
            "apples\n",
            "bananas\n",
            "milk\n",
            "bread\n",
            "eggs\n"
          ]
        }
      ]
    },
    {
      "cell_type": "code",
      "source": [
        "list(range(len(grocery_list)))"
      ],
      "metadata": {
        "colab": {
          "base_uri": "https://localhost:8080/"
        },
        "id": "4yXfFQb_wHUH",
        "outputId": "3751b92d-a286-4429-cc33-dce3f1d02fa3"
      },
      "execution_count": null,
      "outputs": [
        {
          "output_type": "execute_result",
          "data": {
            "text/plain": [
              "[0, 1, 2, 3, 4, 5, 6]"
            ]
          },
          "metadata": {},
          "execution_count": 48
        }
      ]
    },
    {
      "cell_type": "code",
      "source": [
        "for i, item in enumerate(grocery_list):\n",
        "  print(i, item)"
      ],
      "metadata": {
        "colab": {
          "base_uri": "https://localhost:8080/"
        },
        "id": "KqAMSSIKwuBQ",
        "outputId": "a667e3eb-3615-4381-fcf9-ace1350b05e1"
      },
      "execution_count": null,
      "outputs": [
        {
          "output_type": "stream",
          "name": "stdout",
          "text": [
            "0 apples\n",
            "1 bananas\n",
            "2 milk\n",
            "3 bread\n",
            "4 eggs\n",
            "5 eggs\n",
            "6 eggs\n"
          ]
        }
      ]
    },
    {
      "cell_type": "code",
      "source": [
        "i = 0\n",
        "i += 1\n",
        "i"
      ],
      "metadata": {
        "colab": {
          "base_uri": "https://localhost:8080/"
        },
        "id": "x9-oXFfgw9_g",
        "outputId": "f58839f3-8c36-4aa8-ad22-9e57b239f119"
      },
      "execution_count": null,
      "outputs": [
        {
          "output_type": "execute_result",
          "data": {
            "text/plain": [
              "1"
            ]
          },
          "metadata": {},
          "execution_count": 58
        }
      ]
    },
    {
      "cell_type": "code",
      "source": [
        "i += 1\n",
        "i"
      ],
      "metadata": {
        "colab": {
          "base_uri": "https://localhost:8080/"
        },
        "id": "A0hiOiKGxAyU",
        "outputId": "b2dc36fa-6cda-484d-b041-5e5cc8a7ccdf"
      },
      "execution_count": null,
      "outputs": [
        {
          "output_type": "execute_result",
          "data": {
            "text/plain": [
              "2"
            ]
          },
          "metadata": {},
          "execution_count": 59
        }
      ]
    },
    {
      "cell_type": "code",
      "source": [
        "i -= 1\n",
        "i"
      ],
      "metadata": {
        "colab": {
          "base_uri": "https://localhost:8080/",
          "height": 158
        },
        "id": "iguoYJdMxCab",
        "outputId": "ac02ac0b-7dee-4706-cba4-5fe06e3c7d70"
      },
      "execution_count": null,
      "outputs": [
        {
          "output_type": "error",
          "ename": "NameError",
          "evalue": "name 'i' is not defined",
          "traceback": [
            "\u001b[0;31m---------------------------------------------------------------------------\u001b[0m",
            "\u001b[0;31mNameError\u001b[0m                                 Traceback (most recent call last)",
            "\u001b[0;32m<ipython-input-1-e0babde1f2c1>\u001b[0m in \u001b[0;36m<cell line: 0>\u001b[0;34m()\u001b[0m\n\u001b[0;32m----> 1\u001b[0;31m \u001b[0mi\u001b[0m \u001b[0;34m-=\u001b[0m \u001b[0;36m1\u001b[0m\u001b[0;34m\u001b[0m\u001b[0;34m\u001b[0m\u001b[0m\n\u001b[0m\u001b[1;32m      2\u001b[0m \u001b[0mi\u001b[0m\u001b[0;34m\u001b[0m\u001b[0;34m\u001b[0m\u001b[0m\n",
            "\u001b[0;31mNameError\u001b[0m: name 'i' is not defined"
          ]
        }
      ]
    },
    {
      "cell_type": "code",
      "source": [
        "# table multiplication\n",
        "\n",
        "num = int(input(\"Enter a number: \"))\n",
        "\n",
        "# Loop from 1 to 10\n",
        "for i in range(1, 11):\n",
        "    print(f\"{num} x {i} = {num * i}\")\n"
      ],
      "metadata": {
        "colab": {
          "base_uri": "https://localhost:8080/"
        },
        "id": "UoRypfvWuYvg",
        "outputId": "06cf22bb-33a6-4f65-80ef-390221c9ac34"
      },
      "execution_count": null,
      "outputs": [
        {
          "output_type": "stream",
          "name": "stdout",
          "text": [
            "Enter a number: 5\n",
            "5 x 1 = 5\n",
            "5 x 2 = 10\n",
            "5 x 3 = 15\n",
            "5 x 4 = 20\n",
            "5 x 5 = 25\n",
            "5 x 6 = 30\n",
            "5 x 7 = 35\n",
            "5 x 8 = 40\n",
            "5 x 9 = 45\n",
            "5 x 10 = 50\n"
          ]
        }
      ]
    },
    {
      "cell_type": "markdown",
      "source": [
        "\n",
        "\n",
        "---\n",
        "\n"
      ],
      "metadata": {
        "id": "Cxml34noyugS"
      }
    },
    {
      "cell_type": "code",
      "source": [
        "j = len(grocery_list)-1\n",
        "\n",
        "while j>=0:\n",
        "  print(grocery_list[j])\n",
        "  j -= 1"
      ],
      "metadata": {
        "colab": {
          "base_uri": "https://localhost:8080/"
        },
        "id": "sIJdYqY_xQ0r",
        "outputId": "0e8d5a54-3387-4c8b-e5a6-169d55362a93"
      },
      "execution_count": null,
      "outputs": [
        {
          "output_type": "stream",
          "name": "stdout",
          "text": [
            "eggs\n",
            "eggs\n",
            "eggs\n",
            "bread\n",
            "milk\n",
            "bananas\n",
            "apples\n"
          ]
        }
      ]
    },
    {
      "cell_type": "code",
      "source": [
        "i = 0\n",
        "\n",
        "while i < len(grocery_list):\n",
        "  print(grocery_list[i])\n",
        "  i += 1"
      ],
      "metadata": {
        "colab": {
          "base_uri": "https://localhost:8080/"
        },
        "id": "L1YKBY7RyXqu",
        "outputId": "e694b23e-6a0e-4735-ff13-81e62febea68"
      },
      "execution_count": null,
      "outputs": [
        {
          "output_type": "stream",
          "name": "stdout",
          "text": [
            "apples\n",
            "bananas\n",
            "milk\n",
            "bread\n",
            "eggs\n",
            "eggs\n",
            "eggs\n"
          ]
        }
      ]
    },
    {
      "cell_type": "code",
      "source": [
        "i=int(input(\"Enter a number: \"))\n",
        "j=1\n",
        "\n",
        "while(j<11):\n",
        "  print(i*j)\n",
        "  j+=1"
      ],
      "metadata": {
        "colab": {
          "base_uri": "https://localhost:8080/"
        },
        "id": "-B0FyRp-vfo4",
        "outputId": "d7f69a23-f58a-4b6a-ff7c-92678fa9b81b"
      },
      "execution_count": null,
      "outputs": [
        {
          "output_type": "stream",
          "name": "stdout",
          "text": [
            "Enter a number: 6\n",
            "6\n",
            "12\n",
            "18\n",
            "24\n",
            "30\n",
            "36\n",
            "42\n",
            "48\n",
            "54\n",
            "60\n"
          ]
        }
      ]
    },
    {
      "cell_type": "markdown",
      "source": [
        "\n",
        "\n",
        "---\n",
        "\n"
      ],
      "metadata": {
        "id": "Uv_FqormywZ8"
      }
    },
    {
      "cell_type": "code",
      "source": [
        "age = 13\n",
        "\n",
        "if (age >= 1) and (age <= 4):\n",
        "  print(\"New Born\")\n",
        "elif (age >= 5) and (age <= 12):\n",
        "  print(\"Young\")\n",
        "elif (age >= 13) and (age <=19):\n",
        "  print(\"Teen\")\n",
        "else:\n",
        "  print(\"Adult\")\n",
        "\n",
        "print(\"end\")"
      ],
      "metadata": {
        "colab": {
          "base_uri": "https://localhost:8080/"
        },
        "id": "vjGFvhS2yyH7",
        "outputId": "98c2b4f0-94dc-453e-c26d-b18576590677"
      },
      "execution_count": null,
      "outputs": [
        {
          "output_type": "stream",
          "name": "stdout",
          "text": [
            "Teen\n",
            "end\n"
          ]
        }
      ]
    },
    {
      "cell_type": "markdown",
      "source": [
        "---\n",
        "\n",
        "*if the first condition is true then the first statement will one run.`example:`*\n",
        "\n",
        "  ```python\n",
        "  if True:\n",
        "    print(1)\n",
        "  elif False:\n",
        "    print(2)\n",
        "  else:\n",
        "    print(3)\n",
        "\n",
        "  print(\"end\")\n",
        "  ```\n",
        "  `output: 1  end`\n",
        "\n",
        "  ---\n",
        "\n",
        "*if the fist condition is false then the next condition will run until the next one is true. `example:`*\n",
        "\n",
        "```python\n",
        "  if False:\n",
        "    print(1)\n",
        "  elif False:\n",
        "    print(2)\n",
        "  elif True:\n",
        "    print(3)\n",
        "  else:\n",
        "    print(4)\n",
        "\n",
        "  print(\"end\")\n",
        "```\n",
        "`output: 3 end`\n",
        "\n",
        "---\n"
      ],
      "metadata": {
        "id": "mY07JtHVzkum"
      }
    },
    {
      "cell_type": "code",
      "source": [
        "True or False"
      ],
      "metadata": {
        "colab": {
          "base_uri": "https://localhost:8080/"
        },
        "id": "_IPIaDoYzLKQ",
        "outputId": "1fb2d916-87f5-4e7a-c25b-c429aae7efe5"
      },
      "execution_count": null,
      "outputs": [
        {
          "output_type": "execute_result",
          "data": {
            "text/plain": [
              "True"
            ]
          },
          "metadata": {},
          "execution_count": 70
        }
      ]
    },
    {
      "cell_type": "code",
      "source": [
        "True or True"
      ],
      "metadata": {
        "colab": {
          "base_uri": "https://localhost:8080/"
        },
        "id": "i3-KXIy31QEd",
        "outputId": "342f96d0-98ea-4ba8-8cef-71c73d3fb22c"
      },
      "execution_count": null,
      "outputs": [
        {
          "output_type": "execute_result",
          "data": {
            "text/plain": [
              "True"
            ]
          },
          "metadata": {},
          "execution_count": 71
        }
      ]
    },
    {
      "cell_type": "code",
      "source": [
        "False or True"
      ],
      "metadata": {
        "colab": {
          "base_uri": "https://localhost:8080/"
        },
        "id": "QYZ79H-u1TL9",
        "outputId": "203d6ccf-eb1d-4c66-b7a9-be928ef2cd8d"
      },
      "execution_count": null,
      "outputs": [
        {
          "output_type": "execute_result",
          "data": {
            "text/plain": [
              "True"
            ]
          },
          "metadata": {},
          "execution_count": 72
        }
      ]
    },
    {
      "cell_type": "code",
      "source": [
        "False or False"
      ],
      "metadata": {
        "colab": {
          "base_uri": "https://localhost:8080/"
        },
        "id": "rXSRtBS_1Vnj",
        "outputId": "7cb627ee-0201-460f-8d35-24a05c5a26b4"
      },
      "execution_count": null,
      "outputs": [
        {
          "output_type": "execute_result",
          "data": {
            "text/plain": [
              "False"
            ]
          },
          "metadata": {},
          "execution_count": 73
        }
      ]
    },
    {
      "cell_type": "code",
      "source": [
        "True and False"
      ],
      "metadata": {
        "colab": {
          "base_uri": "https://localhost:8080/"
        },
        "id": "I2334qUO1Xaq",
        "outputId": "45edd680-e1a4-4ae8-9e4e-55be3f4282ed"
      },
      "execution_count": null,
      "outputs": [
        {
          "output_type": "execute_result",
          "data": {
            "text/plain": [
              "False"
            ]
          },
          "metadata": {},
          "execution_count": 74
        }
      ]
    },
    {
      "cell_type": "code",
      "source": [
        "False and True"
      ],
      "metadata": {
        "colab": {
          "base_uri": "https://localhost:8080/"
        },
        "id": "9Qn9IOsV1aF7",
        "outputId": "86d0182c-1715-47c8-ed93-ad0c09e25004"
      },
      "execution_count": null,
      "outputs": [
        {
          "output_type": "execute_result",
          "data": {
            "text/plain": [
              "False"
            ]
          },
          "metadata": {},
          "execution_count": 75
        }
      ]
    },
    {
      "cell_type": "code",
      "source": [
        "True and True"
      ],
      "metadata": {
        "colab": {
          "base_uri": "https://localhost:8080/"
        },
        "id": "h8f_SwGH1ZHI",
        "outputId": "ed15e5a0-6331-492f-b54c-d447d4dc8e4e"
      },
      "execution_count": null,
      "outputs": [
        {
          "output_type": "execute_result",
          "data": {
            "text/plain": [
              "True"
            ]
          },
          "metadata": {},
          "execution_count": 76
        }
      ]
    },
    {
      "cell_type": "code",
      "source": [
        "False and False"
      ],
      "metadata": {
        "colab": {
          "base_uri": "https://localhost:8080/"
        },
        "id": "z84qEWCf1dLS",
        "outputId": "9f1ee382-94b0-4232-9eaf-322e8ecc99ef"
      },
      "execution_count": null,
      "outputs": [
        {
          "output_type": "execute_result",
          "data": {
            "text/plain": [
              "False"
            ]
          },
          "metadata": {},
          "execution_count": 77
        }
      ]
    },
    {
      "cell_type": "code",
      "source": [
        "not False"
      ],
      "metadata": {
        "colab": {
          "base_uri": "https://localhost:8080/"
        },
        "id": "nAWjS_Qr4UW0",
        "outputId": "61f8e9ec-dc01-4f58-f9b7-af28690adbfe"
      },
      "execution_count": null,
      "outputs": [
        {
          "output_type": "execute_result",
          "data": {
            "text/plain": [
              "True"
            ]
          },
          "metadata": {},
          "execution_count": 101
        }
      ]
    },
    {
      "cell_type": "code",
      "source": [
        "True is not False"
      ],
      "metadata": {
        "colab": {
          "base_uri": "https://localhost:8080/"
        },
        "id": "N57gOc7f1ek9",
        "outputId": "03be8e7c-6725-47e0-8f58-dabc944407d1"
      },
      "execution_count": null,
      "outputs": [
        {
          "output_type": "execute_result",
          "data": {
            "text/plain": [
              "True"
            ]
          },
          "metadata": {},
          "execution_count": 100
        }
      ]
    },
    {
      "cell_type": "markdown",
      "source": [
        "# functions\n",
        "---\n",
        "***Function in python***\n",
        "`Functions` are defined using the `def` keyword, followed by the function name, parentheses `()`, and a colon `:`. The function body, containing the code to be executed, is indented below the definition line.\n",
        "\n",
        "```python\n",
        "def greet(name):\n",
        "    \"\"\"This function greets the person passed in as a parameter.\"\"\"\n",
        "    print(f\"Hello, {name}!\")\n",
        "```\n",
        "\n",
        "---\n",
        "\n",
        "***What does define function mean?***\n",
        "\n",
        "means `creating a reusable block of code that performs a specific task.`\n",
        "\n",
        "`def` keyword is used to define function in python.\n",
        "\n",
        "---\n",
        "\n",
        "***What does calling a function mean?***\n",
        "\n",
        "means `to call for a function without retrieving its value.`\n",
        "\n",
        "---\n",
        "\n",
        "***What does invoking a funtion mean?***\n",
        "\n",
        "means `executing a function to retrieve its value.`\n",
        "\n",
        "```python\n",
        "def add(a,b):\n",
        "  print(a+b)\n",
        "\n",
        "add(1,2)\n",
        "# output: 3\n",
        "```\n",
        "---\n",
        "***What does Function Arguments mean?***\n",
        "\n",
        "`Positional arguments:`\n",
        "These arguments are passed to the function in the order they are defined.\n",
        "\n",
        "`Keyword arguments:`\n",
        "These arguments are passed with the parameter name, allowing them to be passed out of order.\n",
        "\n",
        "`Default arguments:`\n",
        "These arguments have a default value assigned in the function definition, used when no argument is provided in the function call.\n",
        "\n",
        "`Variable-length arguments:`\n",
        "\n",
        " 1. `*args:` Used to pass a variable number of non-keyword arguments.\n",
        "\n",
        " 2. `**kwargs:` Used to pass a variable number of keyword arguments.\n",
        "\n",
        "---\n",
        "\n",
        " ***Parameter vs Argument***\n",
        "\n",
        " A `parameter` is a placeholder, a variable name used within a function definition to represent an input value. An `argument` is the actual value that is passed to the function when it is called, and that value is then assigned to the corresponding parameter"
      ],
      "metadata": {
        "id": "j04F5Ryo4blr"
      }
    },
    {
      "cell_type": "code",
      "source": [
        "def function_name(parameters):\n",
        "\n",
        "    return print(parameters)\n",
        "\n",
        "function_name(\"rajan\");"
      ],
      "metadata": {
        "colab": {
          "base_uri": "https://localhost:8080/"
        },
        "id": "pq83Dp8HnVk2",
        "outputId": "abb670dd-4634-4ec4-dd77-64bfdb1b89fc"
      },
      "execution_count": null,
      "outputs": [
        {
          "output_type": "stream",
          "name": "stdout",
          "text": [
            "rajan\n"
          ]
        }
      ]
    },
    {
      "cell_type": "code",
      "source": [
        "a = 10\n",
        "def sim(b):\n",
        "  print(a)\n",
        "  print(b)\n",
        "  print(c)\n",
        "  print(z)\n",
        "\n",
        "sim(20)\n",
        "\n",
        "c = 30"
      ],
      "metadata": {
        "colab": {
          "base_uri": "https://localhost:8080/"
        },
        "id": "BrJovv6poBt2",
        "outputId": "846e5c9a-adf9-467c-97b2-69aaf0331432"
      },
      "execution_count": null,
      "outputs": [
        {
          "output_type": "stream",
          "name": "stdout",
          "text": [
            "10\n",
            "20\n",
            "30\n",
            "12\n"
          ]
        }
      ]
    },
    {
      "cell_type": "code",
      "source": [
        "z=12\n",
        "z"
      ],
      "metadata": {
        "colab": {
          "base_uri": "https://localhost:8080/"
        },
        "id": "D_U9LrsAoyHp",
        "outputId": "f95f7f50-65d2-4bca-998f-6424c96678ec"
      },
      "execution_count": null,
      "outputs": [
        {
          "output_type": "execute_result",
          "data": {
            "text/plain": [
              "12"
            ]
          },
          "metadata": {},
          "execution_count": 14
        }
      ]
    },
    {
      "cell_type": "code",
      "source": [
        "def multi(a,b):\n",
        "  print(a*b)\n",
        "\n",
        "multi(2,3)"
      ],
      "metadata": {
        "colab": {
          "base_uri": "https://localhost:8080/"
        },
        "id": "f-Jw5IgRpDg8",
        "outputId": "d107d82f-26cb-4d59-daa8-0ec5bf05251d"
      },
      "execution_count": null,
      "outputs": [
        {
          "output_type": "stream",
          "name": "stdout",
          "text": [
            "6\n"
          ]
        }
      ]
    },
    {
      "cell_type": "code",
      "source": [
        "print(multi(3,4))"
      ],
      "metadata": {
        "colab": {
          "base_uri": "https://localhost:8080/"
        },
        "id": "Y86aXmRrpRVm",
        "outputId": "c061b08d-c1dd-4701-f541-dc497c9d6878"
      },
      "execution_count": null,
      "outputs": [
        {
          "output_type": "stream",
          "name": "stdout",
          "text": [
            "12\n",
            "None\n"
          ]
        }
      ]
    },
    {
      "cell_type": "code",
      "source": [
        "print(None)"
      ],
      "metadata": {
        "colab": {
          "base_uri": "https://localhost:8080/"
        },
        "id": "7mInXZ33pV29",
        "outputId": "02bc488a-46bb-4b64-b0e2-9370b49235b9"
      },
      "execution_count": null,
      "outputs": [
        {
          "output_type": "stream",
          "name": "stdout",
          "text": [
            "None\n"
          ]
        }
      ]
    },
    {
      "cell_type": "code",
      "source": [
        "def times_2(x):\n",
        "  return x*2\n",
        "\n",
        "b = 4\n",
        "\n",
        "times_2(b)"
      ],
      "metadata": {
        "colab": {
          "base_uri": "https://localhost:8080/"
        },
        "id": "ejLa3NV4qh28",
        "outputId": "df69ec77-794c-4ef9-c28c-fcf4cc23f1ad"
      },
      "execution_count": null,
      "outputs": [
        {
          "output_type": "execute_result",
          "data": {
            "text/plain": [
              "8"
            ]
          },
          "metadata": {},
          "execution_count": 21
        }
      ]
    },
    {
      "cell_type": "code",
      "source": [
        "b"
      ],
      "metadata": {
        "colab": {
          "base_uri": "https://localhost:8080/"
        },
        "id": "mbtnwbcrq5Uo",
        "outputId": "31925188-f4ce-4e7d-ffa4-db11e13a5f7f"
      },
      "execution_count": null,
      "outputs": [
        {
          "output_type": "execute_result",
          "data": {
            "text/plain": [
              "4"
            ]
          },
          "metadata": {},
          "execution_count": 23
        }
      ]
    },
    {
      "cell_type": "markdown",
      "source": [
        "# side effects\n",
        "---\n",
        " A *`side effect`* in Python occurs when a function or expression modifies something outside its local scope. This means the function alters the state of a variable, object, or system beyond its intended return value.\n",
        "\n",
        "  ```python\n",
        "    global_var = 10\n",
        "\n",
        "    def modify_global():\n",
        "        global global_var\n",
        "        global_var = 20\n",
        "\n",
        "    print(global_var)\n",
        "    modify_global()\n",
        "    print(global_var) # output 20\n",
        "  ```\n",
        "\n",
        "`tips: Returning a value is a pure operation — it doesn’t change anything outside the function. If your function only computes something and returns the result, it’s side-effect free.`\n",
        "```python\n",
        "    def times_2(x):\n",
        "      return x*2\n",
        "\n",
        "    b = 4\n",
        "    times_2(b)\n",
        "    b # output 4\n",
        "```"
      ],
      "metadata": {
        "id": "6sqtzs7_p2CE"
      }
    },
    {
      "cell_type": "code",
      "source": [
        "global_var = 10\n",
        "\n",
        "def modify_global():\n",
        "    global global_var\n",
        "    global_var = 20\n",
        "\n",
        "print(global_var)\n",
        "modify_global()\n",
        "print(global_var)"
      ],
      "metadata": {
        "colab": {
          "base_uri": "https://localhost:8080/"
        },
        "id": "KESh_pkvps5s",
        "outputId": "51742b2d-38c5-4bd8-bb3f-e0a0a6489858"
      },
      "execution_count": null,
      "outputs": [
        {
          "output_type": "stream",
          "name": "stdout",
          "text": [
            "10\n",
            "20\n"
          ]
        }
      ]
    },
    {
      "cell_type": "code",
      "source": [
        "global_var"
      ],
      "metadata": {
        "colab": {
          "base_uri": "https://localhost:8080/"
        },
        "id": "gtySesW2qx-m",
        "outputId": "ad3b8c7d-9536-44cd-85d7-9f7de278296f"
      },
      "execution_count": null,
      "outputs": [
        {
          "output_type": "execute_result",
          "data": {
            "text/plain": [
              "20"
            ]
          },
          "metadata": {},
          "execution_count": 22
        }
      ]
    },
    {
      "cell_type": "markdown",
      "source": [
        "# `Immutable objects & Mutable objects` *and* `is` *keyboard*\n",
        "\n",
        "\n",
        " The `is` keyword is used to test if two variables refer to the same object.\n",
        "\n",
        "The test returns `True` if the `two objects are the same object.`\n",
        "\n",
        "The test returns `False` if `they are not the same object, even if the two objects are 100% equal.`\n",
        "\n",
        "\n",
        "It should also occupy same memory to return True, else Fase\n",
        "\n",
        "`example:`\n",
        "```python\n",
        "  x = [1,2,3]\n",
        "  y = [1,2,3]\n",
        "  x is y #output: False\n",
        "\n",
        "  # It is becase they can occupy different memory or different object\n",
        "  # x[0]=4 won't be equal to y[0] as y[0] is still refering to\n",
        "  # same value which hasn't changed\n",
        "\n",
        "  # i.e new x = [4,2,3]\n",
        "  # and y is still [1,2,3]\n",
        "```\n",
        "```python\n",
        "  #if\n",
        "  x=[1,2,3]\n",
        "  y=x\n",
        "  x is y #output: True\n",
        "\n",
        "  # it is because they are refering to exact same value and\n",
        "  # occupy same memory\n",
        "\n",
        "  # i.e x[0]=4 is equal to y[0]\n",
        "  # i.e new x = [4,2,3]\n",
        "  # i.e new y = [4,2,3]\n",
        "\n",
        "```\n",
        "\n",
        "```python\n",
        "\n",
        "q = 7\n",
        "w = q\n",
        "q #output: 7\n",
        "w #output: 7\n",
        "q = 11\n",
        "q #output: 11\n",
        "w #output: 7\n",
        "```\n",
        "\n",
        "**Summary:**\n",
        "\n",
        "`Immutable objects (like int, str, float, tuple)`:\n",
        "Changing the variable makes it point to a new object.\n",
        "\n",
        "`Mutable objects (like list, dict, set)`:\n",
        "Changes through one variable affect all variables pointing to the same object.\n",
        "\n",
        "---"
      ],
      "metadata": {
        "id": "bi1TCf1OMZqS"
      }
    },
    {
      "cell_type": "code",
      "source": [
        "a=[1,2,3]\n",
        "a"
      ],
      "metadata": {
        "colab": {
          "base_uri": "https://localhost:8080/"
        },
        "id": "bjI5tzX7Me4R",
        "outputId": "0b460a39-4452-4bf8-da28-9e4c6b3a9c7e"
      },
      "execution_count": null,
      "outputs": [
        {
          "output_type": "execute_result",
          "data": {
            "text/plain": [
              "[1, 2, 3]"
            ]
          },
          "metadata": {},
          "execution_count": 5
        }
      ]
    },
    {
      "cell_type": "code",
      "source": [
        "b=a\n",
        "b"
      ],
      "metadata": {
        "colab": {
          "base_uri": "https://localhost:8080/"
        },
        "id": "AtVvDLDZMlTB",
        "outputId": "0c9e1a62-e351-42b2-8b34-98017dc7b7a7"
      },
      "execution_count": null,
      "outputs": [
        {
          "output_type": "execute_result",
          "data": {
            "text/plain": [
              "[1, 2, 3]"
            ]
          },
          "metadata": {},
          "execution_count": 4
        }
      ]
    },
    {
      "cell_type": "code",
      "source": [
        "1 == 2"
      ],
      "metadata": {
        "colab": {
          "base_uri": "https://localhost:8080/"
        },
        "id": "d8NODOSvMr21",
        "outputId": "08251ace-24fb-4627-c61f-d240dcb50750"
      },
      "execution_count": null,
      "outputs": [
        {
          "output_type": "execute_result",
          "data": {
            "text/plain": [
              "False"
            ]
          },
          "metadata": {},
          "execution_count": 6
        }
      ]
    },
    {
      "cell_type": "code",
      "source": [
        "[1,2] == [1,2] # output: True\n",
        "\n",
        "[1,2] == [2,1] #output: False"
      ],
      "metadata": {
        "colab": {
          "base_uri": "https://localhost:8080/"
        },
        "id": "23jk77TCMt7N",
        "outputId": "f989d55b-68f3-437f-83e3-e1016d0db0b0"
      },
      "execution_count": null,
      "outputs": [
        {
          "output_type": "execute_result",
          "data": {
            "text/plain": [
              "False"
            ]
          },
          "metadata": {},
          "execution_count": 10
        }
      ]
    },
    {
      "cell_type": "code",
      "source": [
        "a is b"
      ],
      "metadata": {
        "colab": {
          "base_uri": "https://localhost:8080/"
        },
        "id": "aaCz48v7NEog",
        "outputId": "835911b7-22b7-4489-f2e7-fdcffe763cc7"
      },
      "execution_count": null,
      "outputs": [
        {
          "output_type": "execute_result",
          "data": {
            "text/plain": [
              "False"
            ]
          },
          "metadata": {},
          "execution_count": 11
        }
      ]
    },
    {
      "cell_type": "code",
      "source": [
        "a is [1,2,3]"
      ],
      "metadata": {
        "colab": {
          "base_uri": "https://localhost:8080/"
        },
        "id": "yuiB5DeUNGUX",
        "outputId": "3d587445-58d0-4a88-8280-2442ff54504a"
      },
      "execution_count": null,
      "outputs": [
        {
          "output_type": "execute_result",
          "data": {
            "text/plain": [
              "False"
            ]
          },
          "metadata": {},
          "execution_count": 17
        }
      ]
    },
    {
      "cell_type": "code",
      "source": [
        "b=a\n",
        "a is b"
      ],
      "metadata": {
        "colab": {
          "base_uri": "https://localhost:8080/"
        },
        "id": "hkH0sdk5NmqA",
        "outputId": "1cc207c0-22bf-4fd8-926a-d3278e70322f"
      },
      "execution_count": null,
      "outputs": [
        {
          "output_type": "execute_result",
          "data": {
            "text/plain": [
              "True"
            ]
          },
          "metadata": {},
          "execution_count": 19
        }
      ]
    },
    {
      "cell_type": "code",
      "source": [
        "x = [\"apple\", \"banana\", \"cherry\"]\n",
        "\n",
        "y = x\n",
        "\n",
        "print(x is y)"
      ],
      "metadata": {
        "colab": {
          "base_uri": "https://localhost:8080/"
        },
        "id": "GO0N2jfZOBJN",
        "outputId": "9c13575b-fb51-445e-d2ac-6c8bb174acd5"
      },
      "execution_count": null,
      "outputs": [
        {
          "output_type": "stream",
          "name": "stdout",
          "text": [
            "True\n"
          ]
        }
      ]
    },
    {
      "cell_type": "code",
      "source": [
        "x[0]=\"mango\""
      ],
      "metadata": {
        "id": "PnbPDf_8OBoR"
      },
      "execution_count": null,
      "outputs": []
    },
    {
      "cell_type": "code",
      "source": [
        "x"
      ],
      "metadata": {
        "colab": {
          "base_uri": "https://localhost:8080/"
        },
        "id": "_SSSkwT1ObZG",
        "outputId": "75153203-e5c4-4918-89fa-c80f35512aaa"
      },
      "execution_count": null,
      "outputs": [
        {
          "output_type": "execute_result",
          "data": {
            "text/plain": [
              "['mango', 'banana', 'cherry']"
            ]
          },
          "metadata": {},
          "execution_count": 24
        }
      ]
    },
    {
      "cell_type": "code",
      "source": [
        "True is True"
      ],
      "metadata": {
        "colab": {
          "base_uri": "https://localhost:8080/"
        },
        "id": "9glmGXNiQcJp",
        "outputId": "c9dcceb9-c939-4f58-db2d-347274939390"
      },
      "execution_count": null,
      "outputs": [
        {
          "output_type": "execute_result",
          "data": {
            "text/plain": [
              "True"
            ]
          },
          "metadata": {},
          "execution_count": 25
        }
      ]
    },
    {
      "cell_type": "code",
      "source": [
        "False is True"
      ],
      "metadata": {
        "colab": {
          "base_uri": "https://localhost:8080/"
        },
        "id": "aWDdgv6TQeJi",
        "outputId": "a05139bc-5df5-4107-aab9-128f0536b2d6"
      },
      "execution_count": null,
      "outputs": [
        {
          "output_type": "execute_result",
          "data": {
            "text/plain": [
              "False"
            ]
          },
          "metadata": {},
          "execution_count": 26
        }
      ]
    },
    {
      "cell_type": "code",
      "source": [
        "from copy import deepcopy\n",
        "a = ['x','y','z']\n",
        "b = deepcopy(a)\n",
        "b"
      ],
      "metadata": {
        "colab": {
          "base_uri": "https://localhost:8080/"
        },
        "id": "OSX0I0WJQgGL",
        "outputId": "6ce24a3b-c503-4fd4-9bb4-df57d599f53d"
      },
      "execution_count": null,
      "outputs": [
        {
          "output_type": "execute_result",
          "data": {
            "text/plain": [
              "['x', 'y', 'z']"
            ]
          },
          "metadata": {},
          "execution_count": 27
        }
      ]
    },
    {
      "cell_type": "code",
      "source": [
        "a[0]=\"xy\"\n",
        "a #output: ['xy', 'y', 'z']\n",
        "b #output: ['x', 'y', 'z']"
      ],
      "metadata": {
        "colab": {
          "base_uri": "https://localhost:8080/"
        },
        "id": "R9_WmpugR_bj",
        "outputId": "6be90d52-7156-4d08-fe6d-8de4b830ce30"
      },
      "execution_count": null,
      "outputs": [
        {
          "output_type": "execute_result",
          "data": {
            "text/plain": [
              "['x', 'y', 'z']"
            ]
          },
          "metadata": {},
          "execution_count": 32
        }
      ]
    },
    {
      "cell_type": "code",
      "source": [
        "q = 7\n",
        "w = q\n",
        "q #output: 7\n",
        "w #output: 7"
      ],
      "metadata": {
        "colab": {
          "base_uri": "https://localhost:8080/"
        },
        "id": "9CteE0-fSde2",
        "outputId": "2d240f90-2d29-45e7-e028-248616bb1301"
      },
      "execution_count": null,
      "outputs": [
        {
          "output_type": "execute_result",
          "data": {
            "text/plain": [
              "7"
            ]
          },
          "metadata": {},
          "execution_count": 35
        }
      ]
    },
    {
      "cell_type": "code",
      "source": [
        "q = 11\n",
        "q #output: 11\n",
        "w #output: 7"
      ],
      "metadata": {
        "colab": {
          "base_uri": "https://localhost:8080/"
        },
        "id": "cVQfn2uCSotr",
        "outputId": "e6855a15-fa59-4876-9570-109532def60e"
      },
      "execution_count": null,
      "outputs": [
        {
          "output_type": "execute_result",
          "data": {
            "text/plain": [
              "7"
            ]
          },
          "metadata": {},
          "execution_count": 39
        }
      ]
    },
    {
      "cell_type": "code",
      "source": [
        "def add_1(x):\n",
        "  print(x is a)\n",
        "  x = [1,2]\n",
        "  print(x is a)\n",
        "  return x\n",
        "\n",
        "a = [1,2,3]\n",
        "add_1(a) #output: True\n",
        "         #        False\n",
        "         #        [1,2]\n",
        "a        #output: [1, 2, 3]\n",
        "\n",
        "\n",
        "\n",
        "# x is a is True before reassignment, because both refer to the same list.\n",
        "\n",
        "# After x = [1, 2], x refers to a new list, so x is a becomes False.\n",
        "\n",
        "# The original list a remains unchanged\n",
        "# Because we never changed the contents of the original list a — we only reassigned x inside the function to a new list."
      ],
      "metadata": {
        "colab": {
          "base_uri": "https://localhost:8080/"
        },
        "id": "sFfRUpwQUkpx",
        "outputId": "a39cc5b9-8683-43e2-867a-8efc04faa10e"
      },
      "execution_count": null,
      "outputs": [
        {
          "output_type": "stream",
          "name": "stdout",
          "text": [
            "True\n",
            "False\n"
          ]
        },
        {
          "output_type": "execute_result",
          "data": {
            "text/plain": [
              "[1, 2, 3]"
            ]
          },
          "metadata": {},
          "execution_count": 48
        }
      ]
    },
    {
      "cell_type": "markdown",
      "source": [
        "# **File handling**\n",
        "1. *Opening a File*\n",
        "  ```python\n",
        "    file = open(\"filename.txt\", \"mode\")\n",
        "  ```\n",
        "  Modes:\n",
        "\n",
        "    `\"r\"` – Read (default), error if file doesn't exist\n",
        "\n",
        "    `\"w\"` – Write (creates new file or overwrites)\n",
        "\n",
        "    `\"a\"` – Append (adds to end of file)\n",
        "\n",
        "    `\"x\"` – Create (fails if file exists)\n",
        "\n",
        "    `\"b\"` – Binary mode (e.g. 'rb' or 'wb')\n",
        "\n",
        "    `\"t\"` – Text mode (default)\n",
        "2. *Reading from a File*\n",
        "    ```python\n",
        "      file = open(\"sample.txt\", \"r\")\n",
        "\n",
        "      # other read method\n",
        "        content = file.read()\n",
        "        print(content)\n",
        "        file.close()\n",
        "    ```\n",
        "\n",
        "3. *Writing to a File*\n",
        "  ```python\n",
        "  file = open(\"sample.txt\", \"w\")\n",
        "  file.write(\"Hello, world!\")\n",
        "  file.close()\n",
        "  ```\n",
        "  `For appending:`\n",
        "  ```python\n",
        "  file = open(\"sample.txt\", \"a\")\n",
        "  file.write(\"\\nThis is an added line.\")\n",
        "  file.close()\n",
        "  ```\n",
        "4. *Using with Statement (Best Practice)*\n",
        "\n",
        "  Automatically closes the file:\n",
        "\n",
        "  ```python\n",
        "  with open(\"sample.txt\", \"r\") as file:\n",
        "    data = file.read()\n",
        "    print(data)\n",
        "  ```\n",
        "\n",
        "5. *Check If File Exists*\n",
        "\n",
        "  ```python\n",
        "    import os\n",
        "\n",
        "    if os.path.exists(\"sample.txt\"):\n",
        "        print(\"File exists!\")\n",
        "    else:\n",
        "        print(\"File does not exist.\")\n",
        "  ```\n",
        "\n",
        "6.  Deleting a File\n",
        "\n",
        "  ```python\n",
        "    import os\n",
        "\n",
        "    os.remove(\"sample.txt\")\n",
        "  ```"
      ],
      "metadata": {
        "id": "6-cawziIaQkR"
      }
    },
    {
      "cell_type": "code",
      "source": [
        "!ls"
      ],
      "metadata": {
        "colab": {
          "base_uri": "https://localhost:8080/"
        },
        "id": "hB6nyuYGb7Wt",
        "outputId": "05dde31c-d008-44ab-9b19-531b8f24f828"
      },
      "execution_count": null,
      "outputs": [
        {
          "output_type": "stream",
          "name": "stdout",
          "text": [
            "sample_data  test.txt\n"
          ]
        }
      ]
    },
    {
      "cell_type": "code",
      "source": [
        "p = \"test.txt\"\n",
        "with open(p,'r') as f:\n",
        "  for line in f:\n",
        "    print(line.rstrip())"
      ],
      "metadata": {
        "colab": {
          "base_uri": "https://localhost:8080/"
        },
        "id": "H2-KAk3DcDPO",
        "outputId": "50344cf9-51de-4442-fa89-b58bf32b53ac"
      },
      "execution_count": null,
      "outputs": [
        {
          "output_type": "stream",
          "name": "stdout",
          "text": [
            "Hi\n"
          ]
        }
      ]
    },
    {
      "cell_type": "code",
      "source": [
        "with open(\"new_file.txt\",\"w\") as f:\n",
        "  f.write(\"Hi\")"
      ],
      "metadata": {
        "id": "bnX-tBiphalt"
      },
      "execution_count": null,
      "outputs": []
    },
    {
      "cell_type": "code",
      "source": [
        "with open(\"new_file.txt\",\"a\") as f:\n",
        "  f.write(\"\\nNamaste,Nepal!\")"
      ],
      "metadata": {
        "id": "6PpymsEok9RA"
      },
      "execution_count": null,
      "outputs": []
    },
    {
      "cell_type": "code",
      "source": [
        "import os\n",
        "\n",
        "if os.path.exists(\"sample.txt\"):\n",
        "    print(\"Sample does not exists!\")\n",
        "elif os.path.exists(\"new_file.txt\"):\n",
        "    print(\"File exists.\")\n",
        "else:\n",
        "  print(\"file doesn't exists.\")\n"
      ],
      "metadata": {
        "colab": {
          "base_uri": "https://localhost:8080/"
        },
        "id": "4kxJAV22kJIm",
        "outputId": "beabdf43-80b3-4e10-f940-d2b578929703"
      },
      "execution_count": null,
      "outputs": [
        {
          "output_type": "stream",
          "name": "stdout",
          "text": [
            "file doesn't exists.\n"
          ]
        }
      ]
    },
    {
      "cell_type": "markdown",
      "source": [
        "# OOPs\n",
        "\n",
        "In Python, classes and objects are the building blocks of object-oriented programming (OOP). Let’s break them down simply:\n",
        "\n",
        "1. What is a `Class`?\n",
        "\n",
        "    A class is like a blueprint for creating objects. It defines the structure and behavior that the created objects will have.\n",
        "\n",
        "    ```python\n",
        "      class Car:\n",
        "        def __init__(self, brand, color):\n",
        "            self.brand = brand\n",
        "            self.color = color\n",
        "\n",
        "        def drive(self):\n",
        "            print(f\"{self.color} {self.brand} is driving.\")\n",
        "\n",
        "    ```\n",
        "2. What is an `Object`?\n",
        "\n",
        "      An object is an instance of a class. When you create an object, you're building something using the class blueprint.\n",
        "\n",
        "      ```python\n",
        "      my_car = Car(\"Toyota\", \"Red\")  # Creating an object of class Car\n",
        "      my_car.drive()                 # Output: Red Toyota is driving.\n",
        "      ```\n",
        "\n",
        "  **`Explanation of Code:`**\n",
        "\n",
        "  `class Car:` — defines a new class named Car.\n",
        "\n",
        "  `__init__` — constructor method, runs when the object is created. It initializes attributes.\n",
        "\n",
        "  `self` — refers to the current instance (object) of the class.\n",
        "\n",
        "  `my_car` = Car(\"Toyota\", \"Red\") — creates a new car object with brand \"Toyota\" and color \"Red\".\n",
        "\n",
        "  `my_car.drive()` — calls the method drive() for the object.\n",
        "\n",
        "\n",
        "  ***Real-Life Analogy:***\n",
        "\n",
        "  Think of a class as a blueprint for a house, and an object as an actual house built using that blueprint. You can build many houses (objects) from one blueprint (class), and each can have different features (attributes)."
      ],
      "metadata": {
        "id": "tZb_q0t7_T35"
      }
    },
    {
      "cell_type": "code",
      "source": [
        "class Human:\n",
        "    def __init__(self, age, name):\n",
        "        self._age = age\n",
        "        self._name = name\n",
        "\n",
        "    def __str__(self):\n",
        "        return \"A human with name \" + self._name + \" and age \" + str(self._age)\n",
        "\n",
        "    def __repr__(self):\n",
        "        return \"A human with name \" + self._name + \" and age \" + str(self._age)\n",
        "\n",
        "    def older_younger_than(self, age):\n",
        "        if self._age > age:\n",
        "            print(f\"{self._name} is older than {age} years old.\")\n",
        "        elif self._age < age:\n",
        "            print(f\"{self._name} is younger than {age} years old.\")\n",
        "        else:\n",
        "            print(f\"{self._name} is exactly {age} years old.\")\n",
        "\n",
        "h = Human(age=4, name=\"Groq\")\n",
        "print(h)\n"
      ],
      "metadata": {
        "colab": {
          "base_uri": "https://localhost:8080/"
        },
        "id": "P-7Lbi6z_RBV",
        "outputId": "736a872d-b5d1-47eb-a3dc-49dc1b32134c"
      },
      "execution_count": null,
      "outputs": [
        {
          "output_type": "stream",
          "name": "stdout",
          "text": [
            "A human with name Groq and age 4\n"
          ]
        }
      ]
    },
    {
      "cell_type": "code",
      "source": [
        "h._name"
      ],
      "metadata": {
        "colab": {
          "base_uri": "https://localhost:8080/",
          "height": 35
        },
        "id": "veGZs7ttBXBl",
        "outputId": "911c4aa4-4fde-4071-8a25-1662ee1df258"
      },
      "execution_count": null,
      "outputs": [
        {
          "output_type": "execute_result",
          "data": {
            "text/plain": [
              "'Groq'"
            ],
            "application/vnd.google.colaboratory.intrinsic+json": {
              "type": "string"
            }
          },
          "metadata": {},
          "execution_count": 13
        }
      ]
    },
    {
      "cell_type": "code",
      "source": [
        "h.__str__()"
      ],
      "metadata": {
        "colab": {
          "base_uri": "https://localhost:8080/",
          "height": 35
        },
        "id": "-zOqi-i_Bbm3",
        "outputId": "ff9ed7bd-7535-41fe-864a-d082602b6a94"
      },
      "execution_count": null,
      "outputs": [
        {
          "output_type": "execute_result",
          "data": {
            "text/plain": [
              "'A human with name Groq and age 4'"
            ],
            "application/vnd.google.colaboratory.intrinsic+json": {
              "type": "string"
            }
          },
          "metadata": {},
          "execution_count": 20
        }
      ]
    },
    {
      "cell_type": "code",
      "source": [
        "h.older_younger_than(6)"
      ],
      "metadata": {
        "colab": {
          "base_uri": "https://localhost:8080/"
        },
        "id": "6PIyWw6sCAhv",
        "outputId": "df59a105-8d39-4bd0-de90-f9d308d1e476"
      },
      "execution_count": null,
      "outputs": [
        {
          "output_type": "stream",
          "name": "stdout",
          "text": [
            "Groq is younger than 6 years old.\n"
          ]
        }
      ]
    },
    {
      "cell_type": "code",
      "source": [
        "# The following is the function that multiplies two numbers\n",
        "\n",
        "def mult(a,b):\n",
        "  '''\n",
        "  This function multiplies two numbers.\n",
        "  mult(a,b) is a function that takes two arguments a and b, and returns their product.\n",
        "\n",
        "  a: Number\n",
        "  b: Number\n",
        "  return: Number\n",
        "  '''\n",
        "  return a*b\n",
        "\n",
        "mult(3,4)"
      ],
      "metadata": {
        "colab": {
          "base_uri": "https://localhost:8080/"
        },
        "id": "GD1PML68EivK",
        "outputId": "0ce02cc7-ffa2-43f9-cf6c-9cbbf79f95d2"
      },
      "execution_count": null,
      "outputs": [
        {
          "output_type": "execute_result",
          "data": {
            "text/plain": [
              "12"
            ]
          },
          "metadata": {},
          "execution_count": 29
        }
      ]
    },
    {
      "cell_type": "code",
      "source": [
        "# help(mult(3,4))"
      ],
      "metadata": {
        "id": "cC2jP8rZFH2R"
      },
      "execution_count": null,
      "outputs": []
    },
    {
      "cell_type": "markdown",
      "source": [
        "# array methos\n",
        "Here are some useful list methods in Python that you’ll use frequently:\n",
        "\n",
        "Modifying Lists\n",
        "\n",
        "* `append(x)` – Adds an item to the end of the list\n",
        "\n",
        "* `extend(iterable)` – Adds all items from another iterable (like a list)\n",
        "\n",
        "* `insert(i, x)` – Inserts an item at a given position\n",
        "\n",
        "* `remove(x)` – Removes the first occurrence of an item\n",
        "\n",
        "* `pop([i])` – Removes and returns item at index (last item if index not given)\n",
        "\n",
        "* `clear()` – Removes all items from the list\n",
        "\n",
        "Searching & Counting\n",
        "\n",
        "* `index(x)` – Returns the index of the first item equal to x\n",
        "\n",
        "* `count(x)` – Returns the number of times x appears in the list\n",
        "\n",
        "Sorting & Reversing\n",
        "\n",
        "* `sort()` – Sorts the list in-place\n",
        "\n",
        "* `reverse()` – Reverses the elements of the list in-place\n",
        "\n",
        "Copying\n",
        "\n",
        "* `copy()` – Returns a shallow copy of the list\n",
        "\n",
        "```\n",
        "Bonus Tips\n",
        "\n",
        "list() – Converts an iterable (like string, tuple, dict keys) to a list\n",
        "\n",
        "sorted(list) – Returns a new sorted list (without modifying the original)\n",
        "```\n",
        "\n"
      ],
      "metadata": {
        "id": "slGr5Iq-GV2j"
      }
    },
    {
      "cell_type": "code",
      "source": [
        "l=[1,2,3]\n",
        "\n",
        "l.append(4)\n",
        "\n",
        "l"
      ],
      "metadata": {
        "colab": {
          "base_uri": "https://localhost:8080/"
        },
        "id": "2zrhU4l9FZAI",
        "outputId": "97589d2b-c423-48f7-eeb2-a04c895b4f74"
      },
      "execution_count": null,
      "outputs": [
        {
          "output_type": "execute_result",
          "data": {
            "text/plain": [
              "[1, 2, 3, 4]"
            ]
          },
          "metadata": {},
          "execution_count": 49
        }
      ]
    },
    {
      "cell_type": "code",
      "source": [
        "l.insert(0,\"Hi\")\n",
        "l"
      ],
      "metadata": {
        "colab": {
          "base_uri": "https://localhost:8080/"
        },
        "id": "FOCglp3GFoXV",
        "outputId": "89438738-91d1-45ef-e3f2-6552aed9c61e"
      },
      "execution_count": null,
      "outputs": [
        {
          "output_type": "execute_result",
          "data": {
            "text/plain": [
              "['Hi', 1, 2, 3, 4]"
            ]
          },
          "metadata": {},
          "execution_count": 50
        }
      ]
    },
    {
      "cell_type": "code",
      "source": [
        "l.count(4)"
      ],
      "metadata": {
        "colab": {
          "base_uri": "https://localhost:8080/"
        },
        "id": "CBblttGNFyMT",
        "outputId": "63e73f4d-f93c-4b8b-d263-97e425d2c4d5"
      },
      "execution_count": null,
      "outputs": [
        {
          "output_type": "execute_result",
          "data": {
            "text/plain": [
              "1"
            ]
          },
          "metadata": {},
          "execution_count": 51
        }
      ]
    },
    {
      "cell_type": "code",
      "source": [
        "l.reverse()\n",
        "l"
      ],
      "metadata": {
        "colab": {
          "base_uri": "https://localhost:8080/"
        },
        "id": "upxRnQdxF4Df",
        "outputId": "aaec655c-d86f-46cc-8ae5-5a16421402b7"
      },
      "execution_count": null,
      "outputs": [
        {
          "output_type": "execute_result",
          "data": {
            "text/plain": [
              "[4, 3, 2, 1, 'Hi']"
            ]
          },
          "metadata": {},
          "execution_count": 52
        }
      ]
    },
    {
      "cell_type": "code",
      "source": [
        "l.remove(3)\n",
        "\n",
        "l"
      ],
      "metadata": {
        "colab": {
          "base_uri": "https://localhost:8080/"
        },
        "id": "lK5GW6sTF_g4",
        "outputId": "83c21d0e-d8e5-42ba-b8e7-d600c6ed1ff2"
      },
      "execution_count": null,
      "outputs": [
        {
          "output_type": "execute_result",
          "data": {
            "text/plain": [
              "[4, 2, 1, 'Hi']"
            ]
          },
          "metadata": {},
          "execution_count": 53
        }
      ]
    },
    {
      "cell_type": "code",
      "source": [
        "li = [ ]\n",
        "\n",
        "for i in range(5):\n",
        "  for j in range(3):\n",
        "    if(i + j) % 2 == 0:\n",
        "      li.append(i + j)\n",
        "li"
      ],
      "metadata": {
        "colab": {
          "base_uri": "https://localhost:8080/"
        },
        "id": "BsJ7Ggp1Hjg_",
        "outputId": "cae9df59-cfcf-400c-b984-e204e90a0bad"
      },
      "execution_count": null,
      "outputs": [
        {
          "output_type": "execute_result",
          "data": {
            "text/plain": [
              "[0, 2, 2, 2, 4, 4, 4, 6]"
            ]
          },
          "metadata": {},
          "execution_count": 56
        }
      ]
    },
    {
      "cell_type": "markdown",
      "source": [
        "# string medhods\n",
        "Here's a handy list of useful string methods in Python:\n",
        "\n",
        "1. Case Methods\n",
        "  * `lower()` – Converts all characters to lowercase\n",
        "  * `upper()` – Converts all characters to uppercase\n",
        "  * `title()` – Capitalizes the first letter of each word\n",
        "  * `capitalize()` – Capitalizes the first letter of the string\n",
        "  * `swapcase()` – Swaps the case of each character\n",
        "\n",
        "2.  Search & Check\n",
        "  * `find(sub)` – Returns the index of the first occurrence of sub (or -1 if not found)\n",
        "  * `rfind(sub)` – Like find() but searches from the end\n",
        "  * `startswith(prefix)` – Checks if string starts with a prefix\n",
        "  * `endswith(suffix)` – Checks if string ends with a suffix\n",
        "  * `in` – You can use if \"word\" in string to check presence\n",
        "  * `isalpha()` – True if all characters are letters\n",
        "  * `isdigit()` – True if all characters are digits\n",
        "  * `isalnum()` – True if all characters are letters or digits\n",
        "  * `isspace()` – True if all characters are whitespace\n",
        "\n",
        "3. Modify & Replace\n",
        "  * `replace(old, new)` – Replaces old substring with new\n",
        "\n",
        "  * `strip()` – Removes leading and trailing whitespace\n",
        "\n",
        "  * `lstrip() / rstrip()` – Left or right version of strip()\n",
        "\n",
        "  * `split(sep)` – Splits string into list by separator\n",
        "\n",
        "  * `join(list)` – Joins elements of a list into a string with a separator\n",
        "\n",
        "  * `zfill(width)` – Pads string on the left with zeros to fill width"
      ],
      "metadata": {
        "id": "Pwjq7U2YKq8T"
      }
    },
    {
      "cell_type": "code",
      "source": [
        "s = \"  Hello World!  \"\n",
        "print(s.strip().lower().replace(\"hello\", \"hi\"))\n"
      ],
      "metadata": {
        "colab": {
          "base_uri": "https://localhost:8080/"
        },
        "id": "gyIT0YqyL1Wl",
        "outputId": "8d1cc1c1-21bd-4173-e97d-b80ee021b52a"
      },
      "execution_count": null,
      "outputs": [
        {
          "output_type": "stream",
          "name": "stdout",
          "text": [
            "hi world!\n"
          ]
        }
      ]
    },
    {
      "cell_type": "markdown",
      "source": [
        "# Dictionaries\n",
        "*Dictionaries in Python are used to store data values in key-value pairs. They’re one of the most powerful built-in data types and are mutable, meaning you can change them after creation.*"
      ],
      "metadata": {
        "id": "zaHXIPelMuwV"
      }
    },
    {
      "cell_type": "code",
      "source": [
        "my_dict = {\n",
        "    \"name\": \"Rajan\",\n",
        "    \"age\": 22,\n",
        "    \"city\": \"Kathmandu\"\n",
        "}\n"
      ],
      "metadata": {
        "id": "gMRisfPpM8v6"
      },
      "execution_count": null,
      "outputs": []
    },
    {
      "cell_type": "code",
      "source": [
        "print(my_dict[\"name\"])  # Output: Rajan"
      ],
      "metadata": {
        "colab": {
          "base_uri": "https://localhost:8080/"
        },
        "id": "Vz8jxJDmM_LR",
        "outputId": "2c3aeff0-c3a4-4aeb-eb10-cea7ddf95444"
      },
      "execution_count": null,
      "outputs": [
        {
          "output_type": "stream",
          "name": "stdout",
          "text": [
            "Rajan\n"
          ]
        }
      ]
    },
    {
      "cell_type": "code",
      "source": [
        "print(my_dict.get(\"name\"))  # Output: Rajan\n",
        "print(my_dict.get(\"gender\", \"Not specified\"))  # Default value"
      ],
      "metadata": {
        "colab": {
          "base_uri": "https://localhost:8080/"
        },
        "id": "jjUZne5VNH5p",
        "outputId": "dd65f3d6-e916-496a-f69e-16cd8f02e85e"
      },
      "execution_count": null,
      "outputs": [
        {
          "output_type": "stream",
          "name": "stdout",
          "text": [
            "Rajan\n",
            "Not specified\n"
          ]
        }
      ]
    },
    {
      "cell_type": "code",
      "source": [
        "my_dict[\"age\"] = 23  # Modify\n",
        "my_dict[\"country\"] = \"Nepal\"  # Add\n"
      ],
      "metadata": {
        "id": "1GVg4jvPNIb7"
      },
      "execution_count": null,
      "outputs": []
    },
    {
      "cell_type": "code",
      "source": [
        "my_dict.pop(\"age\")          # Removes key 'age'\n",
        "del my_dict[\"city\"]         # Deletes key 'city'\n",
        "my_dict.clear()             # Clears entire dictionary"
      ],
      "metadata": {
        "id": "WZr_AJ5jNLM5"
      },
      "execution_count": null,
      "outputs": []
    },
    {
      "cell_type": "code",
      "source": [
        "for key in my_dict:\n",
        "    print(key, my_dict[key])\n",
        "\n",
        "# Or\n",
        "for key, value in my_dict.items():\n",
        "    print(key, value)\n"
      ],
      "metadata": {
        "id": "Rzeiu4ckNUCa"
      },
      "execution_count": null,
      "outputs": []
    },
    {
      "cell_type": "code",
      "source": [
        "my_dict.keys()     # All keys\n",
        "my_dict.values()   # All values\n",
        "my_dict.items()    # All key-value pairs\n"
      ],
      "metadata": {
        "id": "JuIm6-sqNahw",
        "outputId": "0d9cf400-fcc4-4659-d721-a8b5e6c54bee",
        "colab": {
          "base_uri": "https://localhost:8080/"
        }
      },
      "execution_count": null,
      "outputs": [
        {
          "output_type": "execute_result",
          "data": {
            "text/plain": [
              "dict_items([])"
            ]
          },
          "metadata": {},
          "execution_count": 72
        }
      ]
    },
    {
      "cell_type": "markdown",
      "source": [
        "# Tuple\n",
        "\n",
        "* `Ordered:` Elements have a defined order.\n",
        "\n",
        "* `Immutable:` Cannot be modified after creation.\n",
        "\n",
        "* `Allow duplicates:` You can have repeated values."
      ],
      "metadata": {
        "id": "53nJ-3zLzvK_"
      }
    },
    {
      "cell_type": "code",
      "source": [
        "t=(1,2)\n",
        "t"
      ],
      "metadata": {
        "colab": {
          "base_uri": "https://localhost:8080/"
        },
        "id": "Q27X6QOw0AWK",
        "outputId": "9d209302-9e2c-41af-e774-090b477dd07c"
      },
      "execution_count": null,
      "outputs": [
        {
          "output_type": "execute_result",
          "data": {
            "text/plain": [
              "(1, 2)"
            ]
          },
          "metadata": {},
          "execution_count": 1
        }
      ]
    },
    {
      "cell_type": "code",
      "source": [
        "t[1]"
      ],
      "metadata": {
        "colab": {
          "base_uri": "https://localhost:8080/"
        },
        "id": "48YSFFB60B1L",
        "outputId": "0a905a1e-869c-4ce1-da2f-42bac07a83bc"
      },
      "execution_count": null,
      "outputs": [
        {
          "output_type": "execute_result",
          "data": {
            "text/plain": [
              "2"
            ]
          },
          "metadata": {},
          "execution_count": 5
        }
      ]
    },
    {
      "cell_type": "code",
      "source": [
        "for iteam in t:\n",
        "  print(iteam)"
      ],
      "metadata": {
        "colab": {
          "base_uri": "https://localhost:8080/"
        },
        "id": "oT4qYnuj0PxI",
        "outputId": "55c1d886-d029-483a-8279-76ecc6de7125"
      },
      "execution_count": null,
      "outputs": [
        {
          "output_type": "stream",
          "name": "stdout",
          "text": [
            "1\n",
            "2\n"
          ]
        }
      ]
    },
    {
      "cell_type": "markdown",
      "source": [
        "# sets\n",
        "\n",
        "* `Unordered:` No guaranteed order.\n",
        "\n",
        "* `No duplicates:` Automatically removes duplicates.\n",
        "\n",
        "* `Mutable:` Can add or remove items.\n",
        "\n",
        "* `No indexing/slicing:` Not like lists or tuples."
      ],
      "metadata": {
        "id": "LHkxrGbR1E66"
      }
    },
    {
      "cell_type": "code",
      "source": [
        "my_set = {1, 2, 3}\n",
        "empty_set = set()  # not {} because {} creates a dictionary\n",
        "empty_set\n"
      ],
      "metadata": {
        "colab": {
          "base_uri": "https://localhost:8080/"
        },
        "id": "lvxnoGYV1G67",
        "outputId": "8b1cbae3-90d5-45a8-dfe5-6f19e78334e4"
      },
      "execution_count": null,
      "outputs": [
        {
          "output_type": "execute_result",
          "data": {
            "text/plain": [
              "set()"
            ]
          },
          "metadata": {},
          "execution_count": 12
        }
      ]
    },
    {
      "cell_type": "code",
      "source": [
        "a = {1, 2, 3}\n",
        "b = {3, 4, 5}\n",
        "\n",
        "print(a | b)    # Union: {1, 2, 3, 4, 5}\n",
        "print(a & b)    # Intersection: {3}\n",
        "print(a - b)    # Difference: {1, 2}\n",
        "print(a ^ b)    # Symmetric Difference: {1, 2, 4, 5}\n"
      ],
      "metadata": {
        "colab": {
          "base_uri": "https://localhost:8080/"
        },
        "id": "veRn9nIA1HbZ",
        "outputId": "865a086c-6fd0-4ca7-e20f-7ac5b489332f"
      },
      "execution_count": null,
      "outputs": [
        {
          "output_type": "stream",
          "name": "stdout",
          "text": [
            "{1, 2, 3, 4, 5}\n",
            "{3}\n",
            "{1, 2}\n",
            "{1, 2, 4, 5}\n"
          ]
        }
      ]
    },
    {
      "cell_type": "code",
      "source": [
        "unique = list(set([1, 2, 2, 3, 1]))  # [1, 2, 3]"
      ],
      "metadata": {
        "id": "evLW7yL62ojK"
      },
      "execution_count": null,
      "outputs": []
    },
    {
      "cell_type": "code",
      "source": [
        "if \"apple\" in {\"apple\", \"banana\"}:\n",
        "    print(\"Yes\")\n"
      ],
      "metadata": {
        "colab": {
          "base_uri": "https://localhost:8080/"
        },
        "id": "nqKNi5ZB21ac",
        "outputId": "fcbf9e00-0736-4b72-91e3-79cc8166cf36"
      },
      "execution_count": null,
      "outputs": [
        {
          "output_type": "stream",
          "name": "stdout",
          "text": [
            "Yes\n"
          ]
        }
      ]
    },
    {
      "cell_type": "markdown",
      "source": [
        "# What is `try` and `except`?\n",
        "When Python encounters an error (exception) during runtime, it usually crashes the program. But with try-except, you can catch the error and handle it gracefully, without crashing.\n",
        "\n",
        "```python\n",
        "try:\n",
        "    # Code that might raise an error\n",
        "except SomeError:\n",
        "    # Code that runs if an error occurs\n",
        "```\n",
        "\n",
        "`try` --->\t`Code that might throw an error`\n",
        "\n",
        "`except` ---> `Handle specific or general errors`\n",
        "\n",
        "`else` --->\t`Code that runs if no exception occurs`\n",
        "\n",
        "`finally`--->\t`Code that always runs (cleanup, etc.)`\n",
        "\n",
        "`raise`\t---> `Manually raise an exception`"
      ],
      "metadata": {
        "id": "NmUELKIx3aKT"
      }
    },
    {
      "cell_type": "code",
      "source": [
        "try:\n",
        "    x = 1 / 0\n",
        "except ZeroDivisionError:\n",
        "    print(\"You can't divide by zero!\")\n"
      ],
      "metadata": {
        "colab": {
          "base_uri": "https://localhost:8080/"
        },
        "id": "Q6a6pvmI3lGJ",
        "outputId": "b819b326-d402-4bf7-d009-aa7b10d31c84"
      },
      "execution_count": null,
      "outputs": [
        {
          "output_type": "stream",
          "name": "stdout",
          "text": [
            "You can't divide by zero!\n"
          ]
        }
      ]
    },
    {
      "cell_type": "code",
      "source": [
        "try:\n",
        "    num = int(input(\"Enter a number: \"))\n",
        "    result = 10 / num\n",
        "    print(result)\n",
        "except ValueError:\n",
        "    print(\"That's not a number!\")\n",
        "except ZeroDivisionError:\n",
        "    print(\"You can't divide by zero!\")\n"
      ],
      "metadata": {
        "colab": {
          "base_uri": "https://localhost:8080/"
        },
        "id": "KXrTdJev3tZQ",
        "outputId": "6f38aed7-5bdc-442c-9657-2f6d5ab88a7e"
      },
      "execution_count": null,
      "outputs": [
        {
          "output_type": "stream",
          "name": "stdout",
          "text": [
            "Enter a number: 0\n",
            "You can't divide by zero!\n"
          ]
        }
      ]
    },
    {
      "cell_type": "code",
      "source": [
        "# else Clause (Runs if no error)\n",
        "\n",
        "try:\n",
        "    x = 5\n",
        "    y = 2\n",
        "    result = x / y\n",
        "except ZeroDivisionError:\n",
        "    print(\"Cannot divide by zero.\")\n",
        "else:\n",
        "    print(\"Result is\", result)\n"
      ],
      "metadata": {
        "colab": {
          "base_uri": "https://localhost:8080/"
        },
        "id": "aPOia_z04AMa",
        "outputId": "08ae4c42-fa99-422e-d326-be887059d55e"
      },
      "execution_count": null,
      "outputs": [
        {
          "output_type": "stream",
          "name": "stdout",
          "text": [
            "Result is 2.5\n"
          ]
        }
      ]
    },
    {
      "cell_type": "code",
      "source": [
        "try:\n",
        "    file = open(\"test.txt\", \"r\")\n",
        "    data = file.read()\n",
        "except FileNotFoundError:\n",
        "    print(\"File not found.\")\n",
        "finally:\n",
        "    print(\"Cleaning up...\")\n"
      ],
      "metadata": {
        "colab": {
          "base_uri": "https://localhost:8080/"
        },
        "id": "eQvvROX44NtE",
        "outputId": "8fa87b92-9b8e-411d-8bcd-9afb2f70f9d4"
      },
      "execution_count": null,
      "outputs": [
        {
          "output_type": "stream",
          "name": "stdout",
          "text": [
            "File not found.\n",
            "Cleaning up...\n"
          ]
        }
      ]
    },
    {
      "cell_type": "code",
      "source": [
        "age = int(input(\"Enter your age: \"))\n",
        "if age < 0:\n",
        "    raise ValueError(\"Age can't be negative!\")\n"
      ],
      "metadata": {
        "colab": {
          "base_uri": "https://localhost:8080/"
        },
        "id": "_cT-FHRg4SQl",
        "outputId": "95287b79-fcb0-4495-80d7-59678b7386f4"
      },
      "execution_count": null,
      "outputs": [
        {
          "name": "stdout",
          "output_type": "stream",
          "text": [
            "Enter your age: 3\n"
          ]
        }
      ]
    },
    {
      "cell_type": "markdown",
      "source": [
        "# *List comprehension*\n",
        "\n",
        "`List comprehension` in Python is a concise and elegant way to create lists using a single line of code — often replacing loops with a cleaner expression.\n",
        "\n",
        "```python\n",
        "[expression for item in iterable]\n",
        "```\n",
        "\n",
        "*`Basic`*\t---> `[x for x in range(5)]`\n",
        "\n",
        "*`With condition`* --->\t`[x for x in range(10) if x % 2 == 0]`\n",
        "\n",
        "*`If...else`* --->\t`[\"even\" if x%2==0 else \"odd\" for x in range(5)]`\n",
        "\n",
        "*`Nested loop`* ---> \t`[(x, y) for x in A for y in B]`"
      ],
      "metadata": {
        "id": "2pDY8_7p5apd"
      }
    },
    {
      "cell_type": "code",
      "source": [
        "squares = [x**2 for x in range(5)]\n",
        "print(squares)  # Output: [0, 1, 4, 9, 16]"
      ],
      "metadata": {
        "colab": {
          "base_uri": "https://localhost:8080/"
        },
        "id": "gfA56O8L5rHh",
        "outputId": "b268bbca-effd-4c0a-b685-cef49e174040"
      },
      "execution_count": null,
      "outputs": [
        {
          "output_type": "stream",
          "name": "stdout",
          "text": [
            "[0, 1, 4, 9, 16]\n"
          ]
        }
      ]
    },
    {
      "cell_type": "code",
      "source": [
        "evens = [x for x in range(10) if x % 2 == 0]\n",
        "print(evens)  # Output: [0, 2, 4, 6, 8]\n"
      ],
      "metadata": {
        "colab": {
          "base_uri": "https://localhost:8080/"
        },
        "id": "uZlY_y3A5zGC",
        "outputId": "ba872d0c-324d-461b-eb0e-42030b3ba00d"
      },
      "execution_count": null,
      "outputs": [
        {
          "output_type": "stream",
          "name": "stdout",
          "text": [
            "[0, 2, 4, 6, 8]\n"
          ]
        }
      ]
    },
    {
      "cell_type": "code",
      "source": [
        "labels = [\"even\" if x % 2 == 0 else \"odd\" for x in range(5)]\n",
        "print(labels)  # Output: ['even', 'odd', 'even', 'odd', 'even']"
      ],
      "metadata": {
        "colab": {
          "base_uri": "https://localhost:8080/"
        },
        "id": "LkJZFv4W53yq",
        "outputId": "87915433-63ff-4d50-cc7d-725348d33811"
      },
      "execution_count": null,
      "outputs": [
        {
          "output_type": "stream",
          "name": "stdout",
          "text": [
            "['even', 'odd', 'even', 'odd', 'even']\n"
          ]
        }
      ]
    },
    {
      "cell_type": "code",
      "source": [
        "pairs = [(x, y) for x in [1, 2] for y in [3, 4]]\n",
        "print(pairs)  # Output: [(1, 3), (1, 4), (2, 3), (2, 4)]"
      ],
      "metadata": {
        "colab": {
          "base_uri": "https://localhost:8080/"
        },
        "id": "4qmteJ-35-6A",
        "outputId": "f3161d8d-e17c-4e1a-8b7c-6fab44c50ece"
      },
      "execution_count": null,
      "outputs": [
        {
          "output_type": "stream",
          "name": "stdout",
          "text": [
            "[(1, 3), (1, 4), (2, 3), (2, 4)]\n"
          ]
        }
      ]
    },
    {
      "cell_type": "code",
      "source": [
        "def square(x):\n",
        "    return x * x\n",
        "\n",
        "results = [square(x) for x in range(5)]\n",
        "print(results)  # Output: [0, 1, 4, 9, 16]"
      ],
      "metadata": {
        "colab": {
          "base_uri": "https://localhost:8080/"
        },
        "id": "LHQ6tQaY6Ca2",
        "outputId": "e38b96e3-23ed-4dd1-f9b1-121c3bd466cf"
      },
      "execution_count": null,
      "outputs": [
        {
          "output_type": "stream",
          "name": "stdout",
          "text": [
            "[0, 1, 4, 9, 16]\n"
          ]
        }
      ]
    },
    {
      "cell_type": "code",
      "source": [
        "names = [\"apple\", \"banana\", \"kiwi\"]\n",
        "lengths = [len(name) for name in names]\n",
        "print(lengths)  # Output: [5, 6, 4]"
      ],
      "metadata": {
        "colab": {
          "base_uri": "https://localhost:8080/"
        },
        "id": "eSBpsrIY6GDU",
        "outputId": "5ae595e2-3a70-4799-df9c-339ae9c64398"
      },
      "execution_count": null,
      "outputs": [
        {
          "output_type": "stream",
          "name": "stdout",
          "text": [
            "[5, 6, 4]\n"
          ]
        }
      ]
    },
    {
      "cell_type": "code",
      "source": [
        "for a, b in zip(range(3), range(4,7)):\n",
        "  print(a,b)"
      ],
      "metadata": {
        "colab": {
          "base_uri": "https://localhost:8080/"
        },
        "id": "DkezBsLQ6ySE",
        "outputId": "5d0b6074-dfcb-4a58-cf2a-91f9728cd789"
      },
      "execution_count": null,
      "outputs": [
        {
          "output_type": "stream",
          "name": "stdout",
          "text": [
            "0 4\n",
            "1 5\n",
            "2 6\n"
          ]
        }
      ]
    },
    {
      "cell_type": "code",
      "source": [
        "# help(zip())"
      ],
      "metadata": {
        "id": "rGLgoR8w674x"
      },
      "execution_count": null,
      "outputs": []
    },
    {
      "cell_type": "code",
      "source": [
        "[(a,b) for a, b in zip(range(3), range(4,7))]"
      ],
      "metadata": {
        "colab": {
          "base_uri": "https://localhost:8080/"
        },
        "id": "NMk9iRHU7IZT",
        "outputId": "5a48215c-f603-4c32-ec9a-482eff57f407"
      },
      "execution_count": null,
      "outputs": [
        {
          "output_type": "execute_result",
          "data": {
            "text/plain": [
              "[(0, 4), (1, 5), (2, 6)]"
            ]
          },
          "metadata": {},
          "execution_count": 41
        }
      ]
    },
    {
      "cell_type": "code",
      "source": [
        "# for dictin\n",
        "\n",
        "{(a,b) for a, b in zip(range(3), range(4,7))}"
      ],
      "metadata": {
        "colab": {
          "base_uri": "https://localhost:8080/"
        },
        "id": "eaVp8l7C7Yiv",
        "outputId": "bf537962-bf7f-43b9-835a-1a8be78bdb63"
      },
      "execution_count": null,
      "outputs": [
        {
          "output_type": "execute_result",
          "data": {
            "text/plain": [
              "{(0, 4), (1, 5), (2, 6)}"
            ]
          },
          "metadata": {},
          "execution_count": 44
        }
      ]
    },
    {
      "cell_type": "markdown",
      "source": [
        "# ASCII, ord(), and chr()\n",
        "\n",
        "1. What is `ASCII`?\n",
        "\n",
        "  ASCII stands for American Standard Code for Information Interchange. It’s a standard that maps characters to numbers.\n",
        "\n",
        "      ```\n",
        "        Example:\n",
        "\n",
        "        'A' → 65\n",
        "\n",
        "        'a' → 97\n",
        "\n",
        "        '0' → 48\n",
        "      ```\n",
        "  \n",
        "2. `ord()` – Character to ASCII (Unicode) number\n",
        "\n",
        "  ```python\n",
        "    print(ord('A'))  # Output: 65\n",
        "    print(ord('a'))  # Output: 97\n",
        "    print(ord('1'))  # Output: 49\n",
        "\n",
        "  ```\n",
        "  `ord()` gives the integer value (Unicode code point) of a character.\n",
        "\n",
        "3. `chr()` – Number to Character\n",
        "\n",
        "  ```python\n",
        "    print(chr(65))  # Output: 'A'\n",
        "    print(chr(97))  # Output: 'a'\n",
        "    print(chr(8364))  # Output: '€' (supports Unicode too)\n",
        "  ```\n",
        "  `chr()` gives the character corresponding to a number."
      ],
      "metadata": {
        "id": "utYihhdf7opf"
      }
    },
    {
      "cell_type": "code",
      "source": [
        "for i in range(97, 123):\n",
        "    print(chr(i), end=' ')\n",
        "# Output: a b c d ... z\n"
      ],
      "metadata": {
        "id": "nr2GopCF9Jts",
        "outputId": "5c0254af-ca50-4d50-d230-d0f73b5207a2",
        "colab": {
          "base_uri": "https://localhost:8080/"
        }
      },
      "execution_count": null,
      "outputs": [
        {
          "output_type": "stream",
          "name": "stdout",
          "text": [
            "a b c d e f g h i j k l m n o p q r s t u v w x y z "
          ]
        }
      ]
    },
    {
      "cell_type": "code",
      "source": [
        "word = \"Hi\"\n",
        "ascii_list = [ord(c) for c in word]\n",
        "print(ascii_list)  # Output: [72, 105]\n"
      ],
      "metadata": {
        "id": "WscprgX39KDi",
        "outputId": "e91a3523-f6aa-42e3-a32b-774f8fd439d3",
        "colab": {
          "base_uri": "https://localhost:8080/"
        }
      },
      "execution_count": null,
      "outputs": [
        {
          "output_type": "stream",
          "name": "stdout",
          "text": [
            "[72, 105]\n"
          ]
        }
      ]
    },
    {
      "cell_type": "code",
      "source": [
        "ascii_list = [72, 105]\n",
        "word = ''.join([chr(num) for num in ascii_list])\n",
        "print(word)  # Output: Hi"
      ],
      "metadata": {
        "id": "ulxQO9fi9Nl-",
        "outputId": "8b0777d4-b3a6-48e9-e5b3-4863ef7b722d",
        "colab": {
          "base_uri": "https://localhost:8080/"
        }
      },
      "execution_count": 2,
      "outputs": [
        {
          "output_type": "stream",
          "name": "stdout",
          "text": [
            "Hi\n"
          ]
        }
      ]
    },
    {
      "cell_type": "markdown",
      "source": [
        "Modules/Pip/Packages"
      ],
      "metadata": {
        "id": "1-Hpz6dnqICj"
      }
    },
    {
      "cell_type": "code",
      "source": [
        "import numpy as np\n",
        "\n",
        "np"
      ],
      "metadata": {
        "colab": {
          "base_uri": "https://localhost:8080/"
        },
        "id": "qlRxvdeCqOuQ",
        "outputId": "8a1b360c-f978-4af8-8da6-9ae8abc752e4"
      },
      "execution_count": 4,
      "outputs": [
        {
          "output_type": "execute_result",
          "data": {
            "text/plain": [
              "<module 'numpy' from '/usr/local/lib/python3.11/dist-packages/numpy/__init__.py'>"
            ]
          },
          "metadata": {},
          "execution_count": 4
        }
      ]
    },
    {
      "cell_type": "code",
      "source": [
        "!pip list"
      ],
      "metadata": {
        "colab": {
          "base_uri": "https://localhost:8080/"
        },
        "id": "s2msQI2gqcKc",
        "outputId": "6ca52753-bb48-4149-a58a-305cc5fcedac"
      },
      "execution_count": 5,
      "outputs": [
        {
          "output_type": "stream",
          "name": "stdout",
          "text": [
            "Package                               Version\n",
            "------------------------------------- ------------------\n",
            "absl-py                               1.4.0\n",
            "accelerate                            1.5.2\n",
            "aiohappyeyeballs                      2.6.1\n",
            "aiohttp                               3.11.15\n",
            "aiosignal                             1.3.2\n",
            "alabaster                             1.0.0\n",
            "albucore                              0.0.23\n",
            "albumentations                        2.0.5\n",
            "ale-py                                0.10.2\n",
            "altair                                5.5.0\n",
            "annotated-types                       0.7.0\n",
            "anyio                                 4.9.0\n",
            "argon2-cffi                           23.1.0\n",
            "argon2-cffi-bindings                  21.2.0\n",
            "array_record                          0.7.1\n",
            "arviz                                 0.21.0\n",
            "astropy                               7.0.1\n",
            "astropy-iers-data                     0.2025.4.21.0.37.6\n",
            "astunparse                            1.6.3\n",
            "atpublic                              5.1\n",
            "attrs                                 25.3.0\n",
            "audioread                             3.0.1\n",
            "autograd                              1.7.0\n",
            "babel                                 2.17.0\n",
            "backcall                              0.2.0\n",
            "backports.tarfile                     1.2.0\n",
            "beautifulsoup4                        4.13.4\n",
            "betterproto                           2.0.0b6\n",
            "bigframes                             2.1.0\n",
            "bigquery-magics                       0.9.0\n",
            "bleach                                6.2.0\n",
            "blinker                               1.9.0\n",
            "blis                                  1.3.0\n",
            "blosc2                                3.3.1\n",
            "bokeh                                 3.6.3\n",
            "Bottleneck                            1.4.2\n",
            "bqplot                                0.12.44\n",
            "branca                                0.8.1\n",
            "CacheControl                          0.14.2\n",
            "cachetools                            5.5.2\n",
            "catalogue                             2.0.10\n",
            "certifi                               2025.1.31\n",
            "cffi                                  1.17.1\n",
            "chardet                               5.2.0\n",
            "charset-normalizer                    3.4.1\n",
            "chex                                  0.1.89\n",
            "clarabel                              0.10.0\n",
            "click                                 8.1.8\n",
            "cloudpathlib                          0.21.0\n",
            "cloudpickle                           3.1.1\n",
            "cmake                                 3.31.6\n",
            "cmdstanpy                             1.2.5\n",
            "colorcet                              3.1.0\n",
            "colorlover                            0.3.0\n",
            "colour                                0.1.5\n",
            "community                             1.0.0b1\n",
            "confection                            0.1.5\n",
            "cons                                  0.4.6\n",
            "contourpy                             1.3.2\n",
            "cramjam                               2.10.0\n",
            "cryptography                          43.0.3\n",
            "cuda-python                           12.6.2.post1\n",
            "cudf-cu12                             25.2.1\n",
            "cudf-polars-cu12                      25.2.2\n",
            "cufflinks                             0.17.3\n",
            "cuml-cu12                             25.2.1\n",
            "cupy-cuda12x                          13.3.0\n",
            "cuvs-cu12                             25.2.1\n",
            "cvxopt                                1.3.2\n",
            "cvxpy                                 1.6.5\n",
            "cycler                                0.12.1\n",
            "cyipopt                               1.5.0\n",
            "cymem                                 2.0.11\n",
            "Cython                                3.0.12\n",
            "dask                                  2024.12.1\n",
            "dask-cuda                             25.2.0\n",
            "dask-cudf-cu12                        25.2.2\n",
            "dask-expr                             1.1.21\n",
            "datascience                           0.17.6\n",
            "db-dtypes                             1.4.2\n",
            "dbus-python                           1.2.18\n",
            "debugpy                               1.8.0\n",
            "decorator                             4.4.2\n",
            "defusedxml                            0.7.1\n",
            "Deprecated                            1.2.18\n",
            "diffusers                             0.32.2\n",
            "distributed                           2024.12.1\n",
            "distributed-ucxx-cu12                 0.42.0\n",
            "distro                                1.9.0\n",
            "dlib                                  19.24.6\n",
            "dm-tree                               0.1.9\n",
            "docker-pycreds                        0.4.0\n",
            "docstring_parser                      0.16\n",
            "docutils                              0.21.2\n",
            "dopamine_rl                           4.1.2\n",
            "duckdb                                1.2.2\n",
            "earthengine-api                       1.5.12\n",
            "easydict                              1.13\n",
            "editdistance                          0.8.1\n",
            "eerepr                                0.1.1\n",
            "einops                                0.8.1\n",
            "en_core_web_sm                        3.8.0\n",
            "entrypoints                           0.4\n",
            "et_xmlfile                            2.0.0\n",
            "etils                                 1.12.2\n",
            "etuples                               0.3.9\n",
            "Farama-Notifications                  0.0.4\n",
            "fastai                                2.7.19\n",
            "fastcore                              1.7.29\n",
            "fastdownload                          0.0.7\n",
            "fastjsonschema                        2.21.1\n",
            "fastprogress                          1.0.3\n",
            "fastrlock                             0.8.3\n",
            "filelock                              3.18.0\n",
            "firebase-admin                        6.7.0\n",
            "Flask                                 3.1.0\n",
            "flatbuffers                           25.2.10\n",
            "flax                                  0.10.5\n",
            "folium                                0.19.5\n",
            "fonttools                             4.57.0\n",
            "frozendict                            2.4.6\n",
            "frozenlist                            1.6.0\n",
            "fsspec                                2025.3.2\n",
            "future                                1.0.0\n",
            "gast                                  0.6.0\n",
            "gcsfs                                 2025.3.2\n",
            "GDAL                                  3.6.4\n",
            "gdown                                 5.2.0\n",
            "geemap                                0.35.3\n",
            "geocoder                              1.38.1\n",
            "geographiclib                         2.0\n",
            "geopandas                             1.0.1\n",
            "geopy                                 2.4.1\n",
            "gin-config                            0.5.0\n",
            "gitdb                                 4.0.12\n",
            "GitPython                             3.1.44\n",
            "glob2                                 0.7\n",
            "google                                2.0.3\n",
            "google-ai-generativelanguage          0.6.15\n",
            "google-api-core                       2.24.2\n",
            "google-api-python-client              2.164.0\n",
            "google-auth                           2.38.0\n",
            "google-auth-httplib2                  0.2.0\n",
            "google-auth-oauthlib                  1.2.2\n",
            "google-cloud-aiplatform               1.89.0\n",
            "google-cloud-bigquery                 3.31.0\n",
            "google-cloud-bigquery-connection      1.18.2\n",
            "google-cloud-bigquery-storage         2.30.0\n",
            "google-cloud-bigtable                 2.30.1\n",
            "google-cloud-core                     2.4.3\n",
            "google-cloud-dataproc                 5.18.1\n",
            "google-cloud-datastore                2.21.0\n",
            "google-cloud-firestore                2.20.2\n",
            "google-cloud-functions                1.20.3\n",
            "google-cloud-iam                      2.19.0\n",
            "google-cloud-language                 2.17.1\n",
            "google-cloud-pubsub                   2.29.0\n",
            "google-cloud-resource-manager         1.14.2\n",
            "google-cloud-spanner                  3.53.0\n",
            "google-cloud-storage                  2.19.0\n",
            "google-cloud-translate                3.20.2\n",
            "google-colab                          1.0.0\n",
            "google-crc32c                         1.7.1\n",
            "google-genai                          1.11.0\n",
            "google-generativeai                   0.8.5\n",
            "google-pasta                          0.2.0\n",
            "google-resumable-media                2.7.2\n",
            "google-spark-connect                  0.5.2\n",
            "googleapis-common-protos              1.70.0\n",
            "googledrivedownloader                 1.1.0\n",
            "graphviz                              0.20.3\n",
            "greenlet                              3.2.1\n",
            "grpc-google-iam-v1                    0.14.2\n",
            "grpc-interceptor                      0.15.4\n",
            "grpcio                                1.71.0\n",
            "grpcio-status                         1.71.0\n",
            "grpclib                               0.4.7\n",
            "gspread                               6.2.0\n",
            "gspread-dataframe                     4.0.0\n",
            "gym                                   0.25.2\n",
            "gym-notices                           0.0.8\n",
            "gymnasium                             1.1.1\n",
            "h11                                   0.14.0\n",
            "h2                                    4.2.0\n",
            "h5netcdf                              1.6.1\n",
            "h5py                                  3.13.0\n",
            "hdbscan                               0.8.40\n",
            "highspy                               1.9.0\n",
            "holidays                              0.71\n",
            "holoviews                             1.20.2\n",
            "hpack                                 4.1.0\n",
            "html5lib                              1.1\n",
            "httpcore                              1.0.8\n",
            "httpimport                            1.4.1\n",
            "httplib2                              0.22.0\n",
            "httpx                                 0.28.1\n",
            "huggingface-hub                       0.30.2\n",
            "humanize                              4.12.2\n",
            "hyperframe                            6.1.0\n",
            "hyperopt                              0.2.7\n",
            "ibis-framework                        9.5.0\n",
            "idna                                  3.10\n",
            "imageio                               2.37.0\n",
            "imageio-ffmpeg                        0.6.0\n",
            "imagesize                             1.4.1\n",
            "imbalanced-learn                      0.13.0\n",
            "immutabledict                         4.2.1\n",
            "importlib_metadata                    8.6.1\n",
            "importlib_resources                   6.5.2\n",
            "imutils                               0.5.4\n",
            "inflect                               7.5.0\n",
            "iniconfig                             2.1.0\n",
            "intel-cmplr-lib-ur                    2025.1.0\n",
            "intel-openmp                          2025.1.0\n",
            "ipyevents                             2.0.2\n",
            "ipyfilechooser                        0.6.0\n",
            "ipykernel                             6.17.1\n",
            "ipyleaflet                            0.19.2\n",
            "ipyparallel                           8.8.0\n",
            "ipython                               7.34.0\n",
            "ipython-genutils                      0.2.0\n",
            "ipython-sql                           0.5.0\n",
            "ipytree                               0.2.2\n",
            "ipywidgets                            7.7.1\n",
            "itsdangerous                          2.2.0\n",
            "jaraco.classes                        3.4.0\n",
            "jaraco.context                        6.0.1\n",
            "jaraco.functools                      4.1.0\n",
            "jax                                   0.5.2\n",
            "jax-cuda12-pjrt                       0.5.1\n",
            "jax-cuda12-plugin                     0.5.1\n",
            "jaxlib                                0.5.1\n",
            "jeepney                               0.9.0\n",
            "jieba                                 0.42.1\n",
            "Jinja2                                3.1.6\n",
            "jiter                                 0.9.0\n",
            "joblib                                1.4.2\n",
            "jsonpatch                             1.33\n",
            "jsonpickle                            4.0.5\n",
            "jsonpointer                           3.0.0\n",
            "jsonschema                            4.23.0\n",
            "jsonschema-specifications             2024.10.1\n",
            "jupyter-client                        6.1.12\n",
            "jupyter-console                       6.1.0\n",
            "jupyter_core                          5.7.2\n",
            "jupyter-leaflet                       0.19.2\n",
            "jupyter-server                        1.16.0\n",
            "jupyterlab_pygments                   0.3.0\n",
            "jupyterlab_widgets                    3.0.14\n",
            "kaggle                                1.7.4.2\n",
            "kagglehub                             0.3.11\n",
            "keras                                 3.8.0\n",
            "keras-hub                             0.18.1\n",
            "keras-nlp                             0.18.1\n",
            "keyring                               25.6.0\n",
            "keyrings.google-artifactregistry-auth 1.1.2\n",
            "kiwisolver                            1.4.8\n",
            "langchain                             0.3.24\n",
            "langchain-core                        0.3.55\n",
            "langchain-text-splitters              0.3.8\n",
            "langcodes                             3.5.0\n",
            "langsmith                             0.3.33\n",
            "language_data                         1.3.0\n",
            "launchpadlib                          1.10.16\n",
            "lazr.restfulclient                    0.14.4\n",
            "lazr.uri                              1.0.6\n",
            "lazy_loader                           0.4\n",
            "libclang                              18.1.1\n",
            "libcudf-cu12                          25.2.1\n",
            "libcugraph-cu12                       25.2.0\n",
            "libcuml-cu12                          25.2.1\n",
            "libcuvs-cu12                          25.2.1\n",
            "libkvikio-cu12                        25.2.1\n",
            "libraft-cu12                          25.2.0\n",
            "librosa                               0.11.0\n",
            "libucx-cu12                           1.18.0\n",
            "libucxx-cu12                          0.42.0\n",
            "lightgbm                              4.5.0\n",
            "linkify-it-py                         2.0.3\n",
            "llvmlite                              0.43.0\n",
            "locket                                1.0.0\n",
            "logical-unification                   0.4.6\n",
            "lxml                                  5.3.2\n",
            "Mako                                  1.1.3\n",
            "marisa-trie                           1.2.1\n",
            "Markdown                              3.8\n",
            "markdown-it-py                        3.0.0\n",
            "MarkupSafe                            3.0.2\n",
            "matplotlib                            3.10.0\n",
            "matplotlib-inline                     0.1.7\n",
            "matplotlib-venn                       1.1.2\n",
            "mdit-py-plugins                       0.4.2\n",
            "mdurl                                 0.1.2\n",
            "miniKanren                            1.0.3\n",
            "missingno                             0.5.2\n",
            "mistune                               3.1.3\n",
            "mizani                                0.13.3\n",
            "mkl                                   2025.0.1\n",
            "ml-dtypes                             0.4.1\n",
            "mlxtend                               0.23.4\n",
            "more-itertools                        10.6.0\n",
            "moviepy                               1.0.3\n",
            "mpmath                                1.3.0\n",
            "msgpack                               1.1.0\n",
            "multidict                             6.4.3\n",
            "multipledispatch                      1.0.0\n",
            "multitasking                          0.0.11\n",
            "murmurhash                            1.0.12\n",
            "music21                               9.3.0\n",
            "namex                                 0.0.9\n",
            "narwhals                              1.35.0\n",
            "natsort                               8.4.0\n",
            "nbclassic                             1.2.0\n",
            "nbclient                              0.10.2\n",
            "nbconvert                             7.16.6\n",
            "nbformat                              5.10.4\n",
            "ndindex                               1.9.2\n",
            "nest-asyncio                          1.6.0\n",
            "networkx                              3.4.2\n",
            "nibabel                               5.3.2\n",
            "nltk                                  3.9.1\n",
            "notebook                              6.5.7\n",
            "notebook_shim                         0.2.4\n",
            "numba                                 0.60.0\n",
            "numba-cuda                            0.2.0\n",
            "numexpr                               2.10.2\n",
            "numpy                                 2.0.2\n",
            "nvidia-cublas-cu12                    12.5.3.2\n",
            "nvidia-cuda-cupti-cu12                12.5.82\n",
            "nvidia-cuda-nvcc-cu12                 12.5.82\n",
            "nvidia-cuda-nvrtc-cu12                12.5.82\n",
            "nvidia-cuda-runtime-cu12              12.5.82\n",
            "nvidia-cudnn-cu12                     9.3.0.75\n",
            "nvidia-cufft-cu12                     11.2.3.61\n",
            "nvidia-curand-cu12                    10.3.6.82\n",
            "nvidia-cusolver-cu12                  11.6.3.83\n",
            "nvidia-cusparse-cu12                  12.5.1.3\n",
            "nvidia-cusparselt-cu12                0.6.2\n",
            "nvidia-ml-py                          12.570.86\n",
            "nvidia-nccl-cu12                      2.21.5\n",
            "nvidia-nvcomp-cu12                    4.2.0.11\n",
            "nvidia-nvjitlink-cu12                 12.5.82\n",
            "nvidia-nvtx-cu12                      12.4.127\n",
            "nvtx                                  0.2.11\n",
            "nx-cugraph-cu12                       25.2.0\n",
            "oauth2client                          4.1.3\n",
            "oauthlib                              3.2.2\n",
            "openai                                1.75.0\n",
            "opencv-contrib-python                 4.11.0.86\n",
            "opencv-python                         4.11.0.86\n",
            "opencv-python-headless                4.11.0.86\n",
            "openpyxl                              3.1.5\n",
            "opentelemetry-api                     1.32.1\n",
            "opentelemetry-sdk                     1.32.1\n",
            "opentelemetry-semantic-conventions    0.53b1\n",
            "opt_einsum                            3.4.0\n",
            "optax                                 0.2.4\n",
            "optree                                0.15.0\n",
            "orbax-checkpoint                      0.11.12\n",
            "orjson                                3.10.16\n",
            "osqp                                  1.0.3\n",
            "packaging                             24.2\n",
            "pandas                                2.2.2\n",
            "pandas-datareader                     0.10.0\n",
            "pandas-gbq                            0.28.0\n",
            "pandas-stubs                          2.2.2.240909\n",
            "pandocfilters                         1.5.1\n",
            "panel                                 1.6.2\n",
            "param                                 2.2.0\n",
            "parso                                 0.8.4\n",
            "parsy                                 2.1\n",
            "partd                                 1.4.2\n",
            "pathlib                               1.0.1\n",
            "patsy                                 1.0.1\n",
            "peewee                                3.17.9\n",
            "peft                                  0.14.0\n",
            "pexpect                               4.9.0\n",
            "pickleshare                           0.7.5\n",
            "pillow                                11.1.0\n",
            "pip                                   24.1.2\n",
            "platformdirs                          4.3.7\n",
            "plotly                                5.24.1\n",
            "plotnine                              0.14.5\n",
            "pluggy                                1.5.0\n",
            "ply                                   3.11\n",
            "polars                                1.21.0\n",
            "pooch                                 1.8.2\n",
            "portpicker                            1.5.2\n",
            "preshed                               3.0.9\n",
            "prettytable                           3.16.0\n",
            "proglog                               0.1.11\n",
            "progressbar2                          4.5.0\n",
            "prometheus_client                     0.21.1\n",
            "promise                               2.3\n",
            "prompt_toolkit                        3.0.51\n",
            "propcache                             0.3.1\n",
            "prophet                               1.1.6\n",
            "proto-plus                            1.26.1\n",
            "protobuf                              5.29.4\n",
            "psutil                                5.9.5\n",
            "psycopg2                              2.9.10\n",
            "ptyprocess                            0.7.0\n",
            "py-cpuinfo                            9.0.0\n",
            "py4j                                  0.10.9.7\n",
            "pyarrow                               18.1.0\n",
            "pyasn1                                0.6.1\n",
            "pyasn1_modules                        0.4.2\n",
            "pycairo                               1.28.0\n",
            "pycocotools                           2.0.8\n",
            "pycparser                             2.22\n",
            "pydantic                              2.11.3\n",
            "pydantic_core                         2.33.1\n",
            "pydata-google-auth                    1.9.1\n",
            "pydot                                 3.0.4\n",
            "pydotplus                             2.0.2\n",
            "PyDrive                               1.3.1\n",
            "PyDrive2                              1.21.3\n",
            "pyerfa                                2.0.1.5\n",
            "pygame                                2.6.1\n",
            "pygit2                                1.17.0\n",
            "Pygments                              2.18.0\n",
            "PyGObject                             3.42.0\n",
            "PyJWT                                 2.10.1\n",
            "pylibcudf-cu12                        25.2.1\n",
            "pylibcugraph-cu12                     25.2.0\n",
            "pylibraft-cu12                        25.2.0\n",
            "pymc                                  5.21.2\n",
            "pymystem3                             0.2.0\n",
            "pynndescent                           0.5.13\n",
            "pynvjitlink-cu12                      0.5.2\n",
            "pynvml                                12.0.0\n",
            "pyogrio                               0.10.0\n",
            "Pyomo                                 6.8.2\n",
            "PyOpenGL                              3.1.9\n",
            "pyOpenSSL                             24.2.1\n",
            "pyparsing                             3.2.3\n",
            "pyperclip                             1.9.0\n",
            "pyproj                                3.7.1\n",
            "pyshp                                 2.3.1\n",
            "PySocks                               1.7.1\n",
            "pyspark                               3.5.5\n",
            "pytensor                              2.30.3\n",
            "pytest                                8.3.5\n",
            "python-apt                            0.0.0\n",
            "python-box                            7.3.2\n",
            "python-dateutil                       2.8.2\n",
            "python-louvain                        0.16\n",
            "python-slugify                        8.0.4\n",
            "python-snappy                         0.7.3\n",
            "python-utils                          3.9.1\n",
            "pytz                                  2025.2\n",
            "pyviz_comms                           3.0.4\n",
            "PyYAML                                6.0.2\n",
            "pyzmq                                 24.0.1\n",
            "raft-dask-cu12                        25.2.0\n",
            "rapids-dask-dependency                25.2.0\n",
            "ratelim                               0.1.6\n",
            "referencing                           0.36.2\n",
            "regex                                 2024.11.6\n",
            "requests                              2.32.3\n",
            "requests-oauthlib                     2.0.0\n",
            "requests-toolbelt                     1.0.0\n",
            "requirements-parser                   0.9.0\n",
            "rich                                  13.9.4\n",
            "rmm-cu12                              25.2.0\n",
            "roman-numerals-py                     3.1.0\n",
            "rpds-py                               0.24.0\n",
            "rpy2                                  3.5.17\n",
            "rsa                                   4.9.1\n",
            "safetensors                           0.5.3\n",
            "scikit-image                          0.25.2\n",
            "scikit-learn                          1.6.1\n",
            "scipy                                 1.14.1\n",
            "scooby                                0.10.0\n",
            "scs                                   3.2.7.post2\n",
            "seaborn                               0.13.2\n",
            "SecretStorage                         3.3.3\n",
            "Send2Trash                            1.8.3\n",
            "sentence-transformers                 3.4.1\n",
            "sentencepiece                         0.2.0\n",
            "sentry-sdk                            2.26.1\n",
            "setproctitle                          1.3.5\n",
            "setuptools                            75.2.0\n",
            "shap                                  0.47.2\n",
            "shapely                               2.1.0\n",
            "shellingham                           1.5.4\n",
            "simple-parsing                        0.1.7\n",
            "simplejson                            3.20.1\n",
            "simsimd                               6.2.1\n",
            "six                                   1.17.0\n",
            "sklearn-compat                        0.1.3\n",
            "sklearn-pandas                        2.2.0\n",
            "slicer                                0.0.8\n",
            "smart-open                            7.1.0\n",
            "smmap                                 5.0.2\n",
            "sniffio                               1.3.1\n",
            "snowballstemmer                       2.2.0\n",
            "sortedcontainers                      2.4.0\n",
            "soundfile                             0.13.1\n",
            "soupsieve                             2.7\n",
            "soxr                                  0.5.0.post1\n",
            "spacy                                 3.8.5\n",
            "spacy-legacy                          3.0.12\n",
            "spacy-loggers                         1.0.5\n",
            "spanner-graph-notebook                1.1.6\n",
            "Sphinx                                8.2.3\n",
            "sphinxcontrib-applehelp               2.0.0\n",
            "sphinxcontrib-devhelp                 2.0.0\n",
            "sphinxcontrib-htmlhelp                2.1.0\n",
            "sphinxcontrib-jsmath                  1.0.1\n",
            "sphinxcontrib-qthelp                  2.0.0\n",
            "sphinxcontrib-serializinghtml         2.0.0\n",
            "SQLAlchemy                            2.0.40\n",
            "sqlglot                               25.20.2\n",
            "sqlparse                              0.5.3\n",
            "srsly                                 2.5.1\n",
            "stanio                                0.5.1\n",
            "statsmodels                           0.14.4\n",
            "stringzilla                           3.12.5\n",
            "sympy                                 1.13.1\n",
            "tables                                3.10.2\n",
            "tabulate                              0.9.0\n",
            "tbb                                   2022.1.0\n",
            "tblib                                 3.1.0\n",
            "tcmlib                                1.3.0\n",
            "tenacity                              9.1.2\n",
            "tensorboard                           2.18.0\n",
            "tensorboard-data-server               0.7.2\n",
            "tensorflow                            2.18.0\n",
            "tensorflow-datasets                   4.9.8\n",
            "tensorflow_decision_forests           1.11.0\n",
            "tensorflow-hub                        0.16.1\n",
            "tensorflow-io-gcs-filesystem          0.37.1\n",
            "tensorflow-metadata                   1.17.1\n",
            "tensorflow-probability                0.25.0\n",
            "tensorflow-text                       2.18.1\n",
            "tensorstore                           0.1.73\n",
            "termcolor                             3.0.1\n",
            "terminado                             0.18.1\n",
            "text-unidecode                        1.3\n",
            "textblob                              0.19.0\n",
            "tf_keras                              2.18.0\n",
            "tf-slim                               1.1.0\n",
            "thinc                                 8.3.6\n",
            "threadpoolctl                         3.6.0\n",
            "tifffile                              2025.3.30\n",
            "timm                                  1.0.15\n",
            "tinycss2                              1.4.0\n",
            "tokenizers                            0.21.1\n",
            "toml                                  0.10.2\n",
            "toolz                                 0.12.1\n",
            "torch                                 2.6.0+cu124\n",
            "torchaudio                            2.6.0+cu124\n",
            "torchsummary                          1.5.1\n",
            "torchvision                           0.21.0+cu124\n",
            "tornado                               6.4.2\n",
            "tqdm                                  4.67.1\n",
            "traitlets                             5.7.1\n",
            "traittypes                            0.2.1\n",
            "transformers                          4.51.3\n",
            "treelite                              4.4.1\n",
            "treescope                             0.1.9\n",
            "triton                                3.2.0\n",
            "tweepy                                4.15.0\n",
            "typeguard                             4.4.2\n",
            "typer                                 0.15.2\n",
            "types-pytz                            2025.2.0.20250326\n",
            "types-setuptools                      79.0.0.20250422\n",
            "typing_extensions                     4.13.2\n",
            "typing-inspection                     0.4.0\n",
            "tzdata                                2025.2\n",
            "tzlocal                               5.3.1\n",
            "uc-micro-py                           1.0.3\n",
            "ucx-py-cu12                           0.42.0\n",
            "ucxx-cu12                             0.42.0\n",
            "umap-learn                            0.5.7\n",
            "umf                                   0.10.0\n",
            "uritemplate                           4.1.1\n",
            "urllib3                               2.3.0\n",
            "vega-datasets                         0.9.0\n",
            "wadllib                               1.3.6\n",
            "wandb                                 0.19.9\n",
            "wasabi                                1.1.3\n",
            "wcwidth                               0.2.13\n",
            "weasel                                0.4.1\n",
            "webcolors                             24.11.1\n",
            "webencodings                          0.5.1\n",
            "websocket-client                      1.8.0\n",
            "websockets                            15.0.1\n",
            "Werkzeug                              3.1.3\n",
            "wheel                                 0.45.1\n",
            "widgetsnbextension                    3.6.10\n",
            "wordcloud                             1.9.4\n",
            "wrapt                                 1.17.2\n",
            "wurlitzer                             3.1.1\n",
            "xarray                                2025.1.2\n",
            "xarray-einstats                       0.8.0\n",
            "xgboost                               2.1.4\n",
            "xlrd                                  2.0.1\n",
            "xyzservices                           2025.1.0\n",
            "yarl                                  1.20.0\n",
            "ydf                                   0.11.0\n",
            "yellowbrick                           1.5\n",
            "yfinance                              0.2.55\n",
            "zict                                  3.0.0\n",
            "zipp                                  3.21.0\n",
            "zstandard                             0.23.0\n"
          ]
        }
      ]
    },
    {
      "cell_type": "code",
      "source": [
        "!ls"
      ],
      "metadata": {
        "colab": {
          "base_uri": "https://localhost:8080/"
        },
        "id": "IXb7Dh9rr2SR",
        "outputId": "e711d1d8-4421-4e7e-fa1f-189458e38647"
      },
      "execution_count": 6,
      "outputs": [
        {
          "output_type": "stream",
          "name": "stdout",
          "text": [
            "sample_data  test.py\n"
          ]
        }
      ]
    },
    {
      "cell_type": "code",
      "source": [
        "!python test.py"
      ],
      "metadata": {
        "colab": {
          "base_uri": "https://localhost:8080/"
        },
        "id": "nSbkKzINr3uW",
        "outputId": "0a8338dd-bbf2-4e4a-d03b-e73d0ac3543c"
      },
      "execution_count": 9,
      "outputs": [
        {
          "output_type": "stream",
          "name": "stdout",
          "text": [
            "Enter a number: 7\n",
            "Thank you for the 7 number\n"
          ]
        }
      ]
    }
  ]
}