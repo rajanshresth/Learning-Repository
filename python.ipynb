{
  "nbformat": 4,
  "nbformat_minor": 0,
  "metadata": {
    "colab": {
      "provenance": [],
      "collapsed_sections": [
        "6sqtzs7_p2CE"
      ],
      "authorship_tag": "ABX9TyNXB6MJKxkhxeNCz1eCCa4q",
      "include_colab_link": true
    },
    "kernelspec": {
      "name": "python3",
      "display_name": "Python 3"
    },
    "language_info": {
      "name": "python"
    }
  },
  "cells": [
    {
      "cell_type": "markdown",
      "metadata": {
        "id": "view-in-github",
        "colab_type": "text"
      },
      "source": [
        "<a href=\"https://colab.research.google.com/github/rajanshresth/Learning-Repository/blob/main/python.ipynb\" target=\"_parent\"><img src=\"https://colab.research.google.com/assets/colab-badge.svg\" alt=\"Open In Colab\"/></a>"
      ]
    },
    {
      "cell_type": "markdown",
      "source": [
        "# **Introduction To Python**"
      ],
      "metadata": {
        "id": "P26eYMNZBFAU"
      }
    },
    {
      "cell_type": "markdown",
      "source": [
        "\n",
        "\n",
        "---\n",
        "\n"
      ],
      "metadata": {
        "id": "XDVrAuity_Cz"
      }
    },
    {
      "cell_type": "markdown",
      "source": [
        "This is the fist code in python"
      ],
      "metadata": {
        "id": "0Jo3W5LeAafa"
      }
    },
    {
      "cell_type": "code",
      "execution_count": 1,
      "metadata": {
        "colab": {
          "base_uri": "https://localhost:8080/"
        },
        "id": "CW76buunAQyt",
        "outputId": "a944653f-cf19-4f6b-f347-494886bdfc27"
      },
      "outputs": [
        {
          "output_type": "stream",
          "name": "stdout",
          "text": [
            "\"Hello, world!\"\n"
          ]
        }
      ],
      "source": [
        "print('\"Hello, world!\"')"
      ]
    },
    {
      "cell_type": "code",
      "source": [
        "\"Hello\" + \"world\""
      ],
      "metadata": {
        "colab": {
          "base_uri": "https://localhost:8080/",
          "height": 35
        },
        "id": "6eI3MVYTA2PM",
        "outputId": "5ec9aff7-919e-4c69-dbd1-1409d911c6b9"
      },
      "execution_count": null,
      "outputs": [
        {
          "output_type": "execute_result",
          "data": {
            "text/plain": [
              "'Helloworld'"
            ],
            "application/vnd.google.colaboratory.intrinsic+json": {
              "type": "string"
            }
          },
          "metadata": {},
          "execution_count": 10
        }
      ]
    },
    {
      "cell_type": "markdown",
      "source": [
        "type"
      ],
      "metadata": {
        "id": "LhQXWs87AOdo"
      }
    },
    {
      "cell_type": "code",
      "source": [
        "type(\"Hello World\")"
      ],
      "metadata": {
        "colab": {
          "base_uri": "https://localhost:8080/"
        },
        "id": "cHjIQpAzAc6F",
        "outputId": "ff71a105-1753-40d1-c66c-1145e81de633"
      },
      "execution_count": null,
      "outputs": [
        {
          "output_type": "execute_result",
          "data": {
            "text/plain": [
              "str"
            ]
          },
          "metadata": {},
          "execution_count": 8
        }
      ]
    },
    {
      "cell_type": "code",
      "source": [
        "\"Namaste\"+\"hi\"\n",
        "print(\"hi\")"
      ],
      "metadata": {
        "colab": {
          "base_uri": "https://localhost:8080/"
        },
        "id": "zf2cDtEjBSl0",
        "outputId": "0d266f42-741e-4e47-e74d-2cac60ad384f"
      },
      "execution_count": null,
      "outputs": [
        {
          "output_type": "stream",
          "name": "stdout",
          "text": [
            "hi\n"
          ]
        }
      ]
    },
    {
      "cell_type": "code",
      "source": [
        "1+2"
      ],
      "metadata": {
        "colab": {
          "base_uri": "https://localhost:8080/"
        },
        "id": "7tpMm9SJBkZD",
        "outputId": "b7d9643c-6761-470b-d0ef-113ddb18e03f"
      },
      "execution_count": null,
      "outputs": [
        {
          "output_type": "execute_result",
          "data": {
            "text/plain": [
              "3"
            ]
          },
          "metadata": {},
          "execution_count": 14
        }
      ]
    },
    {
      "cell_type": "markdown",
      "source": [
        "\n",
        "\n",
        "---\n",
        "\n"
      ],
      "metadata": {
        "id": "j88AdvJEy9bl"
      }
    },
    {
      "cell_type": "markdown",
      "source": [
        "**Math Opearation**\n",
        "\n",
        "---\n",
        "\n",
        "*   `+ --> addition`\n",
        "*   `- --> substraction`\n",
        "*   `* --> multiplication`\n",
        "*   `/ --> division`\n",
        "*   `// --> Floor division` it performs division and returns the integer part of the quotient\n",
        "*   `% --> modulo`It returns the remainder of a division operation between two numbers\n",
        "*   `pow(base, exponent) or base ** exponent  --> power`\n",
        "\n",
        "---"
      ],
      "metadata": {
        "id": "wxt4uzddB7S1"
      }
    },
    {
      "cell_type": "code",
      "source": [
        "type(3)"
      ],
      "metadata": {
        "colab": {
          "base_uri": "https://localhost:8080/"
        },
        "id": "HJRXJsDuCNsR",
        "outputId": "3ba5b1fc-7bc8-499b-9623-9a274ccd6bc7"
      },
      "execution_count": null,
      "outputs": [
        {
          "output_type": "execute_result",
          "data": {
            "text/plain": [
              "int"
            ]
          },
          "metadata": {},
          "execution_count": 15
        }
      ]
    },
    {
      "cell_type": "code",
      "source": [
        "type(3.1)"
      ],
      "metadata": {
        "colab": {
          "base_uri": "https://localhost:8080/"
        },
        "id": "TnIa949RCTQj",
        "outputId": "9d1ab064-d92c-4289-bf13-ba34e84016a3"
      },
      "execution_count": null,
      "outputs": [
        {
          "output_type": "execute_result",
          "data": {
            "text/plain": [
              "float"
            ]
          },
          "metadata": {},
          "execution_count": 16
        }
      ]
    },
    {
      "cell_type": "code",
      "source": [
        "type(3+13)"
      ],
      "metadata": {
        "colab": {
          "base_uri": "https://localhost:8080/"
        },
        "id": "CHnKneDsCWk9",
        "outputId": "0dd15e73-cc43-425e-c7cc-7285c45ebf64"
      },
      "execution_count": null,
      "outputs": [
        {
          "output_type": "execute_result",
          "data": {
            "text/plain": [
              "int"
            ]
          },
          "metadata": {},
          "execution_count": 18
        }
      ]
    },
    {
      "cell_type": "code",
      "source": [
        "type(3.1+4.3)"
      ],
      "metadata": {
        "colab": {
          "base_uri": "https://localhost:8080/"
        },
        "id": "UVcHX36LCeqJ",
        "outputId": "2653f57c-5b6a-4396-c946-2e59869131c3"
      },
      "execution_count": null,
      "outputs": [
        {
          "output_type": "execute_result",
          "data": {
            "text/plain": [
              "float"
            ]
          },
          "metadata": {},
          "execution_count": 21
        }
      ]
    },
    {
      "cell_type": "code",
      "source": [
        "type(3.1+4)"
      ],
      "metadata": {
        "colab": {
          "base_uri": "https://localhost:8080/"
        },
        "id": "b_1FlDiHCipj",
        "outputId": "b4aefa6a-564e-4ba6-cf0d-86ea0e7f9453"
      },
      "execution_count": null,
      "outputs": [
        {
          "output_type": "execute_result",
          "data": {
            "text/plain": [
              "float"
            ]
          },
          "metadata": {},
          "execution_count": 20
        }
      ]
    },
    {
      "cell_type": "code",
      "source": [
        "4-1"
      ],
      "metadata": {
        "colab": {
          "base_uri": "https://localhost:8080/"
        },
        "id": "_V3QsFORCozA",
        "outputId": "2d118c39-1f7b-415d-ca51-60e674be13ec"
      },
      "execution_count": null,
      "outputs": [
        {
          "output_type": "execute_result",
          "data": {
            "text/plain": [
              "3"
            ]
          },
          "metadata": {},
          "execution_count": 22
        }
      ]
    },
    {
      "cell_type": "code",
      "source": [
        "3.2-1.9"
      ],
      "metadata": {
        "colab": {
          "base_uri": "https://localhost:8080/"
        },
        "id": "78daOZP4Crox",
        "outputId": "a1b048d7-24df-4842-a273-1eb66f8ab27b"
      },
      "execution_count": null,
      "outputs": [
        {
          "output_type": "execute_result",
          "data": {
            "text/plain": [
              "1.3000000000000003"
            ]
          },
          "metadata": {},
          "execution_count": 23
        }
      ]
    },
    {
      "cell_type": "code",
      "source": [
        "3*4"
      ],
      "metadata": {
        "colab": {
          "base_uri": "https://localhost:8080/"
        },
        "id": "gNQQI36tCvt4",
        "outputId": "d2f75057-92ce-4625-cb60-2529fe8d0221"
      },
      "execution_count": null,
      "outputs": [
        {
          "output_type": "execute_result",
          "data": {
            "text/plain": [
              "12"
            ]
          },
          "metadata": {},
          "execution_count": 24
        }
      ]
    },
    {
      "cell_type": "code",
      "source": [
        "3.1*4.2"
      ],
      "metadata": {
        "colab": {
          "base_uri": "https://localhost:8080/"
        },
        "id": "T3_5GNQ2C7kf",
        "outputId": "9025df3c-96eb-4bcf-ea74-8863a2ff0e26"
      },
      "execution_count": null,
      "outputs": [
        {
          "output_type": "execute_result",
          "data": {
            "text/plain": [
              "13.020000000000001"
            ]
          },
          "metadata": {},
          "execution_count": 26
        }
      ]
    },
    {
      "cell_type": "code",
      "source": [
        "126/3"
      ],
      "metadata": {
        "colab": {
          "base_uri": "https://localhost:8080/"
        },
        "id": "9ZoKjv5wC0VH",
        "outputId": "74fd60bf-9faa-4704-cbbc-921a64a5f3dc"
      },
      "execution_count": null,
      "outputs": [
        {
          "output_type": "execute_result",
          "data": {
            "text/plain": [
              "42.0"
            ]
          },
          "metadata": {},
          "execution_count": 25
        }
      ]
    },
    {
      "cell_type": "code",
      "source": [
        "3 // 2"
      ],
      "metadata": {
        "colab": {
          "base_uri": "https://localhost:8080/"
        },
        "id": "lvBQGht-ECi4",
        "outputId": "a2a786f3-65c7-4cab-990c-48791b889a9b"
      },
      "execution_count": null,
      "outputs": [
        {
          "output_type": "execute_result",
          "data": {
            "text/plain": [
              "1"
            ]
          },
          "metadata": {},
          "execution_count": 27
        }
      ]
    },
    {
      "cell_type": "code",
      "source": [
        "5 // 2"
      ],
      "metadata": {
        "colab": {
          "base_uri": "https://localhost:8080/"
        },
        "id": "6xI8uHy0EFcO",
        "outputId": "6d68fc0c-e3e2-43a2-97ad-7e8a5c84a453"
      },
      "execution_count": null,
      "outputs": [
        {
          "output_type": "execute_result",
          "data": {
            "text/plain": [
              "2"
            ]
          },
          "metadata": {},
          "execution_count": 28
        }
      ]
    },
    {
      "cell_type": "code",
      "source": [
        "5 % 2"
      ],
      "metadata": {
        "colab": {
          "base_uri": "https://localhost:8080/"
        },
        "id": "z9keQfbsEcVs",
        "outputId": "b8f54c39-b00d-4abe-cef0-ce74db52ea74"
      },
      "execution_count": null,
      "outputs": [
        {
          "output_type": "execute_result",
          "data": {
            "text/plain": [
              "1"
            ]
          },
          "metadata": {},
          "execution_count": 29
        }
      ]
    },
    {
      "cell_type": "code",
      "source": [
        "pow(5,3)"
      ],
      "metadata": {
        "colab": {
          "base_uri": "https://localhost:8080/"
        },
        "id": "KGGMUYBfE5G9",
        "outputId": "6b83ced9-e2fb-4700-8cfc-afdf87f36c6a"
      },
      "execution_count": null,
      "outputs": [
        {
          "output_type": "execute_result",
          "data": {
            "text/plain": [
              "125"
            ]
          },
          "metadata": {},
          "execution_count": 30
        }
      ]
    },
    {
      "cell_type": "code",
      "source": [
        "5 ** 3"
      ],
      "metadata": {
        "colab": {
          "base_uri": "https://localhost:8080/"
        },
        "id": "RskueIUbE7XI",
        "outputId": "f102a14a-c761-47d8-cee8-9e3afe522acb"
      },
      "execution_count": null,
      "outputs": [
        {
          "output_type": "execute_result",
          "data": {
            "text/plain": [
              "125"
            ]
          },
          "metadata": {},
          "execution_count": 31
        }
      ]
    },
    {
      "cell_type": "markdown",
      "source": [
        "\n",
        "\n",
        "---\n",
        "\n"
      ],
      "metadata": {
        "id": "bRcYcMLpy7D3"
      }
    },
    {
      "cell_type": "markdown",
      "source": [
        "**Variable**\n",
        "\n",
        "\n",
        "---\n",
        "\n",
        "\n",
        "\n",
        "*Data types of variables:*\n",
        "\n",
        "1.   `int`: Integers (e.g., 10, -5, 0)\n",
        "2.   `float`: Floating-point numbers (e.g., 3.14, -0.5, 2.0)\n",
        "3.   `str`: Strings (e.g., \"hello\", 'world')\n",
        "4.   `bool`: Booleans (True or False)\n",
        "5.   `list`: Ordered, mutable sequences of items (e.g.,, ['a', 'b', 'c'])\n",
        "6.   `tuple`: Ordered, immutable sequences of items (e.g., (1, 2, 3), ('x', 'y', 'z'))\n",
        "7.   `dict`: Unordered collections of key-value pairs (e.g., {'name': 'Alice', 'age': 30})\n",
        "\n",
        "\n",
        "\n",
        "---\n",
        "\n",
        "\n",
        "*Scope of variables:*\n",
        "1.   `Global variables`\n",
        "are defined outside of any function and can be accessed from anywhere in the program.\n",
        "2.   `Local variables`\n",
        "are defined within a function and can only be accessed within that function.\n",
        "\n",
        "---\n",
        "\n",
        "\n",
        "***example:***\n",
        "\n",
        "\n",
        "```python\n",
        "  # Global variable\n",
        "  global_var = 100\n",
        "\n",
        "  def my_function():\n",
        "      # Local variable\n",
        "      local_var = 50\n",
        "      print(\"Inside function:\")\n",
        "      print(\"Global variable:\", global_var)\n",
        "      print(\"Local variable:\", local_var)\n",
        "\n",
        "  my_function()\n",
        "\n",
        "  print(\"Outside function:\")\n",
        "  print(\"Global variable:\", global_var)\n",
        "  # print(\"Local variable:\", local_var) # This would cause an error\n",
        "```\n",
        "\n",
        "---\n",
        "\n",
        "\n"
      ],
      "metadata": {
        "id": "sRL5jZsOJJQW"
      }
    },
    {
      "cell_type": "code",
      "source": [
        "y = 5\n",
        "print(5)"
      ],
      "metadata": {
        "colab": {
          "base_uri": "https://localhost:8080/"
        },
        "id": "mCmC9H-hI-aw",
        "outputId": "ed081be9-6d0b-4541-bf52-e47aeeee8511"
      },
      "execution_count": null,
      "outputs": [
        {
          "output_type": "stream",
          "name": "stdout",
          "text": [
            "5\n"
          ]
        }
      ]
    },
    {
      "cell_type": "code",
      "source": [
        "name = \"Alice\"\n",
        "age = 30\n",
        "height = 1.65\n",
        "is_student = False\n"
      ],
      "metadata": {
        "id": "Bi31FL8lfvwT"
      },
      "execution_count": null,
      "outputs": []
    },
    {
      "cell_type": "code",
      "source": [
        "name"
      ],
      "metadata": {
        "colab": {
          "base_uri": "https://localhost:8080/",
          "height": 35
        },
        "id": "POUB7IIKf6Hp",
        "outputId": "b92d9c03-15a8-426b-b8e0-de1c7f95cc25"
      },
      "execution_count": null,
      "outputs": [
        {
          "output_type": "execute_result",
          "data": {
            "text/plain": [
              "'Alice'"
            ],
            "application/vnd.google.colaboratory.intrinsic+json": {
              "type": "string"
            }
          },
          "metadata": {},
          "execution_count": 6
        }
      ]
    },
    {
      "cell_type": "code",
      "source": [
        "age"
      ],
      "metadata": {
        "colab": {
          "base_uri": "https://localhost:8080/"
        },
        "id": "2C-Cy0pfgA3j",
        "outputId": "a0f7afcb-f837-4032-c545-1c646c30d2a1"
      },
      "execution_count": null,
      "outputs": [
        {
          "output_type": "execute_result",
          "data": {
            "text/plain": [
              "30"
            ]
          },
          "metadata": {},
          "execution_count": 7
        }
      ]
    },
    {
      "cell_type": "code",
      "source": [
        "height"
      ],
      "metadata": {
        "colab": {
          "base_uri": "https://localhost:8080/"
        },
        "id": "JSJzQrZFgCCQ",
        "outputId": "9a269e21-feeb-426e-ffea-212e7affd1dd"
      },
      "execution_count": null,
      "outputs": [
        {
          "output_type": "execute_result",
          "data": {
            "text/plain": [
              "1.65"
            ]
          },
          "metadata": {},
          "execution_count": 8
        }
      ]
    },
    {
      "cell_type": "code",
      "source": [
        "is_student"
      ],
      "metadata": {
        "colab": {
          "base_uri": "https://localhost:8080/"
        },
        "id": "Y9Z1k-KFgDTN",
        "outputId": "0b7f783d-55f8-434d-f9c7-823b7a295d3d"
      },
      "execution_count": null,
      "outputs": [
        {
          "output_type": "execute_result",
          "data": {
            "text/plain": [
              "False"
            ]
          },
          "metadata": {},
          "execution_count": 10
        }
      ]
    },
    {
      "cell_type": "code",
      "source": [
        "not True"
      ],
      "metadata": {
        "colab": {
          "base_uri": "https://localhost:8080/"
        },
        "id": "uJex1oljgxB-",
        "outputId": "2741a04b-5398-4c03-afa8-7a2ec3585f20"
      },
      "execution_count": null,
      "outputs": [
        {
          "output_type": "execute_result",
          "data": {
            "text/plain": [
              "False"
            ]
          },
          "metadata": {},
          "execution_count": 11
        }
      ]
    },
    {
      "cell_type": "code",
      "source": [
        "not False"
      ],
      "metadata": {
        "colab": {
          "base_uri": "https://localhost:8080/"
        },
        "id": "1r7qz1WIgyaA",
        "outputId": "9129b894-cbdf-4000-eba0-d36c943464d8"
      },
      "execution_count": null,
      "outputs": [
        {
          "output_type": "execute_result",
          "data": {
            "text/plain": [
              "True"
            ]
          },
          "metadata": {},
          "execution_count": 12
        }
      ]
    },
    {
      "cell_type": "markdown",
      "source": [
        "\n",
        "\n",
        "> List in python `my_list = [1, \"hello\", 3.4, True]`\n"
      ],
      "metadata": {
        "id": "yicXkNJ1lDhM"
      }
    },
    {
      "cell_type": "code",
      "source": [
        "grocery_list = [\"apples\", \"bananas\", \"milk\", \"bread\"]\n",
        "\n",
        "grocery_list"
      ],
      "metadata": {
        "colab": {
          "base_uri": "https://localhost:8080/"
        },
        "id": "T0TrOqFWlC_y",
        "outputId": "74625f34-cde4-4f89-b290-9f5bae6a96c0"
      },
      "execution_count": null,
      "outputs": [
        {
          "output_type": "execute_result",
          "data": {
            "text/plain": [
              "['apples', 'bananas', 'milk', 'bread']"
            ]
          },
          "metadata": {},
          "execution_count": 28
        }
      ]
    },
    {
      "cell_type": "code",
      "source": [
        "grocery_list.append(\"eggs\")\n",
        "\n",
        "grocery_list"
      ],
      "metadata": {
        "colab": {
          "base_uri": "https://localhost:8080/"
        },
        "id": "HXteVpkCmUwq",
        "outputId": "44e5fbad-2ff6-4850-f241-f9b58bd59e80"
      },
      "execution_count": null,
      "outputs": [
        {
          "output_type": "execute_result",
          "data": {
            "text/plain": [
              "['apples', 'bananas', 'milk', 'bread', 'eggs', 'eggs', 'eggs']"
            ]
          },
          "metadata": {},
          "execution_count": 31
        }
      ]
    },
    {
      "cell_type": "code",
      "source": [
        "type(grocery_list)"
      ],
      "metadata": {
        "colab": {
          "base_uri": "https://localhost:8080/"
        },
        "id": "HeBt5_LCmfqv",
        "outputId": "38db82b0-85d0-4221-e4f5-8ee8624f4ac8"
      },
      "execution_count": null,
      "outputs": [
        {
          "output_type": "execute_result",
          "data": {
            "text/plain": [
              "list"
            ]
          },
          "metadata": {},
          "execution_count": 32
        }
      ]
    },
    {
      "cell_type": "code",
      "source": [
        "grocery_list[0]"
      ],
      "metadata": {
        "colab": {
          "base_uri": "https://localhost:8080/",
          "height": 35
        },
        "id": "nzkZL0__mkb8",
        "outputId": "5f57c898-425f-4b3d-9ab2-2575f51c7787"
      },
      "execution_count": null,
      "outputs": [
        {
          "output_type": "execute_result",
          "data": {
            "text/plain": [
              "'apples'"
            ],
            "application/vnd.google.colaboratory.intrinsic+json": {
              "type": "string"
            }
          },
          "metadata": {},
          "execution_count": 40
        }
      ]
    },
    {
      "cell_type": "markdown",
      "source": [
        "\n",
        "\n",
        "---\n",
        "\n",
        "\n",
        "*`python doesn't have build-in array but list can be used as array.`*\n",
        "\n",
        "\n",
        "---\n",
        "\n"
      ],
      "metadata": {
        "id": "QGJXh0V-m-Nk"
      }
    },
    {
      "cell_type": "markdown",
      "source": [
        "**Conditions and If statements**\n",
        "\n",
        "\n",
        "---\n",
        "\n",
        "\n",
        "Python supports the usual *`logical conditions`* from mathematics:\n",
        "\n",
        "*   Equals: `a == b`\n",
        "*   Not Equals: `a != b`\n",
        "*   Less than: `a < b`\n",
        "*   Less than or equal to: `a <= b`\n",
        "*   Greater than: `a > b`\n",
        "*   Greater than or equal to: `a >= b`\n",
        "\n",
        "\n",
        "---\n",
        "\n",
        "An *`\"if statement\"`* is written by using the `if` keyword.\n",
        "\n",
        "\n",
        "---\n"
      ],
      "metadata": {
        "id": "xT-eVgZIhdrk"
      }
    },
    {
      "cell_type": "code",
      "source": [
        "5 >= 3.1"
      ],
      "metadata": {
        "colab": {
          "base_uri": "https://localhost:8080/"
        },
        "id": "qEY7ewWZhdHv",
        "outputId": "dd818935-c073-4edd-ad45-6e6710d1a17b"
      },
      "execution_count": null,
      "outputs": [
        {
          "output_type": "execute_result",
          "data": {
            "text/plain": [
              "True"
            ]
          },
          "metadata": {},
          "execution_count": 13
        }
      ]
    },
    {
      "cell_type": "code",
      "source": [
        "4.7 <= 1.3"
      ],
      "metadata": {
        "colab": {
          "base_uri": "https://localhost:8080/"
        },
        "id": "rzsxvVyFjR-V",
        "outputId": "1050ad7d-e6c7-4d4b-b8bc-55e4d6774b08"
      },
      "execution_count": null,
      "outputs": [
        {
          "output_type": "execute_result",
          "data": {
            "text/plain": [
              "False"
            ]
          },
          "metadata": {},
          "execution_count": 15
        }
      ]
    },
    {
      "cell_type": "code",
      "source": [
        "5.3 <= 5.3"
      ],
      "metadata": {
        "colab": {
          "base_uri": "https://localhost:8080/"
        },
        "id": "9UtJeFYMjX14",
        "outputId": "d54e48c4-dbc6-4ab2-91a2-37d3dbc0667f"
      },
      "execution_count": null,
      "outputs": [
        {
          "output_type": "execute_result",
          "data": {
            "text/plain": [
              "True"
            ]
          },
          "metadata": {},
          "execution_count": 17
        }
      ]
    },
    {
      "cell_type": "code",
      "source": [
        "5.2 != 4.2"
      ],
      "metadata": {
        "colab": {
          "base_uri": "https://localhost:8080/"
        },
        "id": "-T5exdVkjfFf",
        "outputId": "82295758-6ca5-42c6-fd2e-8a37c29d84a4"
      },
      "execution_count": null,
      "outputs": [
        {
          "output_type": "execute_result",
          "data": {
            "text/plain": [
              "True"
            ]
          },
          "metadata": {},
          "execution_count": 18
        }
      ]
    },
    {
      "cell_type": "code",
      "source": [
        "\"love\" != \"hate\""
      ],
      "metadata": {
        "colab": {
          "base_uri": "https://localhost:8080/"
        },
        "id": "JR3haXFmjjLy",
        "outputId": "b76fec27-3c09-440c-a153-ffb37de2daae"
      },
      "execution_count": null,
      "outputs": [
        {
          "output_type": "execute_result",
          "data": {
            "text/plain": [
              "True"
            ]
          },
          "metadata": {},
          "execution_count": 19
        }
      ]
    },
    {
      "cell_type": "code",
      "source": [
        "\"you\" != \"you\""
      ],
      "metadata": {
        "colab": {
          "base_uri": "https://localhost:8080/"
        },
        "id": "Wc4ekTPPjpTw",
        "outputId": "254c427b-5ba3-4c83-8d07-cd4cc80c8bc6"
      },
      "execution_count": null,
      "outputs": [
        {
          "output_type": "execute_result",
          "data": {
            "text/plain": [
              "False"
            ]
          },
          "metadata": {},
          "execution_count": 20
        }
      ]
    },
    {
      "cell_type": "code",
      "source": [
        "a = 10\n",
        "b = 10\n",
        "\n",
        "a == b # equal to"
      ],
      "metadata": {
        "colab": {
          "base_uri": "https://localhost:8080/"
        },
        "id": "1_-cJlq_jzvW",
        "outputId": "9d263835-9a29-4e4d-fc73-7ac68ebf2af4"
      },
      "execution_count": null,
      "outputs": [
        {
          "output_type": "execute_result",
          "data": {
            "text/plain": [
              "True"
            ]
          },
          "metadata": {},
          "execution_count": 22
        }
      ]
    },
    {
      "cell_type": "code",
      "source": [
        "x = 5\n",
        "y = 10\n",
        "\n",
        "if(x < y):\n",
        "  print(\"x is less than y\")"
      ],
      "metadata": {
        "colab": {
          "base_uri": "https://localhost:8080/"
        },
        "id": "5Ki3vwsfkAio",
        "outputId": "3008fc2e-7dfa-4229-dbca-c877a8c63131"
      },
      "execution_count": null,
      "outputs": [
        {
          "output_type": "stream",
          "name": "stdout",
          "text": [
            "x is less than y\n"
          ]
        }
      ]
    },
    {
      "cell_type": "code",
      "source": [
        "if False:\n",
        "  print(\"1\")\n",
        "  print(\"2\")\n",
        "\n",
        "print(\"3\")"
      ],
      "metadata": {
        "colab": {
          "base_uri": "https://localhost:8080/"
        },
        "id": "ScxbzjF1kafQ",
        "outputId": "4ee71655-57c8-4260-d090-1dc84d108e0b"
      },
      "execution_count": null,
      "outputs": [
        {
          "output_type": "stream",
          "name": "stdout",
          "text": [
            "3\n"
          ]
        }
      ]
    },
    {
      "cell_type": "markdown",
      "source": [
        "\n",
        "\n",
        "---\n",
        "\n"
      ],
      "metadata": {
        "id": "Yt9_GKofy1M6"
      }
    },
    {
      "cell_type": "markdown",
      "source": [
        "**Loops**\n",
        "\n",
        "---\n",
        "\n",
        "1. `For Loop:`A for loop is used to iterate over a sequence (such as a list, tuple, string, or range) or other iterable objects.\n",
        "\n",
        "  ```python\n",
        "  # Syntax of for loop\n",
        "  for item in sequence:\n",
        "      # Code to be executed for each item\n",
        "  ```\n",
        "\n",
        "---\n",
        "\n",
        "2. `While Loop:` A while loop is used to repeatedly execute a block of code as long as a condition is true.\n",
        "\n",
        "  ```python\n",
        "  # Syntax of while loop\n",
        "  while condition:\n",
        "      # Code to be executed while the condition is true\n",
        "  ```\n",
        "\n",
        "---\n",
        "\n",
        "3. `Else Clause in Loops:` Python allows an else clause to be used with both `for` and `while loops`. The `else` block is executed after the loop completes normally (i.e., without encountering a break statement). If the loop is terminated prematurely by a `break` statement, the `else` block will not be executed.\n",
        "\n",
        "  ```python\n",
        "  for i in range(5):\n",
        "      print(i)\n",
        "  else:\n",
        "      print(\"Loop completed successfully\")\n",
        "  ```\n",
        "\n",
        "---"
      ],
      "metadata": {
        "id": "Hlb-gfX7naaQ"
      }
    },
    {
      "cell_type": "code",
      "source": [
        "for item in grocery_list:\n",
        "  print(item)"
      ],
      "metadata": {
        "colab": {
          "base_uri": "https://localhost:8080/"
        },
        "id": "iGG-h26_pOqb",
        "outputId": "793695a8-3c6c-4f82-94a3-3f0c2d19c346"
      },
      "execution_count": null,
      "outputs": [
        {
          "output_type": "stream",
          "name": "stdout",
          "text": [
            "apples\n",
            "bananas\n",
            "milk\n",
            "bread\n",
            "eggs\n",
            "eggs\n",
            "eggs\n"
          ]
        }
      ]
    },
    {
      "cell_type": "code",
      "source": [
        "for i in range(5):\n",
        "  print(grocery_list[i])"
      ],
      "metadata": {
        "colab": {
          "base_uri": "https://localhost:8080/"
        },
        "id": "iFpk7GiTpj5P",
        "outputId": "bb9e725b-c07f-40cb-e385-737fc011135a"
      },
      "execution_count": null,
      "outputs": [
        {
          "output_type": "stream",
          "name": "stdout",
          "text": [
            "apples\n",
            "bananas\n",
            "milk\n",
            "bread\n",
            "eggs\n"
          ]
        }
      ]
    },
    {
      "cell_type": "code",
      "source": [
        "list(range(len(grocery_list)))"
      ],
      "metadata": {
        "colab": {
          "base_uri": "https://localhost:8080/"
        },
        "id": "4yXfFQb_wHUH",
        "outputId": "3751b92d-a286-4429-cc33-dce3f1d02fa3"
      },
      "execution_count": null,
      "outputs": [
        {
          "output_type": "execute_result",
          "data": {
            "text/plain": [
              "[0, 1, 2, 3, 4, 5, 6]"
            ]
          },
          "metadata": {},
          "execution_count": 48
        }
      ]
    },
    {
      "cell_type": "code",
      "source": [
        "for i, item in enumerate(grocery_list):\n",
        "  print(i, item)"
      ],
      "metadata": {
        "colab": {
          "base_uri": "https://localhost:8080/"
        },
        "id": "KqAMSSIKwuBQ",
        "outputId": "a667e3eb-3615-4381-fcf9-ace1350b05e1"
      },
      "execution_count": null,
      "outputs": [
        {
          "output_type": "stream",
          "name": "stdout",
          "text": [
            "0 apples\n",
            "1 bananas\n",
            "2 milk\n",
            "3 bread\n",
            "4 eggs\n",
            "5 eggs\n",
            "6 eggs\n"
          ]
        }
      ]
    },
    {
      "cell_type": "code",
      "source": [
        "i = 0\n",
        "i += 1\n",
        "i"
      ],
      "metadata": {
        "colab": {
          "base_uri": "https://localhost:8080/"
        },
        "id": "x9-oXFfgw9_g",
        "outputId": "f58839f3-8c36-4aa8-ad22-9e57b239f119"
      },
      "execution_count": null,
      "outputs": [
        {
          "output_type": "execute_result",
          "data": {
            "text/plain": [
              "1"
            ]
          },
          "metadata": {},
          "execution_count": 58
        }
      ]
    },
    {
      "cell_type": "code",
      "source": [
        "i += 1\n",
        "i"
      ],
      "metadata": {
        "colab": {
          "base_uri": "https://localhost:8080/"
        },
        "id": "A0hiOiKGxAyU",
        "outputId": "b2dc36fa-6cda-484d-b041-5e5cc8a7ccdf"
      },
      "execution_count": null,
      "outputs": [
        {
          "output_type": "execute_result",
          "data": {
            "text/plain": [
              "2"
            ]
          },
          "metadata": {},
          "execution_count": 59
        }
      ]
    },
    {
      "cell_type": "code",
      "source": [
        "i -= 1\n",
        "i"
      ],
      "metadata": {
        "colab": {
          "base_uri": "https://localhost:8080/"
        },
        "id": "iguoYJdMxCab",
        "outputId": "ae360453-0c16-49be-803a-a80cdbadd971"
      },
      "execution_count": null,
      "outputs": [
        {
          "output_type": "execute_result",
          "data": {
            "text/plain": [
              "1"
            ]
          },
          "metadata": {},
          "execution_count": 60
        }
      ]
    },
    {
      "cell_type": "code",
      "source": [
        "# table multiplication\n",
        "\n",
        "num = int(input(\"Enter a number: \"))\n",
        "\n",
        "# Loop from 1 to 10\n",
        "for i in range(1, 11):\n",
        "    print(f\"{num} x {i} = {num * i}\")\n"
      ],
      "metadata": {
        "colab": {
          "base_uri": "https://localhost:8080/"
        },
        "id": "UoRypfvWuYvg",
        "outputId": "06cf22bb-33a6-4f65-80ef-390221c9ac34"
      },
      "execution_count": null,
      "outputs": [
        {
          "output_type": "stream",
          "name": "stdout",
          "text": [
            "Enter a number: 5\n",
            "5 x 1 = 5\n",
            "5 x 2 = 10\n",
            "5 x 3 = 15\n",
            "5 x 4 = 20\n",
            "5 x 5 = 25\n",
            "5 x 6 = 30\n",
            "5 x 7 = 35\n",
            "5 x 8 = 40\n",
            "5 x 9 = 45\n",
            "5 x 10 = 50\n"
          ]
        }
      ]
    },
    {
      "cell_type": "markdown",
      "source": [
        "\n",
        "\n",
        "---\n",
        "\n"
      ],
      "metadata": {
        "id": "Cxml34noyugS"
      }
    },
    {
      "cell_type": "code",
      "source": [
        "j = len(grocery_list)-1\n",
        "\n",
        "while j>=0:\n",
        "  print(grocery_list[j])\n",
        "  j -= 1"
      ],
      "metadata": {
        "colab": {
          "base_uri": "https://localhost:8080/"
        },
        "id": "sIJdYqY_xQ0r",
        "outputId": "0e8d5a54-3387-4c8b-e5a6-169d55362a93"
      },
      "execution_count": null,
      "outputs": [
        {
          "output_type": "stream",
          "name": "stdout",
          "text": [
            "eggs\n",
            "eggs\n",
            "eggs\n",
            "bread\n",
            "milk\n",
            "bananas\n",
            "apples\n"
          ]
        }
      ]
    },
    {
      "cell_type": "code",
      "source": [
        "i = 0\n",
        "\n",
        "while i < len(grocery_list):\n",
        "  print(grocery_list[i])\n",
        "  i += 1"
      ],
      "metadata": {
        "colab": {
          "base_uri": "https://localhost:8080/"
        },
        "id": "L1YKBY7RyXqu",
        "outputId": "e694b23e-6a0e-4735-ff13-81e62febea68"
      },
      "execution_count": null,
      "outputs": [
        {
          "output_type": "stream",
          "name": "stdout",
          "text": [
            "apples\n",
            "bananas\n",
            "milk\n",
            "bread\n",
            "eggs\n",
            "eggs\n",
            "eggs\n"
          ]
        }
      ]
    },
    {
      "cell_type": "code",
      "source": [
        "i=int(input(\"Enter a number: \"))\n",
        "j=1\n",
        "\n",
        "while(j<11):\n",
        "  print(i*j)\n",
        "  j+=1"
      ],
      "metadata": {
        "colab": {
          "base_uri": "https://localhost:8080/"
        },
        "id": "-B0FyRp-vfo4",
        "outputId": "d7f69a23-f58a-4b6a-ff7c-92678fa9b81b"
      },
      "execution_count": null,
      "outputs": [
        {
          "output_type": "stream",
          "name": "stdout",
          "text": [
            "Enter a number: 6\n",
            "6\n",
            "12\n",
            "18\n",
            "24\n",
            "30\n",
            "36\n",
            "42\n",
            "48\n",
            "54\n",
            "60\n"
          ]
        }
      ]
    },
    {
      "cell_type": "markdown",
      "source": [
        "\n",
        "\n",
        "---\n",
        "\n"
      ],
      "metadata": {
        "id": "Uv_FqormywZ8"
      }
    },
    {
      "cell_type": "code",
      "source": [
        "age = 13\n",
        "\n",
        "if (age >= 1) and (age <= 4):\n",
        "  print(\"New Born\")\n",
        "elif (age >= 5) and (age <= 12):\n",
        "  print(\"Young\")\n",
        "elif (age >= 13) and (age <=19):\n",
        "  print(\"Teen\")\n",
        "else:\n",
        "  print(\"Adult\")\n",
        "\n",
        "print(\"end\")"
      ],
      "metadata": {
        "colab": {
          "base_uri": "https://localhost:8080/"
        },
        "id": "vjGFvhS2yyH7",
        "outputId": "98c2b4f0-94dc-453e-c26d-b18576590677"
      },
      "execution_count": null,
      "outputs": [
        {
          "output_type": "stream",
          "name": "stdout",
          "text": [
            "Teen\n",
            "end\n"
          ]
        }
      ]
    },
    {
      "cell_type": "markdown",
      "source": [
        "---\n",
        "\n",
        "*if the first condition is true then the first statement will one run.`example:`*\n",
        "\n",
        "  ```python\n",
        "  if True:\n",
        "    print(1)\n",
        "  elif False:\n",
        "    print(2)\n",
        "  else:\n",
        "    print(3)\n",
        "\n",
        "  print(\"end\")\n",
        "  ```\n",
        "  `output: 1  end`\n",
        "\n",
        "  ---\n",
        "\n",
        "*if the fist condition is false then the next condition will run until the next one is true. `example:`*\n",
        "\n",
        "```python\n",
        "  if False:\n",
        "    print(1)\n",
        "  elif False:\n",
        "    print(2)\n",
        "  elif True:\n",
        "    print(3)\n",
        "  else:\n",
        "    print(4)\n",
        "\n",
        "  print(\"end\")\n",
        "```\n",
        "`output: 3 end`\n",
        "\n",
        "---\n"
      ],
      "metadata": {
        "id": "mY07JtHVzkum"
      }
    },
    {
      "cell_type": "code",
      "source": [
        "True or False"
      ],
      "metadata": {
        "colab": {
          "base_uri": "https://localhost:8080/"
        },
        "id": "_IPIaDoYzLKQ",
        "outputId": "1fb2d916-87f5-4e7a-c25b-c429aae7efe5"
      },
      "execution_count": null,
      "outputs": [
        {
          "output_type": "execute_result",
          "data": {
            "text/plain": [
              "True"
            ]
          },
          "metadata": {},
          "execution_count": 70
        }
      ]
    },
    {
      "cell_type": "code",
      "source": [
        "True or True"
      ],
      "metadata": {
        "colab": {
          "base_uri": "https://localhost:8080/"
        },
        "id": "i3-KXIy31QEd",
        "outputId": "342f96d0-98ea-4ba8-8cef-71c73d3fb22c"
      },
      "execution_count": null,
      "outputs": [
        {
          "output_type": "execute_result",
          "data": {
            "text/plain": [
              "True"
            ]
          },
          "metadata": {},
          "execution_count": 71
        }
      ]
    },
    {
      "cell_type": "code",
      "source": [
        "False or True"
      ],
      "metadata": {
        "colab": {
          "base_uri": "https://localhost:8080/"
        },
        "id": "QYZ79H-u1TL9",
        "outputId": "203d6ccf-eb1d-4c66-b7a9-be928ef2cd8d"
      },
      "execution_count": null,
      "outputs": [
        {
          "output_type": "execute_result",
          "data": {
            "text/plain": [
              "True"
            ]
          },
          "metadata": {},
          "execution_count": 72
        }
      ]
    },
    {
      "cell_type": "code",
      "source": [
        "False or False"
      ],
      "metadata": {
        "colab": {
          "base_uri": "https://localhost:8080/"
        },
        "id": "rXSRtBS_1Vnj",
        "outputId": "7cb627ee-0201-460f-8d35-24a05c5a26b4"
      },
      "execution_count": null,
      "outputs": [
        {
          "output_type": "execute_result",
          "data": {
            "text/plain": [
              "False"
            ]
          },
          "metadata": {},
          "execution_count": 73
        }
      ]
    },
    {
      "cell_type": "code",
      "source": [
        "True and False"
      ],
      "metadata": {
        "colab": {
          "base_uri": "https://localhost:8080/"
        },
        "id": "I2334qUO1Xaq",
        "outputId": "45edd680-e1a4-4ae8-9e4e-55be3f4282ed"
      },
      "execution_count": null,
      "outputs": [
        {
          "output_type": "execute_result",
          "data": {
            "text/plain": [
              "False"
            ]
          },
          "metadata": {},
          "execution_count": 74
        }
      ]
    },
    {
      "cell_type": "code",
      "source": [
        "False and True"
      ],
      "metadata": {
        "colab": {
          "base_uri": "https://localhost:8080/"
        },
        "id": "9Qn9IOsV1aF7",
        "outputId": "86d0182c-1715-47c8-ed93-ad0c09e25004"
      },
      "execution_count": null,
      "outputs": [
        {
          "output_type": "execute_result",
          "data": {
            "text/plain": [
              "False"
            ]
          },
          "metadata": {},
          "execution_count": 75
        }
      ]
    },
    {
      "cell_type": "code",
      "source": [
        "True and True"
      ],
      "metadata": {
        "colab": {
          "base_uri": "https://localhost:8080/"
        },
        "id": "h8f_SwGH1ZHI",
        "outputId": "ed15e5a0-6331-492f-b54c-d447d4dc8e4e"
      },
      "execution_count": null,
      "outputs": [
        {
          "output_type": "execute_result",
          "data": {
            "text/plain": [
              "True"
            ]
          },
          "metadata": {},
          "execution_count": 76
        }
      ]
    },
    {
      "cell_type": "code",
      "source": [
        "False and False"
      ],
      "metadata": {
        "colab": {
          "base_uri": "https://localhost:8080/"
        },
        "id": "z84qEWCf1dLS",
        "outputId": "9f1ee382-94b0-4232-9eaf-322e8ecc99ef"
      },
      "execution_count": null,
      "outputs": [
        {
          "output_type": "execute_result",
          "data": {
            "text/plain": [
              "False"
            ]
          },
          "metadata": {},
          "execution_count": 77
        }
      ]
    },
    {
      "cell_type": "code",
      "source": [
        "not False"
      ],
      "metadata": {
        "colab": {
          "base_uri": "https://localhost:8080/"
        },
        "id": "nAWjS_Qr4UW0",
        "outputId": "61f8e9ec-dc01-4f58-f9b7-af28690adbfe"
      },
      "execution_count": null,
      "outputs": [
        {
          "output_type": "execute_result",
          "data": {
            "text/plain": [
              "True"
            ]
          },
          "metadata": {},
          "execution_count": 101
        }
      ]
    },
    {
      "cell_type": "code",
      "source": [
        "True is not False"
      ],
      "metadata": {
        "colab": {
          "base_uri": "https://localhost:8080/"
        },
        "id": "N57gOc7f1ek9",
        "outputId": "03be8e7c-6725-47e0-8f58-dabc944407d1"
      },
      "execution_count": null,
      "outputs": [
        {
          "output_type": "execute_result",
          "data": {
            "text/plain": [
              "True"
            ]
          },
          "metadata": {},
          "execution_count": 100
        }
      ]
    },
    {
      "cell_type": "markdown",
      "source": [
        "---\n",
        "***Function in python***\n",
        "`Functions` are defined using the `def` keyword, followed by the function name, parentheses `()`, and a colon `:`. The function body, containing the code to be executed, is indented below the definition line.\n",
        "\n",
        "```python\n",
        "def greet(name):\n",
        "    \"\"\"This function greets the person passed in as a parameter.\"\"\"\n",
        "    print(f\"Hello, {name}!\")\n",
        "```\n",
        "\n",
        "---\n",
        "\n",
        "***What does define function mean?***\n",
        "\n",
        "means `creating a reusable block of code that performs a specific task.`\n",
        "\n",
        "`def` keyword is used to define function in python.\n",
        "\n",
        "---\n",
        "\n",
        "***What does calling a function mean?***\n",
        "\n",
        "means `to call for a function without retrieving its value.`\n",
        "\n",
        "---\n",
        "\n",
        "***What does invoking a funtion mean?***\n",
        "\n",
        "means `executing a function to retrieve its value.`\n",
        "\n",
        "```python\n",
        "def add(a,b):\n",
        "  print(a+b)\n",
        "\n",
        "add(1,2)\n",
        "# output: 3\n",
        "```\n",
        "---\n",
        "***What does Function Arguments mean?***\n",
        "\n",
        "`Positional arguments:`\n",
        "These arguments are passed to the function in the order they are defined.\n",
        "\n",
        "`Keyword arguments:`\n",
        "These arguments are passed with the parameter name, allowing them to be passed out of order.\n",
        "\n",
        "`Default arguments:`\n",
        "These arguments have a default value assigned in the function definition, used when no argument is provided in the function call.\n",
        "\n",
        "`Variable-length arguments:`\n",
        "\n",
        " 1. `*args:` Used to pass a variable number of non-keyword arguments.\n",
        "\n",
        " 2. `**kwargs:` Used to pass a variable number of keyword arguments.\n",
        "\n",
        "---\n",
        "\n",
        " ***Parameter vs Argument***\n",
        "\n",
        " A `parameter` is a placeholder, a variable name used within a function definition to represent an input value. An `argument` is the actual value that is passed to the function when it is called, and that value is then assigned to the corresponding parameter"
      ],
      "metadata": {
        "id": "j04F5Ryo4blr"
      }
    },
    {
      "cell_type": "code",
      "source": [
        "def function_name(parameters):\n",
        "\n",
        "    return print(parameters)\n",
        "\n",
        "function_name(\"rajan\");"
      ],
      "metadata": {
        "colab": {
          "base_uri": "https://localhost:8080/"
        },
        "id": "pq83Dp8HnVk2",
        "outputId": "abb670dd-4634-4ec4-dd77-64bfdb1b89fc"
      },
      "execution_count": null,
      "outputs": [
        {
          "output_type": "stream",
          "name": "stdout",
          "text": [
            "rajan\n"
          ]
        }
      ]
    },
    {
      "cell_type": "code",
      "source": [
        "a = 10\n",
        "def sim(b):\n",
        "  print(a)\n",
        "  print(b)\n",
        "  print(c)\n",
        "  print(z)\n",
        "\n",
        "sim(20)\n",
        "\n",
        "c = 30"
      ],
      "metadata": {
        "colab": {
          "base_uri": "https://localhost:8080/"
        },
        "id": "BrJovv6poBt2",
        "outputId": "846e5c9a-adf9-467c-97b2-69aaf0331432"
      },
      "execution_count": null,
      "outputs": [
        {
          "output_type": "stream",
          "name": "stdout",
          "text": [
            "10\n",
            "20\n",
            "30\n",
            "12\n"
          ]
        }
      ]
    },
    {
      "cell_type": "code",
      "source": [
        "z=12\n",
        "z"
      ],
      "metadata": {
        "colab": {
          "base_uri": "https://localhost:8080/"
        },
        "id": "D_U9LrsAoyHp",
        "outputId": "f95f7f50-65d2-4bca-998f-6424c96678ec"
      },
      "execution_count": null,
      "outputs": [
        {
          "output_type": "execute_result",
          "data": {
            "text/plain": [
              "12"
            ]
          },
          "metadata": {},
          "execution_count": 14
        }
      ]
    },
    {
      "cell_type": "code",
      "source": [
        "def multi(a,b):\n",
        "  print(a*b)\n",
        "\n",
        "multi(2,3)"
      ],
      "metadata": {
        "colab": {
          "base_uri": "https://localhost:8080/"
        },
        "id": "f-Jw5IgRpDg8",
        "outputId": "d107d82f-26cb-4d59-daa8-0ec5bf05251d"
      },
      "execution_count": null,
      "outputs": [
        {
          "output_type": "stream",
          "name": "stdout",
          "text": [
            "6\n"
          ]
        }
      ]
    },
    {
      "cell_type": "code",
      "source": [
        "print(multi(3,4))"
      ],
      "metadata": {
        "colab": {
          "base_uri": "https://localhost:8080/"
        },
        "id": "Y86aXmRrpRVm",
        "outputId": "c061b08d-c1dd-4701-f541-dc497c9d6878"
      },
      "execution_count": null,
      "outputs": [
        {
          "output_type": "stream",
          "name": "stdout",
          "text": [
            "12\n",
            "None\n"
          ]
        }
      ]
    },
    {
      "cell_type": "code",
      "source": [
        "print(None)"
      ],
      "metadata": {
        "colab": {
          "base_uri": "https://localhost:8080/"
        },
        "id": "7mInXZ33pV29",
        "outputId": "02bc488a-46bb-4b64-b0e2-9370b49235b9"
      },
      "execution_count": null,
      "outputs": [
        {
          "output_type": "stream",
          "name": "stdout",
          "text": [
            "None\n"
          ]
        }
      ]
    },
    {
      "cell_type": "code",
      "source": [
        "def times_2(x):\n",
        "  return x*2\n",
        "\n",
        "b = 4\n",
        "\n",
        "times_2(b)"
      ],
      "metadata": {
        "colab": {
          "base_uri": "https://localhost:8080/"
        },
        "id": "ejLa3NV4qh28",
        "outputId": "df69ec77-794c-4ef9-c28c-fcf4cc23f1ad"
      },
      "execution_count": null,
      "outputs": [
        {
          "output_type": "execute_result",
          "data": {
            "text/plain": [
              "8"
            ]
          },
          "metadata": {},
          "execution_count": 21
        }
      ]
    },
    {
      "cell_type": "code",
      "source": [
        "b"
      ],
      "metadata": {
        "colab": {
          "base_uri": "https://localhost:8080/"
        },
        "id": "mbtnwbcrq5Uo",
        "outputId": "31925188-f4ce-4e7d-ffa4-db11e13a5f7f"
      },
      "execution_count": null,
      "outputs": [
        {
          "output_type": "execute_result",
          "data": {
            "text/plain": [
              "4"
            ]
          },
          "metadata": {},
          "execution_count": 23
        }
      ]
    },
    {
      "cell_type": "markdown",
      "source": [
        "---\n",
        " A *`side effect`* in Python occurs when a function or expression modifies something outside its local scope. This means the function alters the state of a variable, object, or system beyond its intended return value.\n",
        "\n",
        "  ```python\n",
        "    global_var = 10\n",
        "\n",
        "    def modify_global():\n",
        "        global global_var\n",
        "        global_var = 20\n",
        "\n",
        "    print(global_var)\n",
        "    modify_global()\n",
        "    print(global_var) # output 20\n",
        "  ```\n",
        "\n",
        "`tips: Returning a value is a pure operation — it doesn’t change anything outside the function. If your function only computes something and returns the result, it’s side-effect free.`\n",
        "```python\n",
        "    def times_2(x):\n",
        "      return x*2\n",
        "\n",
        "    b = 4\n",
        "    times_2(b)\n",
        "    b # output 4\n",
        "```"
      ],
      "metadata": {
        "id": "6sqtzs7_p2CE"
      }
    },
    {
      "cell_type": "code",
      "source": [
        "global_var = 10\n",
        "\n",
        "def modify_global():\n",
        "    global global_var\n",
        "    global_var = 20\n",
        "\n",
        "print(global_var)\n",
        "modify_global()\n",
        "print(global_var)"
      ],
      "metadata": {
        "colab": {
          "base_uri": "https://localhost:8080/"
        },
        "id": "KESh_pkvps5s",
        "outputId": "51742b2d-38c5-4bd8-bb3f-e0a0a6489858"
      },
      "execution_count": null,
      "outputs": [
        {
          "output_type": "stream",
          "name": "stdout",
          "text": [
            "10\n",
            "20\n"
          ]
        }
      ]
    },
    {
      "cell_type": "code",
      "source": [
        "global_var"
      ],
      "metadata": {
        "colab": {
          "base_uri": "https://localhost:8080/"
        },
        "id": "gtySesW2qx-m",
        "outputId": "ad3b8c7d-9536-44cd-85d7-9f7de278296f"
      },
      "execution_count": null,
      "outputs": [
        {
          "output_type": "execute_result",
          "data": {
            "text/plain": [
              "20"
            ]
          },
          "metadata": {},
          "execution_count": 22
        }
      ]
    },
    {
      "cell_type": "markdown",
      "source": [
        "---\n",
        "\n",
        "`Immutable objects & Mutable objects` *and* `is` *keyboard*\n",
        "\n",
        "---\n",
        "\n",
        " The `is` keyword is used to test if two variables refer to the same object.\n",
        "\n",
        "The test returns `True` if the `two objects are the same object.`\n",
        "\n",
        "The test returns `False` if `they are not the same object, even if the two objects are 100% equal.`\n",
        "\n",
        "\n",
        "It should also occupy same memory to return True, else Fase\n",
        "\n",
        "`example:`\n",
        "```python\n",
        "  x = [1,2,3]\n",
        "  y = [1,2,3]\n",
        "  x is y #output: False\n",
        "\n",
        "  # It is becase they can occupy different memory or different object\n",
        "  # x[0]=4 won't be equal to y[0] as y[0] is still refering to\n",
        "  # same value which hasn't changed\n",
        "\n",
        "  # i.e new x = [4,2,3]\n",
        "  # and y is still [1,2,3]\n",
        "```\n",
        "```python\n",
        "  #if\n",
        "  x=[1,2,3]\n",
        "  y=x\n",
        "  x is y #output: True\n",
        "\n",
        "  # it is because they are refering to exact same value and\n",
        "  # occupy same memory\n",
        "\n",
        "  # i.e x[0]=4 is equal to y[0]\n",
        "  # i.e new x = [4,2,3]\n",
        "  # i.e new y = [4,2,3]\n",
        "\n",
        "```\n",
        "\n",
        "```python\n",
        "\n",
        "q = 7\n",
        "w = q\n",
        "q #output: 7\n",
        "w #output: 7\n",
        "q = 11\n",
        "q #output: 11\n",
        "w #output: 7\n",
        "```\n",
        "\n",
        "**Summary:**\n",
        "\n",
        "`Immutable objects (like int, str, float, tuple)`:\n",
        "Changing the variable makes it point to a new object.\n",
        "\n",
        "`Mutable objects (like list, dict, set)`:\n",
        "Changes through one variable affect all variables pointing to the same object.\n",
        "\n",
        "---"
      ],
      "metadata": {
        "id": "bi1TCf1OMZqS"
      }
    },
    {
      "cell_type": "code",
      "source": [
        "a=[1,2,3]\n",
        "a"
      ],
      "metadata": {
        "colab": {
          "base_uri": "https://localhost:8080/"
        },
        "id": "bjI5tzX7Me4R",
        "outputId": "0b460a39-4452-4bf8-da28-9e4c6b3a9c7e"
      },
      "execution_count": 5,
      "outputs": [
        {
          "output_type": "execute_result",
          "data": {
            "text/plain": [
              "[1, 2, 3]"
            ]
          },
          "metadata": {},
          "execution_count": 5
        }
      ]
    },
    {
      "cell_type": "code",
      "source": [
        "b=a\n",
        "b"
      ],
      "metadata": {
        "colab": {
          "base_uri": "https://localhost:8080/"
        },
        "id": "AtVvDLDZMlTB",
        "outputId": "0c9e1a62-e351-42b2-8b34-98017dc7b7a7"
      },
      "execution_count": 4,
      "outputs": [
        {
          "output_type": "execute_result",
          "data": {
            "text/plain": [
              "[1, 2, 3]"
            ]
          },
          "metadata": {},
          "execution_count": 4
        }
      ]
    },
    {
      "cell_type": "code",
      "source": [
        "1 == 2"
      ],
      "metadata": {
        "colab": {
          "base_uri": "https://localhost:8080/"
        },
        "id": "d8NODOSvMr21",
        "outputId": "08251ace-24fb-4627-c61f-d240dcb50750"
      },
      "execution_count": 6,
      "outputs": [
        {
          "output_type": "execute_result",
          "data": {
            "text/plain": [
              "False"
            ]
          },
          "metadata": {},
          "execution_count": 6
        }
      ]
    },
    {
      "cell_type": "code",
      "source": [
        "[1,2] == [1,2] # output: True\n",
        "\n",
        "[1,2] == [2,1] #output: False"
      ],
      "metadata": {
        "colab": {
          "base_uri": "https://localhost:8080/"
        },
        "id": "23jk77TCMt7N",
        "outputId": "f989d55b-68f3-437f-83e3-e1016d0db0b0"
      },
      "execution_count": 10,
      "outputs": [
        {
          "output_type": "execute_result",
          "data": {
            "text/plain": [
              "False"
            ]
          },
          "metadata": {},
          "execution_count": 10
        }
      ]
    },
    {
      "cell_type": "code",
      "source": [
        "a is b"
      ],
      "metadata": {
        "colab": {
          "base_uri": "https://localhost:8080/"
        },
        "id": "aaCz48v7NEog",
        "outputId": "835911b7-22b7-4489-f2e7-fdcffe763cc7"
      },
      "execution_count": 11,
      "outputs": [
        {
          "output_type": "execute_result",
          "data": {
            "text/plain": [
              "False"
            ]
          },
          "metadata": {},
          "execution_count": 11
        }
      ]
    },
    {
      "cell_type": "code",
      "source": [
        "a is [1,2,3]"
      ],
      "metadata": {
        "colab": {
          "base_uri": "https://localhost:8080/"
        },
        "id": "yuiB5DeUNGUX",
        "outputId": "3d587445-58d0-4a88-8280-2442ff54504a"
      },
      "execution_count": 17,
      "outputs": [
        {
          "output_type": "execute_result",
          "data": {
            "text/plain": [
              "False"
            ]
          },
          "metadata": {},
          "execution_count": 17
        }
      ]
    },
    {
      "cell_type": "code",
      "source": [
        "b=a\n",
        "a is b"
      ],
      "metadata": {
        "colab": {
          "base_uri": "https://localhost:8080/"
        },
        "id": "hkH0sdk5NmqA",
        "outputId": "1cc207c0-22bf-4fd8-926a-d3278e70322f"
      },
      "execution_count": 19,
      "outputs": [
        {
          "output_type": "execute_result",
          "data": {
            "text/plain": [
              "True"
            ]
          },
          "metadata": {},
          "execution_count": 19
        }
      ]
    },
    {
      "cell_type": "code",
      "source": [
        "x = [\"apple\", \"banana\", \"cherry\"]\n",
        "\n",
        "y = x\n",
        "\n",
        "print(x is y)"
      ],
      "metadata": {
        "colab": {
          "base_uri": "https://localhost:8080/"
        },
        "id": "GO0N2jfZOBJN",
        "outputId": "9c13575b-fb51-445e-d2ac-6c8bb174acd5"
      },
      "execution_count": 21,
      "outputs": [
        {
          "output_type": "stream",
          "name": "stdout",
          "text": [
            "True\n"
          ]
        }
      ]
    },
    {
      "cell_type": "code",
      "source": [
        "x[0]=\"mango\""
      ],
      "metadata": {
        "id": "PnbPDf_8OBoR"
      },
      "execution_count": 22,
      "outputs": []
    },
    {
      "cell_type": "code",
      "source": [
        "x"
      ],
      "metadata": {
        "colab": {
          "base_uri": "https://localhost:8080/"
        },
        "id": "_SSSkwT1ObZG",
        "outputId": "75153203-e5c4-4918-89fa-c80f35512aaa"
      },
      "execution_count": 24,
      "outputs": [
        {
          "output_type": "execute_result",
          "data": {
            "text/plain": [
              "['mango', 'banana', 'cherry']"
            ]
          },
          "metadata": {},
          "execution_count": 24
        }
      ]
    },
    {
      "cell_type": "code",
      "source": [
        "True is True"
      ],
      "metadata": {
        "colab": {
          "base_uri": "https://localhost:8080/"
        },
        "id": "9glmGXNiQcJp",
        "outputId": "c9dcceb9-c939-4f58-db2d-347274939390"
      },
      "execution_count": 25,
      "outputs": [
        {
          "output_type": "execute_result",
          "data": {
            "text/plain": [
              "True"
            ]
          },
          "metadata": {},
          "execution_count": 25
        }
      ]
    },
    {
      "cell_type": "code",
      "source": [
        "False is True"
      ],
      "metadata": {
        "colab": {
          "base_uri": "https://localhost:8080/"
        },
        "id": "aWDdgv6TQeJi",
        "outputId": "a05139bc-5df5-4107-aab9-128f0536b2d6"
      },
      "execution_count": 26,
      "outputs": [
        {
          "output_type": "execute_result",
          "data": {
            "text/plain": [
              "False"
            ]
          },
          "metadata": {},
          "execution_count": 26
        }
      ]
    },
    {
      "cell_type": "code",
      "source": [
        "from copy import deepcopy\n",
        "a = ['x','y','z']\n",
        "b = deepcopy(a)\n",
        "b"
      ],
      "metadata": {
        "colab": {
          "base_uri": "https://localhost:8080/"
        },
        "id": "OSX0I0WJQgGL",
        "outputId": "6ce24a3b-c503-4fd4-9bb4-df57d599f53d"
      },
      "execution_count": 27,
      "outputs": [
        {
          "output_type": "execute_result",
          "data": {
            "text/plain": [
              "['x', 'y', 'z']"
            ]
          },
          "metadata": {},
          "execution_count": 27
        }
      ]
    },
    {
      "cell_type": "code",
      "source": [
        "a[0]=\"xy\"\n",
        "a #output: ['xy', 'y', 'z']\n",
        "b #output: ['x', 'y', 'z']"
      ],
      "metadata": {
        "colab": {
          "base_uri": "https://localhost:8080/"
        },
        "id": "R9_WmpugR_bj",
        "outputId": "6be90d52-7156-4d08-fe6d-8de4b830ce30"
      },
      "execution_count": 32,
      "outputs": [
        {
          "output_type": "execute_result",
          "data": {
            "text/plain": [
              "['x', 'y', 'z']"
            ]
          },
          "metadata": {},
          "execution_count": 32
        }
      ]
    },
    {
      "cell_type": "code",
      "source": [
        "q = 7\n",
        "w = q\n",
        "q #output: 7\n",
        "w #output: 7"
      ],
      "metadata": {
        "colab": {
          "base_uri": "https://localhost:8080/"
        },
        "id": "9CteE0-fSde2",
        "outputId": "2d240f90-2d29-45e7-e028-248616bb1301"
      },
      "execution_count": 35,
      "outputs": [
        {
          "output_type": "execute_result",
          "data": {
            "text/plain": [
              "7"
            ]
          },
          "metadata": {},
          "execution_count": 35
        }
      ]
    },
    {
      "cell_type": "code",
      "source": [
        "q = 11\n",
        "q #output: 11\n",
        "w #output: 7"
      ],
      "metadata": {
        "colab": {
          "base_uri": "https://localhost:8080/"
        },
        "id": "cVQfn2uCSotr",
        "outputId": "e6855a15-fa59-4876-9570-109532def60e"
      },
      "execution_count": 39,
      "outputs": [
        {
          "output_type": "execute_result",
          "data": {
            "text/plain": [
              "7"
            ]
          },
          "metadata": {},
          "execution_count": 39
        }
      ]
    },
    {
      "cell_type": "code",
      "source": [
        "def add_1(x):\n",
        "  print(x is a)\n",
        "  x = [1,2]\n",
        "  print(x is a)\n",
        "  return x\n",
        "\n",
        "a = [1,2,3]\n",
        "add_1(a) #output: True\n",
        "         #        False\n",
        "         #        [1,2]\n",
        "a        #output: [1, 2, 3]\n",
        "\n",
        "\n",
        "\n",
        "# x is a is True before reassignment, because both refer to the same list.\n",
        "\n",
        "# After x = [1, 2], x refers to a new list, so x is a becomes False.\n",
        "\n",
        "# The original list a remains unchanged\n",
        "# Because we never changed the contents of the original list a — we only reassigned x inside the function to a new list."
      ],
      "metadata": {
        "colab": {
          "base_uri": "https://localhost:8080/"
        },
        "id": "sFfRUpwQUkpx",
        "outputId": "a39cc5b9-8683-43e2-867a-8efc04faa10e"
      },
      "execution_count": 48,
      "outputs": [
        {
          "output_type": "stream",
          "name": "stdout",
          "text": [
            "True\n",
            "False\n"
          ]
        },
        {
          "output_type": "execute_result",
          "data": {
            "text/plain": [
              "[1, 2, 3]"
            ]
          },
          "metadata": {},
          "execution_count": 48
        }
      ]
    },
    {
      "cell_type": "markdown",
      "source": [
        "**File handling**\n",
        "1. *Opening a File*\n",
        "  ```python\n",
        "    file = open(\"filename.txt\", \"mode\")\n",
        "  ```\n",
        "  Modes:\n",
        "\n",
        "    `\"r\"` – Read (default), error if file doesn't exist\n",
        "\n",
        "    `\"w\"` – Write (creates new file or overwrites)\n",
        "\n",
        "    `\"a\"` – Append (adds to end of file)\n",
        "\n",
        "    `\"x\"` – Create (fails if file exists)\n",
        "\n",
        "    `\"b\"` – Binary mode (e.g. 'rb' or 'wb')\n",
        "\n",
        "    `\"t\"` – Text mode (default)\n",
        "2. *Reading from a File*\n",
        "    ```python\n",
        "      file = open(\"sample.txt\", \"r\")\n",
        "\n",
        "      # other read method\n",
        "        content = file.read()\n",
        "        print(content)\n",
        "        file.close()\n",
        "    ```\n",
        "\n",
        "3. *Writing to a File*\n",
        "  ```python\n",
        "  file = open(\"sample.txt\", \"w\")\n",
        "  file.write(\"Hello, world!\")\n",
        "  file.close()\n",
        "  ```\n",
        "  `For appending:`\n",
        "  ```python\n",
        "  file = open(\"sample.txt\", \"a\")\n",
        "  file.write(\"\\nThis is an added line.\")\n",
        "  file.close()\n",
        "  ```\n",
        "4. *Using with Statement (Best Practice)*\n",
        "\n",
        "  Automatically closes the file:\n",
        "\n",
        "  ```python\n",
        "  with open(\"sample.txt\", \"r\") as file:\n",
        "    data = file.read()\n",
        "    print(data)\n",
        "  ```\n",
        "\n",
        "5. *Check If File Exists*\n",
        "\n",
        "  ```python\n",
        "    import os\n",
        "\n",
        "    if os.path.exists(\"sample.txt\"):\n",
        "        print(\"File exists!\")\n",
        "    else:\n",
        "        print(\"File does not exist.\")\n",
        "  ```\n",
        "\n",
        "6.  Deleting a File\n",
        "\n",
        "  ```python\n",
        "    import os\n",
        "\n",
        "    os.remove(\"sample.txt\")\n",
        "  ```"
      ],
      "metadata": {
        "id": "6-cawziIaQkR"
      }
    },
    {
      "cell_type": "code",
      "source": [
        "!ls"
      ],
      "metadata": {
        "colab": {
          "base_uri": "https://localhost:8080/"
        },
        "id": "hB6nyuYGb7Wt",
        "outputId": "05dde31c-d008-44ab-9b19-531b8f24f828"
      },
      "execution_count": 49,
      "outputs": [
        {
          "output_type": "stream",
          "name": "stdout",
          "text": [
            "sample_data  test.txt\n"
          ]
        }
      ]
    },
    {
      "cell_type": "code",
      "source": [
        "p = \"test.txt\"\n",
        "with open(p,'r') as f:\n",
        "  for line in f:\n",
        "    print(line.rstrip())"
      ],
      "metadata": {
        "colab": {
          "base_uri": "https://localhost:8080/"
        },
        "id": "H2-KAk3DcDPO",
        "outputId": "02072553-924d-461a-a630-2c55c92ab34f"
      },
      "execution_count": 56,
      "outputs": [
        {
          "output_type": "stream",
          "name": "stdout",
          "text": [
            "Hello there\n",
            "I'm Rajan\n",
            "7\n",
            "43\n",
            "73\n",
            "This, is, end.\n"
          ]
        }
      ]
    },
    {
      "cell_type": "code",
      "source": [
        "with open(\"new_file.txt\",\"w\") as f:\n",
        "  f.write(\"Hi\")"
      ],
      "metadata": {
        "id": "bnX-tBiphalt"
      },
      "execution_count": 64,
      "outputs": []
    },
    {
      "cell_type": "code",
      "source": [
        "with open(\"new_file.txt\",\"a\") as f:\n",
        "  f.write(\"\\nNamaste,Nepal!\")"
      ],
      "metadata": {
        "id": "6PpymsEok9RA"
      },
      "execution_count": 70,
      "outputs": []
    },
    {
      "cell_type": "code",
      "source": [
        "import os\n",
        "\n",
        "if os.path.exists(\"sample.txt\"):\n",
        "    print(\"Sample does not exists!\")\n",
        "elif os.path.exists(\"new_file.txt\"):\n",
        "    print(\"File exists.\")\n",
        "else:\n",
        "  print(\"file doesn't exists.\")\n"
      ],
      "metadata": {
        "colab": {
          "base_uri": "https://localhost:8080/"
        },
        "id": "4kxJAV22kJIm",
        "outputId": "e581be98-9ed6-4888-883f-2ff83a10c8b4"
      },
      "execution_count": 66,
      "outputs": [
        {
          "output_type": "stream",
          "name": "stdout",
          "text": [
            "File exists.\n"
          ]
        }
      ]
    }
  ]
}